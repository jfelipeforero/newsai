{
  "nbformat": 4,
  "nbformat_minor": 0,
  "metadata": {
    "colab": {
      "provenance": [],
      "collapsed_sections": [
        "0C74SncgI7A7"
      ],
      "toc_visible": true
    },
    "kernelspec": {
      "name": "python3",
      "display_name": "Python 3"
    },
    "language_info": {
      "name": "python"
    },
    "widgets": {
      "application/vnd.jupyter.widget-state+json": {
        "2ecaf660891a42fdb965a08ad24d4ac1": {
          "model_module": "@jupyter-widgets/controls",
          "model_name": "HBoxModel",
          "model_module_version": "1.5.0",
          "state": {
            "_dom_classes": [],
            "_model_module": "@jupyter-widgets/controls",
            "_model_module_version": "1.5.0",
            "_model_name": "HBoxModel",
            "_view_count": null,
            "_view_module": "@jupyter-widgets/controls",
            "_view_module_version": "1.5.0",
            "_view_name": "HBoxView",
            "box_style": "",
            "children": [
              "IPY_MODEL_6196531056ca4cf2a5c7dbf8f648e61e",
              "IPY_MODEL_a99e02d432d94df8b615178281154279",
              "IPY_MODEL_0f8a7776b4e441bd87ccbed36759b576"
            ],
            "layout": "IPY_MODEL_c4a2119311dc4a26b9f7a45460d842c8"
          }
        },
        "6196531056ca4cf2a5c7dbf8f648e61e": {
          "model_module": "@jupyter-widgets/controls",
          "model_name": "HTMLModel",
          "model_module_version": "1.5.0",
          "state": {
            "_dom_classes": [],
            "_model_module": "@jupyter-widgets/controls",
            "_model_module_version": "1.5.0",
            "_model_name": "HTMLModel",
            "_view_count": null,
            "_view_module": "@jupyter-widgets/controls",
            "_view_module_version": "1.5.0",
            "_view_name": "HTMLView",
            "description": "",
            "description_tooltip": null,
            "layout": "IPY_MODEL_7a1105500d7a4c5c9b7043006fe216aa",
            "placeholder": "​",
            "style": "IPY_MODEL_a3d88628861d463f9221a23012c8993b",
            "value": "config.json: 100%"
          }
        },
        "a99e02d432d94df8b615178281154279": {
          "model_module": "@jupyter-widgets/controls",
          "model_name": "FloatProgressModel",
          "model_module_version": "1.5.0",
          "state": {
            "_dom_classes": [],
            "_model_module": "@jupyter-widgets/controls",
            "_model_module_version": "1.5.0",
            "_model_name": "FloatProgressModel",
            "_view_count": null,
            "_view_module": "@jupyter-widgets/controls",
            "_view_module_version": "1.5.0",
            "_view_name": "ProgressView",
            "bar_style": "success",
            "description": "",
            "description_tooltip": null,
            "layout": "IPY_MODEL_159d6232f18c4e6484cc0ad3aac464d6",
            "max": 1924,
            "min": 0,
            "orientation": "horizontal",
            "style": "IPY_MODEL_a2b9dccdb0c940e6b050d5329138d34f",
            "value": 1924
          }
        },
        "0f8a7776b4e441bd87ccbed36759b576": {
          "model_module": "@jupyter-widgets/controls",
          "model_name": "HTMLModel",
          "model_module_version": "1.5.0",
          "state": {
            "_dom_classes": [],
            "_model_module": "@jupyter-widgets/controls",
            "_model_module_version": "1.5.0",
            "_model_name": "HTMLModel",
            "_view_count": null,
            "_view_module": "@jupyter-widgets/controls",
            "_view_module_version": "1.5.0",
            "_view_name": "HTMLView",
            "description": "",
            "description_tooltip": null,
            "layout": "IPY_MODEL_2b791ff140f84a4da369c076508140ad",
            "placeholder": "​",
            "style": "IPY_MODEL_849db5b58be0481b82954170b2fd97fa",
            "value": " 1.92k/1.92k [00:00&lt;00:00, 57.0kB/s]"
          }
        },
        "c4a2119311dc4a26b9f7a45460d842c8": {
          "model_module": "@jupyter-widgets/base",
          "model_name": "LayoutModel",
          "model_module_version": "1.2.0",
          "state": {
            "_model_module": "@jupyter-widgets/base",
            "_model_module_version": "1.2.0",
            "_model_name": "LayoutModel",
            "_view_count": null,
            "_view_module": "@jupyter-widgets/base",
            "_view_module_version": "1.2.0",
            "_view_name": "LayoutView",
            "align_content": null,
            "align_items": null,
            "align_self": null,
            "border": null,
            "bottom": null,
            "display": null,
            "flex": null,
            "flex_flow": null,
            "grid_area": null,
            "grid_auto_columns": null,
            "grid_auto_flow": null,
            "grid_auto_rows": null,
            "grid_column": null,
            "grid_gap": null,
            "grid_row": null,
            "grid_template_areas": null,
            "grid_template_columns": null,
            "grid_template_rows": null,
            "height": null,
            "justify_content": null,
            "justify_items": null,
            "left": null,
            "margin": null,
            "max_height": null,
            "max_width": null,
            "min_height": null,
            "min_width": null,
            "object_fit": null,
            "object_position": null,
            "order": null,
            "overflow": null,
            "overflow_x": null,
            "overflow_y": null,
            "padding": null,
            "right": null,
            "top": null,
            "visibility": null,
            "width": null
          }
        },
        "7a1105500d7a4c5c9b7043006fe216aa": {
          "model_module": "@jupyter-widgets/base",
          "model_name": "LayoutModel",
          "model_module_version": "1.2.0",
          "state": {
            "_model_module": "@jupyter-widgets/base",
            "_model_module_version": "1.2.0",
            "_model_name": "LayoutModel",
            "_view_count": null,
            "_view_module": "@jupyter-widgets/base",
            "_view_module_version": "1.2.0",
            "_view_name": "LayoutView",
            "align_content": null,
            "align_items": null,
            "align_self": null,
            "border": null,
            "bottom": null,
            "display": null,
            "flex": null,
            "flex_flow": null,
            "grid_area": null,
            "grid_auto_columns": null,
            "grid_auto_flow": null,
            "grid_auto_rows": null,
            "grid_column": null,
            "grid_gap": null,
            "grid_row": null,
            "grid_template_areas": null,
            "grid_template_columns": null,
            "grid_template_rows": null,
            "height": null,
            "justify_content": null,
            "justify_items": null,
            "left": null,
            "margin": null,
            "max_height": null,
            "max_width": null,
            "min_height": null,
            "min_width": null,
            "object_fit": null,
            "object_position": null,
            "order": null,
            "overflow": null,
            "overflow_x": null,
            "overflow_y": null,
            "padding": null,
            "right": null,
            "top": null,
            "visibility": null,
            "width": null
          }
        },
        "a3d88628861d463f9221a23012c8993b": {
          "model_module": "@jupyter-widgets/controls",
          "model_name": "DescriptionStyleModel",
          "model_module_version": "1.5.0",
          "state": {
            "_model_module": "@jupyter-widgets/controls",
            "_model_module_version": "1.5.0",
            "_model_name": "DescriptionStyleModel",
            "_view_count": null,
            "_view_module": "@jupyter-widgets/base",
            "_view_module_version": "1.2.0",
            "_view_name": "StyleView",
            "description_width": ""
          }
        },
        "159d6232f18c4e6484cc0ad3aac464d6": {
          "model_module": "@jupyter-widgets/base",
          "model_name": "LayoutModel",
          "model_module_version": "1.2.0",
          "state": {
            "_model_module": "@jupyter-widgets/base",
            "_model_module_version": "1.2.0",
            "_model_name": "LayoutModel",
            "_view_count": null,
            "_view_module": "@jupyter-widgets/base",
            "_view_module_version": "1.2.0",
            "_view_name": "LayoutView",
            "align_content": null,
            "align_items": null,
            "align_self": null,
            "border": null,
            "bottom": null,
            "display": null,
            "flex": null,
            "flex_flow": null,
            "grid_area": null,
            "grid_auto_columns": null,
            "grid_auto_flow": null,
            "grid_auto_rows": null,
            "grid_column": null,
            "grid_gap": null,
            "grid_row": null,
            "grid_template_areas": null,
            "grid_template_columns": null,
            "grid_template_rows": null,
            "height": null,
            "justify_content": null,
            "justify_items": null,
            "left": null,
            "margin": null,
            "max_height": null,
            "max_width": null,
            "min_height": null,
            "min_width": null,
            "object_fit": null,
            "object_position": null,
            "order": null,
            "overflow": null,
            "overflow_x": null,
            "overflow_y": null,
            "padding": null,
            "right": null,
            "top": null,
            "visibility": null,
            "width": null
          }
        },
        "a2b9dccdb0c940e6b050d5329138d34f": {
          "model_module": "@jupyter-widgets/controls",
          "model_name": "ProgressStyleModel",
          "model_module_version": "1.5.0",
          "state": {
            "_model_module": "@jupyter-widgets/controls",
            "_model_module_version": "1.5.0",
            "_model_name": "ProgressStyleModel",
            "_view_count": null,
            "_view_module": "@jupyter-widgets/base",
            "_view_module_version": "1.2.0",
            "_view_name": "StyleView",
            "bar_color": null,
            "description_width": ""
          }
        },
        "2b791ff140f84a4da369c076508140ad": {
          "model_module": "@jupyter-widgets/base",
          "model_name": "LayoutModel",
          "model_module_version": "1.2.0",
          "state": {
            "_model_module": "@jupyter-widgets/base",
            "_model_module_version": "1.2.0",
            "_model_name": "LayoutModel",
            "_view_count": null,
            "_view_module": "@jupyter-widgets/base",
            "_view_module_version": "1.2.0",
            "_view_name": "LayoutView",
            "align_content": null,
            "align_items": null,
            "align_self": null,
            "border": null,
            "bottom": null,
            "display": null,
            "flex": null,
            "flex_flow": null,
            "grid_area": null,
            "grid_auto_columns": null,
            "grid_auto_flow": null,
            "grid_auto_rows": null,
            "grid_column": null,
            "grid_gap": null,
            "grid_row": null,
            "grid_template_areas": null,
            "grid_template_columns": null,
            "grid_template_rows": null,
            "height": null,
            "justify_content": null,
            "justify_items": null,
            "left": null,
            "margin": null,
            "max_height": null,
            "max_width": null,
            "min_height": null,
            "min_width": null,
            "object_fit": null,
            "object_position": null,
            "order": null,
            "overflow": null,
            "overflow_x": null,
            "overflow_y": null,
            "padding": null,
            "right": null,
            "top": null,
            "visibility": null,
            "width": null
          }
        },
        "849db5b58be0481b82954170b2fd97fa": {
          "model_module": "@jupyter-widgets/controls",
          "model_name": "DescriptionStyleModel",
          "model_module_version": "1.5.0",
          "state": {
            "_model_module": "@jupyter-widgets/controls",
            "_model_module_version": "1.5.0",
            "_model_name": "DescriptionStyleModel",
            "_view_count": null,
            "_view_module": "@jupyter-widgets/base",
            "_view_module_version": "1.2.0",
            "_view_name": "StyleView",
            "description_width": ""
          }
        },
        "19d096fd4ca44fe6a7e5ef96e1498a54": {
          "model_module": "@jupyter-widgets/controls",
          "model_name": "HBoxModel",
          "model_module_version": "1.5.0",
          "state": {
            "_dom_classes": [],
            "_model_module": "@jupyter-widgets/controls",
            "_model_module_version": "1.5.0",
            "_model_name": "HBoxModel",
            "_view_count": null,
            "_view_module": "@jupyter-widgets/controls",
            "_view_module_version": "1.5.0",
            "_view_name": "HBoxView",
            "box_style": "",
            "children": [
              "IPY_MODEL_56d7b5a51116467f89d94ee70383b332",
              "IPY_MODEL_3d29947e04484838a29db9a3d1ef303d",
              "IPY_MODEL_a6e12c0104c740f098e6cafbb7aec7f9"
            ],
            "layout": "IPY_MODEL_80e1c1ad64f047b28948a8946138358e"
          }
        },
        "56d7b5a51116467f89d94ee70383b332": {
          "model_module": "@jupyter-widgets/controls",
          "model_name": "HTMLModel",
          "model_module_version": "1.5.0",
          "state": {
            "_dom_classes": [],
            "_model_module": "@jupyter-widgets/controls",
            "_model_module_version": "1.5.0",
            "_model_name": "HTMLModel",
            "_view_count": null,
            "_view_module": "@jupyter-widgets/controls",
            "_view_module_version": "1.5.0",
            "_view_name": "HTMLView",
            "description": "",
            "description_tooltip": null,
            "layout": "IPY_MODEL_28d64b7a5beb424caa529a91b17a3994",
            "placeholder": "​",
            "style": "IPY_MODEL_1f5bca9dccd94e93bf68db5ff0d29caa",
            "value": "model.safetensors: 100%"
          }
        },
        "3d29947e04484838a29db9a3d1ef303d": {
          "model_module": "@jupyter-widgets/controls",
          "model_name": "FloatProgressModel",
          "model_module_version": "1.5.0",
          "state": {
            "_dom_classes": [],
            "_model_module": "@jupyter-widgets/controls",
            "_model_module_version": "1.5.0",
            "_model_name": "FloatProgressModel",
            "_view_count": null,
            "_view_module": "@jupyter-widgets/controls",
            "_view_module_version": "1.5.0",
            "_view_name": "ProgressView",
            "bar_style": "success",
            "description": "",
            "description_tooltip": null,
            "layout": "IPY_MODEL_1bdd6e200d5d476a97469d8d6ccaacfe",
            "max": 498697004,
            "min": 0,
            "orientation": "horizontal",
            "style": "IPY_MODEL_0b4782c105c94a0f88ecf5295d93b239",
            "value": 498697004
          }
        },
        "a6e12c0104c740f098e6cafbb7aec7f9": {
          "model_module": "@jupyter-widgets/controls",
          "model_name": "HTMLModel",
          "model_module_version": "1.5.0",
          "state": {
            "_dom_classes": [],
            "_model_module": "@jupyter-widgets/controls",
            "_model_module_version": "1.5.0",
            "_model_name": "HTMLModel",
            "_view_count": null,
            "_view_module": "@jupyter-widgets/controls",
            "_view_module_version": "1.5.0",
            "_view_name": "HTMLView",
            "description": "",
            "description_tooltip": null,
            "layout": "IPY_MODEL_8958afccec5b4e3895c148d216fbe56a",
            "placeholder": "​",
            "style": "IPY_MODEL_d39f627b272d469eaafa5aace69a48b8",
            "value": " 499M/499M [00:06&lt;00:00, 110MB/s]"
          }
        },
        "80e1c1ad64f047b28948a8946138358e": {
          "model_module": "@jupyter-widgets/base",
          "model_name": "LayoutModel",
          "model_module_version": "1.2.0",
          "state": {
            "_model_module": "@jupyter-widgets/base",
            "_model_module_version": "1.2.0",
            "_model_name": "LayoutModel",
            "_view_count": null,
            "_view_module": "@jupyter-widgets/base",
            "_view_module_version": "1.2.0",
            "_view_name": "LayoutView",
            "align_content": null,
            "align_items": null,
            "align_self": null,
            "border": null,
            "bottom": null,
            "display": null,
            "flex": null,
            "flex_flow": null,
            "grid_area": null,
            "grid_auto_columns": null,
            "grid_auto_flow": null,
            "grid_auto_rows": null,
            "grid_column": null,
            "grid_gap": null,
            "grid_row": null,
            "grid_template_areas": null,
            "grid_template_columns": null,
            "grid_template_rows": null,
            "height": null,
            "justify_content": null,
            "justify_items": null,
            "left": null,
            "margin": null,
            "max_height": null,
            "max_width": null,
            "min_height": null,
            "min_width": null,
            "object_fit": null,
            "object_position": null,
            "order": null,
            "overflow": null,
            "overflow_x": null,
            "overflow_y": null,
            "padding": null,
            "right": null,
            "top": null,
            "visibility": null,
            "width": null
          }
        },
        "28d64b7a5beb424caa529a91b17a3994": {
          "model_module": "@jupyter-widgets/base",
          "model_name": "LayoutModel",
          "model_module_version": "1.2.0",
          "state": {
            "_model_module": "@jupyter-widgets/base",
            "_model_module_version": "1.2.0",
            "_model_name": "LayoutModel",
            "_view_count": null,
            "_view_module": "@jupyter-widgets/base",
            "_view_module_version": "1.2.0",
            "_view_name": "LayoutView",
            "align_content": null,
            "align_items": null,
            "align_self": null,
            "border": null,
            "bottom": null,
            "display": null,
            "flex": null,
            "flex_flow": null,
            "grid_area": null,
            "grid_auto_columns": null,
            "grid_auto_flow": null,
            "grid_auto_rows": null,
            "grid_column": null,
            "grid_gap": null,
            "grid_row": null,
            "grid_template_areas": null,
            "grid_template_columns": null,
            "grid_template_rows": null,
            "height": null,
            "justify_content": null,
            "justify_items": null,
            "left": null,
            "margin": null,
            "max_height": null,
            "max_width": null,
            "min_height": null,
            "min_width": null,
            "object_fit": null,
            "object_position": null,
            "order": null,
            "overflow": null,
            "overflow_x": null,
            "overflow_y": null,
            "padding": null,
            "right": null,
            "top": null,
            "visibility": null,
            "width": null
          }
        },
        "1f5bca9dccd94e93bf68db5ff0d29caa": {
          "model_module": "@jupyter-widgets/controls",
          "model_name": "DescriptionStyleModel",
          "model_module_version": "1.5.0",
          "state": {
            "_model_module": "@jupyter-widgets/controls",
            "_model_module_version": "1.5.0",
            "_model_name": "DescriptionStyleModel",
            "_view_count": null,
            "_view_module": "@jupyter-widgets/base",
            "_view_module_version": "1.2.0",
            "_view_name": "StyleView",
            "description_width": ""
          }
        },
        "1bdd6e200d5d476a97469d8d6ccaacfe": {
          "model_module": "@jupyter-widgets/base",
          "model_name": "LayoutModel",
          "model_module_version": "1.2.0",
          "state": {
            "_model_module": "@jupyter-widgets/base",
            "_model_module_version": "1.2.0",
            "_model_name": "LayoutModel",
            "_view_count": null,
            "_view_module": "@jupyter-widgets/base",
            "_view_module_version": "1.2.0",
            "_view_name": "LayoutView",
            "align_content": null,
            "align_items": null,
            "align_self": null,
            "border": null,
            "bottom": null,
            "display": null,
            "flex": null,
            "flex_flow": null,
            "grid_area": null,
            "grid_auto_columns": null,
            "grid_auto_flow": null,
            "grid_auto_rows": null,
            "grid_column": null,
            "grid_gap": null,
            "grid_row": null,
            "grid_template_areas": null,
            "grid_template_columns": null,
            "grid_template_rows": null,
            "height": null,
            "justify_content": null,
            "justify_items": null,
            "left": null,
            "margin": null,
            "max_height": null,
            "max_width": null,
            "min_height": null,
            "min_width": null,
            "object_fit": null,
            "object_position": null,
            "order": null,
            "overflow": null,
            "overflow_x": null,
            "overflow_y": null,
            "padding": null,
            "right": null,
            "top": null,
            "visibility": null,
            "width": null
          }
        },
        "0b4782c105c94a0f88ecf5295d93b239": {
          "model_module": "@jupyter-widgets/controls",
          "model_name": "ProgressStyleModel",
          "model_module_version": "1.5.0",
          "state": {
            "_model_module": "@jupyter-widgets/controls",
            "_model_module_version": "1.5.0",
            "_model_name": "ProgressStyleModel",
            "_view_count": null,
            "_view_module": "@jupyter-widgets/base",
            "_view_module_version": "1.2.0",
            "_view_name": "StyleView",
            "bar_color": null,
            "description_width": ""
          }
        },
        "8958afccec5b4e3895c148d216fbe56a": {
          "model_module": "@jupyter-widgets/base",
          "model_name": "LayoutModel",
          "model_module_version": "1.2.0",
          "state": {
            "_model_module": "@jupyter-widgets/base",
            "_model_module_version": "1.2.0",
            "_model_name": "LayoutModel",
            "_view_count": null,
            "_view_module": "@jupyter-widgets/base",
            "_view_module_version": "1.2.0",
            "_view_name": "LayoutView",
            "align_content": null,
            "align_items": null,
            "align_self": null,
            "border": null,
            "bottom": null,
            "display": null,
            "flex": null,
            "flex_flow": null,
            "grid_area": null,
            "grid_auto_columns": null,
            "grid_auto_flow": null,
            "grid_auto_rows": null,
            "grid_column": null,
            "grid_gap": null,
            "grid_row": null,
            "grid_template_areas": null,
            "grid_template_columns": null,
            "grid_template_rows": null,
            "height": null,
            "justify_content": null,
            "justify_items": null,
            "left": null,
            "margin": null,
            "max_height": null,
            "max_width": null,
            "min_height": null,
            "min_width": null,
            "object_fit": null,
            "object_position": null,
            "order": null,
            "overflow": null,
            "overflow_x": null,
            "overflow_y": null,
            "padding": null,
            "right": null,
            "top": null,
            "visibility": null,
            "width": null
          }
        },
        "d39f627b272d469eaafa5aace69a48b8": {
          "model_module": "@jupyter-widgets/controls",
          "model_name": "DescriptionStyleModel",
          "model_module_version": "1.5.0",
          "state": {
            "_model_module": "@jupyter-widgets/controls",
            "_model_module_version": "1.5.0",
            "_model_name": "DescriptionStyleModel",
            "_view_count": null,
            "_view_module": "@jupyter-widgets/base",
            "_view_module_version": "1.2.0",
            "_view_name": "StyleView",
            "description_width": ""
          }
        },
        "b2c7460981164f52a1ded77c712d1d43": {
          "model_module": "@jupyter-widgets/controls",
          "model_name": "HBoxModel",
          "model_module_version": "1.5.0",
          "state": {
            "_dom_classes": [],
            "_model_module": "@jupyter-widgets/controls",
            "_model_module_version": "1.5.0",
            "_model_name": "HBoxModel",
            "_view_count": null,
            "_view_module": "@jupyter-widgets/controls",
            "_view_module_version": "1.5.0",
            "_view_name": "HBoxView",
            "box_style": "",
            "children": [
              "IPY_MODEL_78c9e9c57f804bc79e282a3a3f4965c7",
              "IPY_MODEL_38da6348ef104fdd9be38014a17e0055",
              "IPY_MODEL_02d69a8fb8e24741a5eddffda83a9818"
            ],
            "layout": "IPY_MODEL_957821da4dd142c7b6a1cddd549673f9"
          }
        },
        "78c9e9c57f804bc79e282a3a3f4965c7": {
          "model_module": "@jupyter-widgets/controls",
          "model_name": "HTMLModel",
          "model_module_version": "1.5.0",
          "state": {
            "_dom_classes": [],
            "_model_module": "@jupyter-widgets/controls",
            "_model_module_version": "1.5.0",
            "_model_name": "HTMLModel",
            "_view_count": null,
            "_view_module": "@jupyter-widgets/controls",
            "_view_module_version": "1.5.0",
            "_view_name": "HTMLView",
            "description": "",
            "description_tooltip": null,
            "layout": "IPY_MODEL_2321184c1c0f49599571a7b9956f48c9",
            "placeholder": "​",
            "style": "IPY_MODEL_b21411eef45d4d76a3351f45dfc351f3",
            "value": "tokenizer_config.json: 100%"
          }
        },
        "38da6348ef104fdd9be38014a17e0055": {
          "model_module": "@jupyter-widgets/controls",
          "model_name": "FloatProgressModel",
          "model_module_version": "1.5.0",
          "state": {
            "_dom_classes": [],
            "_model_module": "@jupyter-widgets/controls",
            "_model_module_version": "1.5.0",
            "_model_name": "FloatProgressModel",
            "_view_count": null,
            "_view_module": "@jupyter-widgets/controls",
            "_view_module_version": "1.5.0",
            "_view_name": "ProgressView",
            "bar_style": "success",
            "description": "",
            "description_tooltip": null,
            "layout": "IPY_MODEL_7b757567ecd94a339842a98a21328bfd",
            "max": 380,
            "min": 0,
            "orientation": "horizontal",
            "style": "IPY_MODEL_fba39247c1eb4d1eb7054ceaa6f65a97",
            "value": 380
          }
        },
        "02d69a8fb8e24741a5eddffda83a9818": {
          "model_module": "@jupyter-widgets/controls",
          "model_name": "HTMLModel",
          "model_module_version": "1.5.0",
          "state": {
            "_dom_classes": [],
            "_model_module": "@jupyter-widgets/controls",
            "_model_module_version": "1.5.0",
            "_model_name": "HTMLModel",
            "_view_count": null,
            "_view_module": "@jupyter-widgets/controls",
            "_view_module_version": "1.5.0",
            "_view_name": "HTMLView",
            "description": "",
            "description_tooltip": null,
            "layout": "IPY_MODEL_dd8f19a9f95f4926b3fdc6d1904739e0",
            "placeholder": "​",
            "style": "IPY_MODEL_6f7a15a675ef4db7b27b9781614ffcdb",
            "value": " 380/380 [00:00&lt;00:00, 14.6kB/s]"
          }
        },
        "957821da4dd142c7b6a1cddd549673f9": {
          "model_module": "@jupyter-widgets/base",
          "model_name": "LayoutModel",
          "model_module_version": "1.2.0",
          "state": {
            "_model_module": "@jupyter-widgets/base",
            "_model_module_version": "1.2.0",
            "_model_name": "LayoutModel",
            "_view_count": null,
            "_view_module": "@jupyter-widgets/base",
            "_view_module_version": "1.2.0",
            "_view_name": "LayoutView",
            "align_content": null,
            "align_items": null,
            "align_self": null,
            "border": null,
            "bottom": null,
            "display": null,
            "flex": null,
            "flex_flow": null,
            "grid_area": null,
            "grid_auto_columns": null,
            "grid_auto_flow": null,
            "grid_auto_rows": null,
            "grid_column": null,
            "grid_gap": null,
            "grid_row": null,
            "grid_template_areas": null,
            "grid_template_columns": null,
            "grid_template_rows": null,
            "height": null,
            "justify_content": null,
            "justify_items": null,
            "left": null,
            "margin": null,
            "max_height": null,
            "max_width": null,
            "min_height": null,
            "min_width": null,
            "object_fit": null,
            "object_position": null,
            "order": null,
            "overflow": null,
            "overflow_x": null,
            "overflow_y": null,
            "padding": null,
            "right": null,
            "top": null,
            "visibility": null,
            "width": null
          }
        },
        "2321184c1c0f49599571a7b9956f48c9": {
          "model_module": "@jupyter-widgets/base",
          "model_name": "LayoutModel",
          "model_module_version": "1.2.0",
          "state": {
            "_model_module": "@jupyter-widgets/base",
            "_model_module_version": "1.2.0",
            "_model_name": "LayoutModel",
            "_view_count": null,
            "_view_module": "@jupyter-widgets/base",
            "_view_module_version": "1.2.0",
            "_view_name": "LayoutView",
            "align_content": null,
            "align_items": null,
            "align_self": null,
            "border": null,
            "bottom": null,
            "display": null,
            "flex": null,
            "flex_flow": null,
            "grid_area": null,
            "grid_auto_columns": null,
            "grid_auto_flow": null,
            "grid_auto_rows": null,
            "grid_column": null,
            "grid_gap": null,
            "grid_row": null,
            "grid_template_areas": null,
            "grid_template_columns": null,
            "grid_template_rows": null,
            "height": null,
            "justify_content": null,
            "justify_items": null,
            "left": null,
            "margin": null,
            "max_height": null,
            "max_width": null,
            "min_height": null,
            "min_width": null,
            "object_fit": null,
            "object_position": null,
            "order": null,
            "overflow": null,
            "overflow_x": null,
            "overflow_y": null,
            "padding": null,
            "right": null,
            "top": null,
            "visibility": null,
            "width": null
          }
        },
        "b21411eef45d4d76a3351f45dfc351f3": {
          "model_module": "@jupyter-widgets/controls",
          "model_name": "DescriptionStyleModel",
          "model_module_version": "1.5.0",
          "state": {
            "_model_module": "@jupyter-widgets/controls",
            "_model_module_version": "1.5.0",
            "_model_name": "DescriptionStyleModel",
            "_view_count": null,
            "_view_module": "@jupyter-widgets/base",
            "_view_module_version": "1.2.0",
            "_view_name": "StyleView",
            "description_width": ""
          }
        },
        "7b757567ecd94a339842a98a21328bfd": {
          "model_module": "@jupyter-widgets/base",
          "model_name": "LayoutModel",
          "model_module_version": "1.2.0",
          "state": {
            "_model_module": "@jupyter-widgets/base",
            "_model_module_version": "1.2.0",
            "_model_name": "LayoutModel",
            "_view_count": null,
            "_view_module": "@jupyter-widgets/base",
            "_view_module_version": "1.2.0",
            "_view_name": "LayoutView",
            "align_content": null,
            "align_items": null,
            "align_self": null,
            "border": null,
            "bottom": null,
            "display": null,
            "flex": null,
            "flex_flow": null,
            "grid_area": null,
            "grid_auto_columns": null,
            "grid_auto_flow": null,
            "grid_auto_rows": null,
            "grid_column": null,
            "grid_gap": null,
            "grid_row": null,
            "grid_template_areas": null,
            "grid_template_columns": null,
            "grid_template_rows": null,
            "height": null,
            "justify_content": null,
            "justify_items": null,
            "left": null,
            "margin": null,
            "max_height": null,
            "max_width": null,
            "min_height": null,
            "min_width": null,
            "object_fit": null,
            "object_position": null,
            "order": null,
            "overflow": null,
            "overflow_x": null,
            "overflow_y": null,
            "padding": null,
            "right": null,
            "top": null,
            "visibility": null,
            "width": null
          }
        },
        "fba39247c1eb4d1eb7054ceaa6f65a97": {
          "model_module": "@jupyter-widgets/controls",
          "model_name": "ProgressStyleModel",
          "model_module_version": "1.5.0",
          "state": {
            "_model_module": "@jupyter-widgets/controls",
            "_model_module_version": "1.5.0",
            "_model_name": "ProgressStyleModel",
            "_view_count": null,
            "_view_module": "@jupyter-widgets/base",
            "_view_module_version": "1.2.0",
            "_view_name": "StyleView",
            "bar_color": null,
            "description_width": ""
          }
        },
        "dd8f19a9f95f4926b3fdc6d1904739e0": {
          "model_module": "@jupyter-widgets/base",
          "model_name": "LayoutModel",
          "model_module_version": "1.2.0",
          "state": {
            "_model_module": "@jupyter-widgets/base",
            "_model_module_version": "1.2.0",
            "_model_name": "LayoutModel",
            "_view_count": null,
            "_view_module": "@jupyter-widgets/base",
            "_view_module_version": "1.2.0",
            "_view_name": "LayoutView",
            "align_content": null,
            "align_items": null,
            "align_self": null,
            "border": null,
            "bottom": null,
            "display": null,
            "flex": null,
            "flex_flow": null,
            "grid_area": null,
            "grid_auto_columns": null,
            "grid_auto_flow": null,
            "grid_auto_rows": null,
            "grid_column": null,
            "grid_gap": null,
            "grid_row": null,
            "grid_template_areas": null,
            "grid_template_columns": null,
            "grid_template_rows": null,
            "height": null,
            "justify_content": null,
            "justify_items": null,
            "left": null,
            "margin": null,
            "max_height": null,
            "max_width": null,
            "min_height": null,
            "min_width": null,
            "object_fit": null,
            "object_position": null,
            "order": null,
            "overflow": null,
            "overflow_x": null,
            "overflow_y": null,
            "padding": null,
            "right": null,
            "top": null,
            "visibility": null,
            "width": null
          }
        },
        "6f7a15a675ef4db7b27b9781614ffcdb": {
          "model_module": "@jupyter-widgets/controls",
          "model_name": "DescriptionStyleModel",
          "model_module_version": "1.5.0",
          "state": {
            "_model_module": "@jupyter-widgets/controls",
            "_model_module_version": "1.5.0",
            "_model_name": "DescriptionStyleModel",
            "_view_count": null,
            "_view_module": "@jupyter-widgets/base",
            "_view_module_version": "1.2.0",
            "_view_name": "StyleView",
            "description_width": ""
          }
        },
        "d4bb2a7e7172473daf4df2185d32f287": {
          "model_module": "@jupyter-widgets/controls",
          "model_name": "HBoxModel",
          "model_module_version": "1.5.0",
          "state": {
            "_dom_classes": [],
            "_model_module": "@jupyter-widgets/controls",
            "_model_module_version": "1.5.0",
            "_model_name": "HBoxModel",
            "_view_count": null,
            "_view_module": "@jupyter-widgets/controls",
            "_view_module_version": "1.5.0",
            "_view_name": "HBoxView",
            "box_style": "",
            "children": [
              "IPY_MODEL_7048b39455a341faa1cc46fa1f0ab972",
              "IPY_MODEL_228c88320e9b46e8936adeda6f26193f",
              "IPY_MODEL_7a531c05bdf64ea6a53717adc5ec52e3"
            ],
            "layout": "IPY_MODEL_f912b7edad4845bfa03a2027fbafe6d1"
          }
        },
        "7048b39455a341faa1cc46fa1f0ab972": {
          "model_module": "@jupyter-widgets/controls",
          "model_name": "HTMLModel",
          "model_module_version": "1.5.0",
          "state": {
            "_dom_classes": [],
            "_model_module": "@jupyter-widgets/controls",
            "_model_module_version": "1.5.0",
            "_model_name": "HTMLModel",
            "_view_count": null,
            "_view_module": "@jupyter-widgets/controls",
            "_view_module_version": "1.5.0",
            "_view_name": "HTMLView",
            "description": "",
            "description_tooltip": null,
            "layout": "IPY_MODEL_e341fcd2486f4b1899d384cede820e87",
            "placeholder": "​",
            "style": "IPY_MODEL_d7607d910251469bbea54bd9756f643a",
            "value": "vocab.json: 100%"
          }
        },
        "228c88320e9b46e8936adeda6f26193f": {
          "model_module": "@jupyter-widgets/controls",
          "model_name": "FloatProgressModel",
          "model_module_version": "1.5.0",
          "state": {
            "_dom_classes": [],
            "_model_module": "@jupyter-widgets/controls",
            "_model_module_version": "1.5.0",
            "_model_name": "FloatProgressModel",
            "_view_count": null,
            "_view_module": "@jupyter-widgets/controls",
            "_view_module_version": "1.5.0",
            "_view_name": "ProgressView",
            "bar_style": "success",
            "description": "",
            "description_tooltip": null,
            "layout": "IPY_MODEL_42ab6d69e2064dda963f38a428dec422",
            "max": 798293,
            "min": 0,
            "orientation": "horizontal",
            "style": "IPY_MODEL_5d425b60afac4a5f8de6746c5a4654df",
            "value": 798293
          }
        },
        "7a531c05bdf64ea6a53717adc5ec52e3": {
          "model_module": "@jupyter-widgets/controls",
          "model_name": "HTMLModel",
          "model_module_version": "1.5.0",
          "state": {
            "_dom_classes": [],
            "_model_module": "@jupyter-widgets/controls",
            "_model_module_version": "1.5.0",
            "_model_name": "HTMLModel",
            "_view_count": null,
            "_view_module": "@jupyter-widgets/controls",
            "_view_module_version": "1.5.0",
            "_view_name": "HTMLView",
            "description": "",
            "description_tooltip": null,
            "layout": "IPY_MODEL_375147d4cd104e62b748bba08f20e247",
            "placeholder": "​",
            "style": "IPY_MODEL_354ba04762cf4976aeb3e07ad690d84d",
            "value": " 798k/798k [00:00&lt;00:00, 8.75MB/s]"
          }
        },
        "f912b7edad4845bfa03a2027fbafe6d1": {
          "model_module": "@jupyter-widgets/base",
          "model_name": "LayoutModel",
          "model_module_version": "1.2.0",
          "state": {
            "_model_module": "@jupyter-widgets/base",
            "_model_module_version": "1.2.0",
            "_model_name": "LayoutModel",
            "_view_count": null,
            "_view_module": "@jupyter-widgets/base",
            "_view_module_version": "1.2.0",
            "_view_name": "LayoutView",
            "align_content": null,
            "align_items": null,
            "align_self": null,
            "border": null,
            "bottom": null,
            "display": null,
            "flex": null,
            "flex_flow": null,
            "grid_area": null,
            "grid_auto_columns": null,
            "grid_auto_flow": null,
            "grid_auto_rows": null,
            "grid_column": null,
            "grid_gap": null,
            "grid_row": null,
            "grid_template_areas": null,
            "grid_template_columns": null,
            "grid_template_rows": null,
            "height": null,
            "justify_content": null,
            "justify_items": null,
            "left": null,
            "margin": null,
            "max_height": null,
            "max_width": null,
            "min_height": null,
            "min_width": null,
            "object_fit": null,
            "object_position": null,
            "order": null,
            "overflow": null,
            "overflow_x": null,
            "overflow_y": null,
            "padding": null,
            "right": null,
            "top": null,
            "visibility": null,
            "width": null
          }
        },
        "e341fcd2486f4b1899d384cede820e87": {
          "model_module": "@jupyter-widgets/base",
          "model_name": "LayoutModel",
          "model_module_version": "1.2.0",
          "state": {
            "_model_module": "@jupyter-widgets/base",
            "_model_module_version": "1.2.0",
            "_model_name": "LayoutModel",
            "_view_count": null,
            "_view_module": "@jupyter-widgets/base",
            "_view_module_version": "1.2.0",
            "_view_name": "LayoutView",
            "align_content": null,
            "align_items": null,
            "align_self": null,
            "border": null,
            "bottom": null,
            "display": null,
            "flex": null,
            "flex_flow": null,
            "grid_area": null,
            "grid_auto_columns": null,
            "grid_auto_flow": null,
            "grid_auto_rows": null,
            "grid_column": null,
            "grid_gap": null,
            "grid_row": null,
            "grid_template_areas": null,
            "grid_template_columns": null,
            "grid_template_rows": null,
            "height": null,
            "justify_content": null,
            "justify_items": null,
            "left": null,
            "margin": null,
            "max_height": null,
            "max_width": null,
            "min_height": null,
            "min_width": null,
            "object_fit": null,
            "object_position": null,
            "order": null,
            "overflow": null,
            "overflow_x": null,
            "overflow_y": null,
            "padding": null,
            "right": null,
            "top": null,
            "visibility": null,
            "width": null
          }
        },
        "d7607d910251469bbea54bd9756f643a": {
          "model_module": "@jupyter-widgets/controls",
          "model_name": "DescriptionStyleModel",
          "model_module_version": "1.5.0",
          "state": {
            "_model_module": "@jupyter-widgets/controls",
            "_model_module_version": "1.5.0",
            "_model_name": "DescriptionStyleModel",
            "_view_count": null,
            "_view_module": "@jupyter-widgets/base",
            "_view_module_version": "1.2.0",
            "_view_name": "StyleView",
            "description_width": ""
          }
        },
        "42ab6d69e2064dda963f38a428dec422": {
          "model_module": "@jupyter-widgets/base",
          "model_name": "LayoutModel",
          "model_module_version": "1.2.0",
          "state": {
            "_model_module": "@jupyter-widgets/base",
            "_model_module_version": "1.2.0",
            "_model_name": "LayoutModel",
            "_view_count": null,
            "_view_module": "@jupyter-widgets/base",
            "_view_module_version": "1.2.0",
            "_view_name": "LayoutView",
            "align_content": null,
            "align_items": null,
            "align_self": null,
            "border": null,
            "bottom": null,
            "display": null,
            "flex": null,
            "flex_flow": null,
            "grid_area": null,
            "grid_auto_columns": null,
            "grid_auto_flow": null,
            "grid_auto_rows": null,
            "grid_column": null,
            "grid_gap": null,
            "grid_row": null,
            "grid_template_areas": null,
            "grid_template_columns": null,
            "grid_template_rows": null,
            "height": null,
            "justify_content": null,
            "justify_items": null,
            "left": null,
            "margin": null,
            "max_height": null,
            "max_width": null,
            "min_height": null,
            "min_width": null,
            "object_fit": null,
            "object_position": null,
            "order": null,
            "overflow": null,
            "overflow_x": null,
            "overflow_y": null,
            "padding": null,
            "right": null,
            "top": null,
            "visibility": null,
            "width": null
          }
        },
        "5d425b60afac4a5f8de6746c5a4654df": {
          "model_module": "@jupyter-widgets/controls",
          "model_name": "ProgressStyleModel",
          "model_module_version": "1.5.0",
          "state": {
            "_model_module": "@jupyter-widgets/controls",
            "_model_module_version": "1.5.0",
            "_model_name": "ProgressStyleModel",
            "_view_count": null,
            "_view_module": "@jupyter-widgets/base",
            "_view_module_version": "1.2.0",
            "_view_name": "StyleView",
            "bar_color": null,
            "description_width": ""
          }
        },
        "375147d4cd104e62b748bba08f20e247": {
          "model_module": "@jupyter-widgets/base",
          "model_name": "LayoutModel",
          "model_module_version": "1.2.0",
          "state": {
            "_model_module": "@jupyter-widgets/base",
            "_model_module_version": "1.2.0",
            "_model_name": "LayoutModel",
            "_view_count": null,
            "_view_module": "@jupyter-widgets/base",
            "_view_module_version": "1.2.0",
            "_view_name": "LayoutView",
            "align_content": null,
            "align_items": null,
            "align_self": null,
            "border": null,
            "bottom": null,
            "display": null,
            "flex": null,
            "flex_flow": null,
            "grid_area": null,
            "grid_auto_columns": null,
            "grid_auto_flow": null,
            "grid_auto_rows": null,
            "grid_column": null,
            "grid_gap": null,
            "grid_row": null,
            "grid_template_areas": null,
            "grid_template_columns": null,
            "grid_template_rows": null,
            "height": null,
            "justify_content": null,
            "justify_items": null,
            "left": null,
            "margin": null,
            "max_height": null,
            "max_width": null,
            "min_height": null,
            "min_width": null,
            "object_fit": null,
            "object_position": null,
            "order": null,
            "overflow": null,
            "overflow_x": null,
            "overflow_y": null,
            "padding": null,
            "right": null,
            "top": null,
            "visibility": null,
            "width": null
          }
        },
        "354ba04762cf4976aeb3e07ad690d84d": {
          "model_module": "@jupyter-widgets/controls",
          "model_name": "DescriptionStyleModel",
          "model_module_version": "1.5.0",
          "state": {
            "_model_module": "@jupyter-widgets/controls",
            "_model_module_version": "1.5.0",
            "_model_name": "DescriptionStyleModel",
            "_view_count": null,
            "_view_module": "@jupyter-widgets/base",
            "_view_module_version": "1.2.0",
            "_view_name": "StyleView",
            "description_width": ""
          }
        },
        "f09def8325064c5c9c16df6e4c9003f3": {
          "model_module": "@jupyter-widgets/controls",
          "model_name": "HBoxModel",
          "model_module_version": "1.5.0",
          "state": {
            "_dom_classes": [],
            "_model_module": "@jupyter-widgets/controls",
            "_model_module_version": "1.5.0",
            "_model_name": "HBoxModel",
            "_view_count": null,
            "_view_module": "@jupyter-widgets/controls",
            "_view_module_version": "1.5.0",
            "_view_name": "HBoxView",
            "box_style": "",
            "children": [
              "IPY_MODEL_1b372034f22f4a77ab2bcfa7d5650cc8",
              "IPY_MODEL_53cb44977e3f493bb21bbcca7ddb09a4",
              "IPY_MODEL_ec9987ca12944d34acccd3c4c3902ead"
            ],
            "layout": "IPY_MODEL_f02ed64d3a3043289d8a5f4f1fcb2d65"
          }
        },
        "1b372034f22f4a77ab2bcfa7d5650cc8": {
          "model_module": "@jupyter-widgets/controls",
          "model_name": "HTMLModel",
          "model_module_version": "1.5.0",
          "state": {
            "_dom_classes": [],
            "_model_module": "@jupyter-widgets/controls",
            "_model_module_version": "1.5.0",
            "_model_name": "HTMLModel",
            "_view_count": null,
            "_view_module": "@jupyter-widgets/controls",
            "_view_module_version": "1.5.0",
            "_view_name": "HTMLView",
            "description": "",
            "description_tooltip": null,
            "layout": "IPY_MODEL_dd19e1fd6f474cdba50ff533aa8ec17b",
            "placeholder": "​",
            "style": "IPY_MODEL_39f678bd8c1c42549e0db97778858065",
            "value": "merges.txt: 100%"
          }
        },
        "53cb44977e3f493bb21bbcca7ddb09a4": {
          "model_module": "@jupyter-widgets/controls",
          "model_name": "FloatProgressModel",
          "model_module_version": "1.5.0",
          "state": {
            "_dom_classes": [],
            "_model_module": "@jupyter-widgets/controls",
            "_model_module_version": "1.5.0",
            "_model_name": "FloatProgressModel",
            "_view_count": null,
            "_view_module": "@jupyter-widgets/controls",
            "_view_module_version": "1.5.0",
            "_view_name": "ProgressView",
            "bar_style": "success",
            "description": "",
            "description_tooltip": null,
            "layout": "IPY_MODEL_439eff7cc5a24dda9e9db0e82032dfc3",
            "max": 456356,
            "min": 0,
            "orientation": "horizontal",
            "style": "IPY_MODEL_a46c4a6f495d40c68be4ddeb1233b463",
            "value": 456356
          }
        },
        "ec9987ca12944d34acccd3c4c3902ead": {
          "model_module": "@jupyter-widgets/controls",
          "model_name": "HTMLModel",
          "model_module_version": "1.5.0",
          "state": {
            "_dom_classes": [],
            "_model_module": "@jupyter-widgets/controls",
            "_model_module_version": "1.5.0",
            "_model_name": "HTMLModel",
            "_view_count": null,
            "_view_module": "@jupyter-widgets/controls",
            "_view_module_version": "1.5.0",
            "_view_name": "HTMLView",
            "description": "",
            "description_tooltip": null,
            "layout": "IPY_MODEL_37baba7d80de43c9a3c78b53898cfbbd",
            "placeholder": "​",
            "style": "IPY_MODEL_d67595a3e87343dfbc98d2d7ea814a7e",
            "value": " 456k/456k [00:00&lt;00:00, 15.9MB/s]"
          }
        },
        "f02ed64d3a3043289d8a5f4f1fcb2d65": {
          "model_module": "@jupyter-widgets/base",
          "model_name": "LayoutModel",
          "model_module_version": "1.2.0",
          "state": {
            "_model_module": "@jupyter-widgets/base",
            "_model_module_version": "1.2.0",
            "_model_name": "LayoutModel",
            "_view_count": null,
            "_view_module": "@jupyter-widgets/base",
            "_view_module_version": "1.2.0",
            "_view_name": "LayoutView",
            "align_content": null,
            "align_items": null,
            "align_self": null,
            "border": null,
            "bottom": null,
            "display": null,
            "flex": null,
            "flex_flow": null,
            "grid_area": null,
            "grid_auto_columns": null,
            "grid_auto_flow": null,
            "grid_auto_rows": null,
            "grid_column": null,
            "grid_gap": null,
            "grid_row": null,
            "grid_template_areas": null,
            "grid_template_columns": null,
            "grid_template_rows": null,
            "height": null,
            "justify_content": null,
            "justify_items": null,
            "left": null,
            "margin": null,
            "max_height": null,
            "max_width": null,
            "min_height": null,
            "min_width": null,
            "object_fit": null,
            "object_position": null,
            "order": null,
            "overflow": null,
            "overflow_x": null,
            "overflow_y": null,
            "padding": null,
            "right": null,
            "top": null,
            "visibility": null,
            "width": null
          }
        },
        "dd19e1fd6f474cdba50ff533aa8ec17b": {
          "model_module": "@jupyter-widgets/base",
          "model_name": "LayoutModel",
          "model_module_version": "1.2.0",
          "state": {
            "_model_module": "@jupyter-widgets/base",
            "_model_module_version": "1.2.0",
            "_model_name": "LayoutModel",
            "_view_count": null,
            "_view_module": "@jupyter-widgets/base",
            "_view_module_version": "1.2.0",
            "_view_name": "LayoutView",
            "align_content": null,
            "align_items": null,
            "align_self": null,
            "border": null,
            "bottom": null,
            "display": null,
            "flex": null,
            "flex_flow": null,
            "grid_area": null,
            "grid_auto_columns": null,
            "grid_auto_flow": null,
            "grid_auto_rows": null,
            "grid_column": null,
            "grid_gap": null,
            "grid_row": null,
            "grid_template_areas": null,
            "grid_template_columns": null,
            "grid_template_rows": null,
            "height": null,
            "justify_content": null,
            "justify_items": null,
            "left": null,
            "margin": null,
            "max_height": null,
            "max_width": null,
            "min_height": null,
            "min_width": null,
            "object_fit": null,
            "object_position": null,
            "order": null,
            "overflow": null,
            "overflow_x": null,
            "overflow_y": null,
            "padding": null,
            "right": null,
            "top": null,
            "visibility": null,
            "width": null
          }
        },
        "39f678bd8c1c42549e0db97778858065": {
          "model_module": "@jupyter-widgets/controls",
          "model_name": "DescriptionStyleModel",
          "model_module_version": "1.5.0",
          "state": {
            "_model_module": "@jupyter-widgets/controls",
            "_model_module_version": "1.5.0",
            "_model_name": "DescriptionStyleModel",
            "_view_count": null,
            "_view_module": "@jupyter-widgets/base",
            "_view_module_version": "1.2.0",
            "_view_name": "StyleView",
            "description_width": ""
          }
        },
        "439eff7cc5a24dda9e9db0e82032dfc3": {
          "model_module": "@jupyter-widgets/base",
          "model_name": "LayoutModel",
          "model_module_version": "1.2.0",
          "state": {
            "_model_module": "@jupyter-widgets/base",
            "_model_module_version": "1.2.0",
            "_model_name": "LayoutModel",
            "_view_count": null,
            "_view_module": "@jupyter-widgets/base",
            "_view_module_version": "1.2.0",
            "_view_name": "LayoutView",
            "align_content": null,
            "align_items": null,
            "align_self": null,
            "border": null,
            "bottom": null,
            "display": null,
            "flex": null,
            "flex_flow": null,
            "grid_area": null,
            "grid_auto_columns": null,
            "grid_auto_flow": null,
            "grid_auto_rows": null,
            "grid_column": null,
            "grid_gap": null,
            "grid_row": null,
            "grid_template_areas": null,
            "grid_template_columns": null,
            "grid_template_rows": null,
            "height": null,
            "justify_content": null,
            "justify_items": null,
            "left": null,
            "margin": null,
            "max_height": null,
            "max_width": null,
            "min_height": null,
            "min_width": null,
            "object_fit": null,
            "object_position": null,
            "order": null,
            "overflow": null,
            "overflow_x": null,
            "overflow_y": null,
            "padding": null,
            "right": null,
            "top": null,
            "visibility": null,
            "width": null
          }
        },
        "a46c4a6f495d40c68be4ddeb1233b463": {
          "model_module": "@jupyter-widgets/controls",
          "model_name": "ProgressStyleModel",
          "model_module_version": "1.5.0",
          "state": {
            "_model_module": "@jupyter-widgets/controls",
            "_model_module_version": "1.5.0",
            "_model_name": "ProgressStyleModel",
            "_view_count": null,
            "_view_module": "@jupyter-widgets/base",
            "_view_module_version": "1.2.0",
            "_view_name": "StyleView",
            "bar_color": null,
            "description_width": ""
          }
        },
        "37baba7d80de43c9a3c78b53898cfbbd": {
          "model_module": "@jupyter-widgets/base",
          "model_name": "LayoutModel",
          "model_module_version": "1.2.0",
          "state": {
            "_model_module": "@jupyter-widgets/base",
            "_model_module_version": "1.2.0",
            "_model_name": "LayoutModel",
            "_view_count": null,
            "_view_module": "@jupyter-widgets/base",
            "_view_module_version": "1.2.0",
            "_view_name": "LayoutView",
            "align_content": null,
            "align_items": null,
            "align_self": null,
            "border": null,
            "bottom": null,
            "display": null,
            "flex": null,
            "flex_flow": null,
            "grid_area": null,
            "grid_auto_columns": null,
            "grid_auto_flow": null,
            "grid_auto_rows": null,
            "grid_column": null,
            "grid_gap": null,
            "grid_row": null,
            "grid_template_areas": null,
            "grid_template_columns": null,
            "grid_template_rows": null,
            "height": null,
            "justify_content": null,
            "justify_items": null,
            "left": null,
            "margin": null,
            "max_height": null,
            "max_width": null,
            "min_height": null,
            "min_width": null,
            "object_fit": null,
            "object_position": null,
            "order": null,
            "overflow": null,
            "overflow_x": null,
            "overflow_y": null,
            "padding": null,
            "right": null,
            "top": null,
            "visibility": null,
            "width": null
          }
        },
        "d67595a3e87343dfbc98d2d7ea814a7e": {
          "model_module": "@jupyter-widgets/controls",
          "model_name": "DescriptionStyleModel",
          "model_module_version": "1.5.0",
          "state": {
            "_model_module": "@jupyter-widgets/controls",
            "_model_module_version": "1.5.0",
            "_model_name": "DescriptionStyleModel",
            "_view_count": null,
            "_view_module": "@jupyter-widgets/base",
            "_view_module_version": "1.2.0",
            "_view_name": "StyleView",
            "description_width": ""
          }
        },
        "2f3b5cc002d74609acf21b6e2b1ebb38": {
          "model_module": "@jupyter-widgets/controls",
          "model_name": "HBoxModel",
          "model_module_version": "1.5.0",
          "state": {
            "_dom_classes": [],
            "_model_module": "@jupyter-widgets/controls",
            "_model_module_version": "1.5.0",
            "_model_name": "HBoxModel",
            "_view_count": null,
            "_view_module": "@jupyter-widgets/controls",
            "_view_module_version": "1.5.0",
            "_view_name": "HBoxView",
            "box_style": "",
            "children": [
              "IPY_MODEL_bf0a21e856774750b729840961238bb0",
              "IPY_MODEL_f1959dfec25d49fc87f6106be2f6f26f",
              "IPY_MODEL_562e7a302b1a4ddfa98c40282ed49215"
            ],
            "layout": "IPY_MODEL_b6b4ab9bb01245928f78b3e7f6713957"
          }
        },
        "bf0a21e856774750b729840961238bb0": {
          "model_module": "@jupyter-widgets/controls",
          "model_name": "HTMLModel",
          "model_module_version": "1.5.0",
          "state": {
            "_dom_classes": [],
            "_model_module": "@jupyter-widgets/controls",
            "_model_module_version": "1.5.0",
            "_model_name": "HTMLModel",
            "_view_count": null,
            "_view_module": "@jupyter-widgets/controls",
            "_view_module_version": "1.5.0",
            "_view_name": "HTMLView",
            "description": "",
            "description_tooltip": null,
            "layout": "IPY_MODEL_286f947141154f9d97a05cab9abe9ecd",
            "placeholder": "​",
            "style": "IPY_MODEL_d07199eb5e854427b8e878cb9852224e",
            "value": "tokenizer.json: 100%"
          }
        },
        "f1959dfec25d49fc87f6106be2f6f26f": {
          "model_module": "@jupyter-widgets/controls",
          "model_name": "FloatProgressModel",
          "model_module_version": "1.5.0",
          "state": {
            "_dom_classes": [],
            "_model_module": "@jupyter-widgets/controls",
            "_model_module_version": "1.5.0",
            "_model_name": "FloatProgressModel",
            "_view_count": null,
            "_view_module": "@jupyter-widgets/controls",
            "_view_module_version": "1.5.0",
            "_view_name": "ProgressView",
            "bar_style": "success",
            "description": "",
            "description_tooltip": null,
            "layout": "IPY_MODEL_39fa50a882ca48f188159cd7d98041cb",
            "max": 2108856,
            "min": 0,
            "orientation": "horizontal",
            "style": "IPY_MODEL_16eee38a9856479e9405d64fb25b45c3",
            "value": 2108856
          }
        },
        "562e7a302b1a4ddfa98c40282ed49215": {
          "model_module": "@jupyter-widgets/controls",
          "model_name": "HTMLModel",
          "model_module_version": "1.5.0",
          "state": {
            "_dom_classes": [],
            "_model_module": "@jupyter-widgets/controls",
            "_model_module_version": "1.5.0",
            "_model_name": "HTMLModel",
            "_view_count": null,
            "_view_module": "@jupyter-widgets/controls",
            "_view_module_version": "1.5.0",
            "_view_name": "HTMLView",
            "description": "",
            "description_tooltip": null,
            "layout": "IPY_MODEL_a6ee0f14a93d4c92bc977e277d40a045",
            "placeholder": "​",
            "style": "IPY_MODEL_9c8883da3e844dc09dab3b50312d13cb",
            "value": " 2.11M/2.11M [00:00&lt;00:00, 24.7MB/s]"
          }
        },
        "b6b4ab9bb01245928f78b3e7f6713957": {
          "model_module": "@jupyter-widgets/base",
          "model_name": "LayoutModel",
          "model_module_version": "1.2.0",
          "state": {
            "_model_module": "@jupyter-widgets/base",
            "_model_module_version": "1.2.0",
            "_model_name": "LayoutModel",
            "_view_count": null,
            "_view_module": "@jupyter-widgets/base",
            "_view_module_version": "1.2.0",
            "_view_name": "LayoutView",
            "align_content": null,
            "align_items": null,
            "align_self": null,
            "border": null,
            "bottom": null,
            "display": null,
            "flex": null,
            "flex_flow": null,
            "grid_area": null,
            "grid_auto_columns": null,
            "grid_auto_flow": null,
            "grid_auto_rows": null,
            "grid_column": null,
            "grid_gap": null,
            "grid_row": null,
            "grid_template_areas": null,
            "grid_template_columns": null,
            "grid_template_rows": null,
            "height": null,
            "justify_content": null,
            "justify_items": null,
            "left": null,
            "margin": null,
            "max_height": null,
            "max_width": null,
            "min_height": null,
            "min_width": null,
            "object_fit": null,
            "object_position": null,
            "order": null,
            "overflow": null,
            "overflow_x": null,
            "overflow_y": null,
            "padding": null,
            "right": null,
            "top": null,
            "visibility": null,
            "width": null
          }
        },
        "286f947141154f9d97a05cab9abe9ecd": {
          "model_module": "@jupyter-widgets/base",
          "model_name": "LayoutModel",
          "model_module_version": "1.2.0",
          "state": {
            "_model_module": "@jupyter-widgets/base",
            "_model_module_version": "1.2.0",
            "_model_name": "LayoutModel",
            "_view_count": null,
            "_view_module": "@jupyter-widgets/base",
            "_view_module_version": "1.2.0",
            "_view_name": "LayoutView",
            "align_content": null,
            "align_items": null,
            "align_self": null,
            "border": null,
            "bottom": null,
            "display": null,
            "flex": null,
            "flex_flow": null,
            "grid_area": null,
            "grid_auto_columns": null,
            "grid_auto_flow": null,
            "grid_auto_rows": null,
            "grid_column": null,
            "grid_gap": null,
            "grid_row": null,
            "grid_template_areas": null,
            "grid_template_columns": null,
            "grid_template_rows": null,
            "height": null,
            "justify_content": null,
            "justify_items": null,
            "left": null,
            "margin": null,
            "max_height": null,
            "max_width": null,
            "min_height": null,
            "min_width": null,
            "object_fit": null,
            "object_position": null,
            "order": null,
            "overflow": null,
            "overflow_x": null,
            "overflow_y": null,
            "padding": null,
            "right": null,
            "top": null,
            "visibility": null,
            "width": null
          }
        },
        "d07199eb5e854427b8e878cb9852224e": {
          "model_module": "@jupyter-widgets/controls",
          "model_name": "DescriptionStyleModel",
          "model_module_version": "1.5.0",
          "state": {
            "_model_module": "@jupyter-widgets/controls",
            "_model_module_version": "1.5.0",
            "_model_name": "DescriptionStyleModel",
            "_view_count": null,
            "_view_module": "@jupyter-widgets/base",
            "_view_module_version": "1.2.0",
            "_view_name": "StyleView",
            "description_width": ""
          }
        },
        "39fa50a882ca48f188159cd7d98041cb": {
          "model_module": "@jupyter-widgets/base",
          "model_name": "LayoutModel",
          "model_module_version": "1.2.0",
          "state": {
            "_model_module": "@jupyter-widgets/base",
            "_model_module_version": "1.2.0",
            "_model_name": "LayoutModel",
            "_view_count": null,
            "_view_module": "@jupyter-widgets/base",
            "_view_module_version": "1.2.0",
            "_view_name": "LayoutView",
            "align_content": null,
            "align_items": null,
            "align_self": null,
            "border": null,
            "bottom": null,
            "display": null,
            "flex": null,
            "flex_flow": null,
            "grid_area": null,
            "grid_auto_columns": null,
            "grid_auto_flow": null,
            "grid_auto_rows": null,
            "grid_column": null,
            "grid_gap": null,
            "grid_row": null,
            "grid_template_areas": null,
            "grid_template_columns": null,
            "grid_template_rows": null,
            "height": null,
            "justify_content": null,
            "justify_items": null,
            "left": null,
            "margin": null,
            "max_height": null,
            "max_width": null,
            "min_height": null,
            "min_width": null,
            "object_fit": null,
            "object_position": null,
            "order": null,
            "overflow": null,
            "overflow_x": null,
            "overflow_y": null,
            "padding": null,
            "right": null,
            "top": null,
            "visibility": null,
            "width": null
          }
        },
        "16eee38a9856479e9405d64fb25b45c3": {
          "model_module": "@jupyter-widgets/controls",
          "model_name": "ProgressStyleModel",
          "model_module_version": "1.5.0",
          "state": {
            "_model_module": "@jupyter-widgets/controls",
            "_model_module_version": "1.5.0",
            "_model_name": "ProgressStyleModel",
            "_view_count": null,
            "_view_module": "@jupyter-widgets/base",
            "_view_module_version": "1.2.0",
            "_view_name": "StyleView",
            "bar_color": null,
            "description_width": ""
          }
        },
        "a6ee0f14a93d4c92bc977e277d40a045": {
          "model_module": "@jupyter-widgets/base",
          "model_name": "LayoutModel",
          "model_module_version": "1.2.0",
          "state": {
            "_model_module": "@jupyter-widgets/base",
            "_model_module_version": "1.2.0",
            "_model_name": "LayoutModel",
            "_view_count": null,
            "_view_module": "@jupyter-widgets/base",
            "_view_module_version": "1.2.0",
            "_view_name": "LayoutView",
            "align_content": null,
            "align_items": null,
            "align_self": null,
            "border": null,
            "bottom": null,
            "display": null,
            "flex": null,
            "flex_flow": null,
            "grid_area": null,
            "grid_auto_columns": null,
            "grid_auto_flow": null,
            "grid_auto_rows": null,
            "grid_column": null,
            "grid_gap": null,
            "grid_row": null,
            "grid_template_areas": null,
            "grid_template_columns": null,
            "grid_template_rows": null,
            "height": null,
            "justify_content": null,
            "justify_items": null,
            "left": null,
            "margin": null,
            "max_height": null,
            "max_width": null,
            "min_height": null,
            "min_width": null,
            "object_fit": null,
            "object_position": null,
            "order": null,
            "overflow": null,
            "overflow_x": null,
            "overflow_y": null,
            "padding": null,
            "right": null,
            "top": null,
            "visibility": null,
            "width": null
          }
        },
        "9c8883da3e844dc09dab3b50312d13cb": {
          "model_module": "@jupyter-widgets/controls",
          "model_name": "DescriptionStyleModel",
          "model_module_version": "1.5.0",
          "state": {
            "_model_module": "@jupyter-widgets/controls",
            "_model_module_version": "1.5.0",
            "_model_name": "DescriptionStyleModel",
            "_view_count": null,
            "_view_module": "@jupyter-widgets/base",
            "_view_module_version": "1.2.0",
            "_view_name": "StyleView",
            "description_width": ""
          }
        },
        "dda47398993c40b58a8542c34069aa3d": {
          "model_module": "@jupyter-widgets/controls",
          "model_name": "HBoxModel",
          "model_module_version": "1.5.0",
          "state": {
            "_dom_classes": [],
            "_model_module": "@jupyter-widgets/controls",
            "_model_module_version": "1.5.0",
            "_model_name": "HBoxModel",
            "_view_count": null,
            "_view_module": "@jupyter-widgets/controls",
            "_view_module_version": "1.5.0",
            "_view_name": "HBoxView",
            "box_style": "",
            "children": [
              "IPY_MODEL_8e9f8fa2d12b4e5cbeb9d03e9bf255a1",
              "IPY_MODEL_5c0ce869c7074993b1ad1abad4d65388",
              "IPY_MODEL_987735c22d8e4c929f89c6f3691d45e6"
            ],
            "layout": "IPY_MODEL_4d869b534acd4ca3bd471585928f9ccd"
          }
        },
        "8e9f8fa2d12b4e5cbeb9d03e9bf255a1": {
          "model_module": "@jupyter-widgets/controls",
          "model_name": "HTMLModel",
          "model_module_version": "1.5.0",
          "state": {
            "_dom_classes": [],
            "_model_module": "@jupyter-widgets/controls",
            "_model_module_version": "1.5.0",
            "_model_name": "HTMLModel",
            "_view_count": null,
            "_view_module": "@jupyter-widgets/controls",
            "_view_module_version": "1.5.0",
            "_view_name": "HTMLView",
            "description": "",
            "description_tooltip": null,
            "layout": "IPY_MODEL_6029ac56d0fa498cb8d7d8cfb312e48f",
            "placeholder": "​",
            "style": "IPY_MODEL_04ffbed8c0234266bc34b2a9cba4c00e",
            "value": "special_tokens_map.json: 100%"
          }
        },
        "5c0ce869c7074993b1ad1abad4d65388": {
          "model_module": "@jupyter-widgets/controls",
          "model_name": "FloatProgressModel",
          "model_module_version": "1.5.0",
          "state": {
            "_dom_classes": [],
            "_model_module": "@jupyter-widgets/controls",
            "_model_module_version": "1.5.0",
            "_model_name": "FloatProgressModel",
            "_view_count": null,
            "_view_module": "@jupyter-widgets/controls",
            "_view_module_version": "1.5.0",
            "_view_name": "ProgressView",
            "bar_style": "success",
            "description": "",
            "description_tooltip": null,
            "layout": "IPY_MODEL_f3b4977e703f4cbda80e9ee36d3e7ae8",
            "max": 280,
            "min": 0,
            "orientation": "horizontal",
            "style": "IPY_MODEL_ba0d2b47dfab44c6b3d3b75d1cb99094",
            "value": 280
          }
        },
        "987735c22d8e4c929f89c6f3691d45e6": {
          "model_module": "@jupyter-widgets/controls",
          "model_name": "HTMLModel",
          "model_module_version": "1.5.0",
          "state": {
            "_dom_classes": [],
            "_model_module": "@jupyter-widgets/controls",
            "_model_module_version": "1.5.0",
            "_model_name": "HTMLModel",
            "_view_count": null,
            "_view_module": "@jupyter-widgets/controls",
            "_view_module_version": "1.5.0",
            "_view_name": "HTMLView",
            "description": "",
            "description_tooltip": null,
            "layout": "IPY_MODEL_1eeb2d0152b34cc999bbaee8087f517c",
            "placeholder": "​",
            "style": "IPY_MODEL_3905b399d94b4fffa3db896c571bffe9",
            "value": " 280/280 [00:00&lt;00:00, 10.5kB/s]"
          }
        },
        "4d869b534acd4ca3bd471585928f9ccd": {
          "model_module": "@jupyter-widgets/base",
          "model_name": "LayoutModel",
          "model_module_version": "1.2.0",
          "state": {
            "_model_module": "@jupyter-widgets/base",
            "_model_module_version": "1.2.0",
            "_model_name": "LayoutModel",
            "_view_count": null,
            "_view_module": "@jupyter-widgets/base",
            "_view_module_version": "1.2.0",
            "_view_name": "LayoutView",
            "align_content": null,
            "align_items": null,
            "align_self": null,
            "border": null,
            "bottom": null,
            "display": null,
            "flex": null,
            "flex_flow": null,
            "grid_area": null,
            "grid_auto_columns": null,
            "grid_auto_flow": null,
            "grid_auto_rows": null,
            "grid_column": null,
            "grid_gap": null,
            "grid_row": null,
            "grid_template_areas": null,
            "grid_template_columns": null,
            "grid_template_rows": null,
            "height": null,
            "justify_content": null,
            "justify_items": null,
            "left": null,
            "margin": null,
            "max_height": null,
            "max_width": null,
            "min_height": null,
            "min_width": null,
            "object_fit": null,
            "object_position": null,
            "order": null,
            "overflow": null,
            "overflow_x": null,
            "overflow_y": null,
            "padding": null,
            "right": null,
            "top": null,
            "visibility": null,
            "width": null
          }
        },
        "6029ac56d0fa498cb8d7d8cfb312e48f": {
          "model_module": "@jupyter-widgets/base",
          "model_name": "LayoutModel",
          "model_module_version": "1.2.0",
          "state": {
            "_model_module": "@jupyter-widgets/base",
            "_model_module_version": "1.2.0",
            "_model_name": "LayoutModel",
            "_view_count": null,
            "_view_module": "@jupyter-widgets/base",
            "_view_module_version": "1.2.0",
            "_view_name": "LayoutView",
            "align_content": null,
            "align_items": null,
            "align_self": null,
            "border": null,
            "bottom": null,
            "display": null,
            "flex": null,
            "flex_flow": null,
            "grid_area": null,
            "grid_auto_columns": null,
            "grid_auto_flow": null,
            "grid_auto_rows": null,
            "grid_column": null,
            "grid_gap": null,
            "grid_row": null,
            "grid_template_areas": null,
            "grid_template_columns": null,
            "grid_template_rows": null,
            "height": null,
            "justify_content": null,
            "justify_items": null,
            "left": null,
            "margin": null,
            "max_height": null,
            "max_width": null,
            "min_height": null,
            "min_width": null,
            "object_fit": null,
            "object_position": null,
            "order": null,
            "overflow": null,
            "overflow_x": null,
            "overflow_y": null,
            "padding": null,
            "right": null,
            "top": null,
            "visibility": null,
            "width": null
          }
        },
        "04ffbed8c0234266bc34b2a9cba4c00e": {
          "model_module": "@jupyter-widgets/controls",
          "model_name": "DescriptionStyleModel",
          "model_module_version": "1.5.0",
          "state": {
            "_model_module": "@jupyter-widgets/controls",
            "_model_module_version": "1.5.0",
            "_model_name": "DescriptionStyleModel",
            "_view_count": null,
            "_view_module": "@jupyter-widgets/base",
            "_view_module_version": "1.2.0",
            "_view_name": "StyleView",
            "description_width": ""
          }
        },
        "f3b4977e703f4cbda80e9ee36d3e7ae8": {
          "model_module": "@jupyter-widgets/base",
          "model_name": "LayoutModel",
          "model_module_version": "1.2.0",
          "state": {
            "_model_module": "@jupyter-widgets/base",
            "_model_module_version": "1.2.0",
            "_model_name": "LayoutModel",
            "_view_count": null,
            "_view_module": "@jupyter-widgets/base",
            "_view_module_version": "1.2.0",
            "_view_name": "LayoutView",
            "align_content": null,
            "align_items": null,
            "align_self": null,
            "border": null,
            "bottom": null,
            "display": null,
            "flex": null,
            "flex_flow": null,
            "grid_area": null,
            "grid_auto_columns": null,
            "grid_auto_flow": null,
            "grid_auto_rows": null,
            "grid_column": null,
            "grid_gap": null,
            "grid_row": null,
            "grid_template_areas": null,
            "grid_template_columns": null,
            "grid_template_rows": null,
            "height": null,
            "justify_content": null,
            "justify_items": null,
            "left": null,
            "margin": null,
            "max_height": null,
            "max_width": null,
            "min_height": null,
            "min_width": null,
            "object_fit": null,
            "object_position": null,
            "order": null,
            "overflow": null,
            "overflow_x": null,
            "overflow_y": null,
            "padding": null,
            "right": null,
            "top": null,
            "visibility": null,
            "width": null
          }
        },
        "ba0d2b47dfab44c6b3d3b75d1cb99094": {
          "model_module": "@jupyter-widgets/controls",
          "model_name": "ProgressStyleModel",
          "model_module_version": "1.5.0",
          "state": {
            "_model_module": "@jupyter-widgets/controls",
            "_model_module_version": "1.5.0",
            "_model_name": "ProgressStyleModel",
            "_view_count": null,
            "_view_module": "@jupyter-widgets/base",
            "_view_module_version": "1.2.0",
            "_view_name": "StyleView",
            "bar_color": null,
            "description_width": ""
          }
        },
        "1eeb2d0152b34cc999bbaee8087f517c": {
          "model_module": "@jupyter-widgets/base",
          "model_name": "LayoutModel",
          "model_module_version": "1.2.0",
          "state": {
            "_model_module": "@jupyter-widgets/base",
            "_model_module_version": "1.2.0",
            "_model_name": "LayoutModel",
            "_view_count": null,
            "_view_module": "@jupyter-widgets/base",
            "_view_module_version": "1.2.0",
            "_view_name": "LayoutView",
            "align_content": null,
            "align_items": null,
            "align_self": null,
            "border": null,
            "bottom": null,
            "display": null,
            "flex": null,
            "flex_flow": null,
            "grid_area": null,
            "grid_auto_columns": null,
            "grid_auto_flow": null,
            "grid_auto_rows": null,
            "grid_column": null,
            "grid_gap": null,
            "grid_row": null,
            "grid_template_areas": null,
            "grid_template_columns": null,
            "grid_template_rows": null,
            "height": null,
            "justify_content": null,
            "justify_items": null,
            "left": null,
            "margin": null,
            "max_height": null,
            "max_width": null,
            "min_height": null,
            "min_width": null,
            "object_fit": null,
            "object_position": null,
            "order": null,
            "overflow": null,
            "overflow_x": null,
            "overflow_y": null,
            "padding": null,
            "right": null,
            "top": null,
            "visibility": null,
            "width": null
          }
        },
        "3905b399d94b4fffa3db896c571bffe9": {
          "model_module": "@jupyter-widgets/controls",
          "model_name": "DescriptionStyleModel",
          "model_module_version": "1.5.0",
          "state": {
            "_model_module": "@jupyter-widgets/controls",
            "_model_module_version": "1.5.0",
            "_model_name": "DescriptionStyleModel",
            "_view_count": null,
            "_view_module": "@jupyter-widgets/base",
            "_view_module_version": "1.2.0",
            "_view_name": "StyleView",
            "description_width": ""
          }
        }
      }
    }
  },
  "cells": [
    {
      "cell_type": "markdown",
      "source": [
        "# Model Analysis"
      ],
      "metadata": {
        "id": "sj2yzGA7GyNy"
      }
    },
    {
      "cell_type": "code",
      "execution_count": 1,
      "metadata": {
        "id": "SfOCVc6P6C1g"
      },
      "outputs": [],
      "source": [
        "#Importamos librerías necesarias\n",
        "\n",
        "import matplotlib\n",
        "import numpy as np\n",
        "import pandas as pd\n",
        "import seaborn as sb\n",
        "from tabulate import tabulate\n",
        "import matplotlib.pyplot as plt\n",
        "from sklearn import preprocessing\n",
        "from sklearn.cluster import KMeans\n",
        "from sklearn.metrics import silhouette_score\n",
        "from sklearn.metrics import pairwise_distances_argmin_min\n",
        "from sklearn.cluster import AgglomerativeClustering\n",
        "from scipy.cluster.hierarchy import dendrogram, ward"
      ]
    },
    {
      "cell_type": "code",
      "source": [
        "# Only run if you are in Colab and after you change the dir of the files\n",
        "\n",
        "from google.colab import drive\n",
        "drive.mount('/content/drive/')\n",
        "\n",
        "FAKE_DIR = '/content/drive/Shareddrives/Talleres y archivos/Ver+/A3/datasets/Fake.csv'\n",
        "TRUE_DIR = '/content/drive/Shareddrives/Talleres y archivos/Ver+/A3/datasets/True.csv'\n",
        "IOP_DIR = '/content/drive/Shareddrives/Talleres y archivos/Ver+/A3/datasets/fake_and_real_news_dataset.csv'"
      ],
      "metadata": {
        "colab": {
          "base_uri": "https://localhost:8080/"
        },
        "id": "Vc4csWuPbnVW",
        "outputId": "ba536f42-7b85-4203-da44-1a28bc5a90a9"
      },
      "execution_count": 2,
      "outputs": [
        {
          "output_type": "stream",
          "name": "stdout",
          "text": [
            "Mounted at /content/drive/\n"
          ]
        }
      ]
    },
    {
      "cell_type": "code",
      "source": [
        "#Other datasets\n",
        "raw_fake_csv = pd.read_csv(FAKE_DIR)\n",
        "raw_true_csv = pd.read_csv(TRUE_DIR)\n",
        "\n",
        "#Dataset used\n",
        "raw_iop_csv = pd.read_csv(IOP_DIR)"
      ],
      "metadata": {
        "id": "SiJClPslcdS7"
      },
      "execution_count": 3,
      "outputs": []
    },
    {
      "cell_type": "code",
      "source": [
        "raw_iop_csv"
      ],
      "metadata": {
        "colab": {
          "base_uri": "https://localhost:8080/",
          "height": 423
        },
        "id": "cZr445ffcwas",
        "outputId": "c67e29cb-7f13-44da-d84f-f50a52944c16"
      },
      "execution_count": 4,
      "outputs": [
        {
          "output_type": "execute_result",
          "data": {
            "text/plain": [
              "             idd                                              title  \\\n",
              "0     Fq+C96tcx+  ‘A target on Roe v. Wade ’: Oklahoma bill maki...   \n",
              "1     bHUqK!pgmv  Study: women had to drive 4 times farther afte...   \n",
              "2     4Y4Ubf%aTi        Trump, Clinton clash in dueling DC speeches   \n",
              "3     _CoY89SJ@K  Grand jury in Texas indicts activists behind P...   \n",
              "4     +rJHoRQVLe  As Reproductive Rights Hang In The Balance, De...   \n",
              "...          ...                                                ...   \n",
              "4589  ukZm6JTO#x                 Russia Calls the War Party's Bluff   \n",
              "4590  yu0xKEiapJ  Bernie Sanders: The Democratic primary gave me...   \n",
              "4591  c4Y370E_9c  Pipeline Police Strip Search Native Girl, Then...   \n",
              "4592  bBbeuCUeMH  Currency Crisis: Alasdair MacLeod On The Vexed...   \n",
              "4593  vE44sWBnd9                   Paper Tiger ISIS Digs Into Mosul   \n",
              "\n",
              "                                                   text label  \n",
              "0     UPDATE: Gov. Fallin vetoed the bill on Friday....  REAL  \n",
              "1     Ever since Texas laws closed about half of the...  REAL  \n",
              "2     Donald Trump and Hillary Clinton, now at the s...  REAL  \n",
              "3     A Houston grand jury investigating criminal al...  REAL  \n",
              "4     WASHINGTON -- Forty-three years after the Supr...  REAL  \n",
              "...                                                 ...   ...  \n",
              "4589  License DMCA \\nCold War 2.0 has reached unprec...  FAKE  \n",
              "4590  Print \\nSen. Bernie Sanders laid out the ways ...  FAKE  \n",
              "4591  As the pressure to start construction on the D...  FAKE  \n",
              "4592  Tweet Home » Gold » Gold News » Currency Crisi...  FAKE  \n",
              "4593  Written by Eric Margolis   As a former soldier...  FAKE  \n",
              "\n",
              "[4594 rows x 4 columns]"
            ],
            "text/html": [
              "\n",
              "  <div id=\"df-4149caff-69ab-43f5-a02f-5fa4154c6e76\" class=\"colab-df-container\">\n",
              "    <div>\n",
              "<style scoped>\n",
              "    .dataframe tbody tr th:only-of-type {\n",
              "        vertical-align: middle;\n",
              "    }\n",
              "\n",
              "    .dataframe tbody tr th {\n",
              "        vertical-align: top;\n",
              "    }\n",
              "\n",
              "    .dataframe thead th {\n",
              "        text-align: right;\n",
              "    }\n",
              "</style>\n",
              "<table border=\"1\" class=\"dataframe\">\n",
              "  <thead>\n",
              "    <tr style=\"text-align: right;\">\n",
              "      <th></th>\n",
              "      <th>idd</th>\n",
              "      <th>title</th>\n",
              "      <th>text</th>\n",
              "      <th>label</th>\n",
              "    </tr>\n",
              "  </thead>\n",
              "  <tbody>\n",
              "    <tr>\n",
              "      <th>0</th>\n",
              "      <td>Fq+C96tcx+</td>\n",
              "      <td>‘A target on Roe v. Wade ’: Oklahoma bill maki...</td>\n",
              "      <td>UPDATE: Gov. Fallin vetoed the bill on Friday....</td>\n",
              "      <td>REAL</td>\n",
              "    </tr>\n",
              "    <tr>\n",
              "      <th>1</th>\n",
              "      <td>bHUqK!pgmv</td>\n",
              "      <td>Study: women had to drive 4 times farther afte...</td>\n",
              "      <td>Ever since Texas laws closed about half of the...</td>\n",
              "      <td>REAL</td>\n",
              "    </tr>\n",
              "    <tr>\n",
              "      <th>2</th>\n",
              "      <td>4Y4Ubf%aTi</td>\n",
              "      <td>Trump, Clinton clash in dueling DC speeches</td>\n",
              "      <td>Donald Trump and Hillary Clinton, now at the s...</td>\n",
              "      <td>REAL</td>\n",
              "    </tr>\n",
              "    <tr>\n",
              "      <th>3</th>\n",
              "      <td>_CoY89SJ@K</td>\n",
              "      <td>Grand jury in Texas indicts activists behind P...</td>\n",
              "      <td>A Houston grand jury investigating criminal al...</td>\n",
              "      <td>REAL</td>\n",
              "    </tr>\n",
              "    <tr>\n",
              "      <th>4</th>\n",
              "      <td>+rJHoRQVLe</td>\n",
              "      <td>As Reproductive Rights Hang In The Balance, De...</td>\n",
              "      <td>WASHINGTON -- Forty-three years after the Supr...</td>\n",
              "      <td>REAL</td>\n",
              "    </tr>\n",
              "    <tr>\n",
              "      <th>...</th>\n",
              "      <td>...</td>\n",
              "      <td>...</td>\n",
              "      <td>...</td>\n",
              "      <td>...</td>\n",
              "    </tr>\n",
              "    <tr>\n",
              "      <th>4589</th>\n",
              "      <td>ukZm6JTO#x</td>\n",
              "      <td>Russia Calls the War Party's Bluff</td>\n",
              "      <td>License DMCA \\nCold War 2.0 has reached unprec...</td>\n",
              "      <td>FAKE</td>\n",
              "    </tr>\n",
              "    <tr>\n",
              "      <th>4590</th>\n",
              "      <td>yu0xKEiapJ</td>\n",
              "      <td>Bernie Sanders: The Democratic primary gave me...</td>\n",
              "      <td>Print \\nSen. Bernie Sanders laid out the ways ...</td>\n",
              "      <td>FAKE</td>\n",
              "    </tr>\n",
              "    <tr>\n",
              "      <th>4591</th>\n",
              "      <td>c4Y370E_9c</td>\n",
              "      <td>Pipeline Police Strip Search Native Girl, Then...</td>\n",
              "      <td>As the pressure to start construction on the D...</td>\n",
              "      <td>FAKE</td>\n",
              "    </tr>\n",
              "    <tr>\n",
              "      <th>4592</th>\n",
              "      <td>bBbeuCUeMH</td>\n",
              "      <td>Currency Crisis: Alasdair MacLeod On The Vexed...</td>\n",
              "      <td>Tweet Home » Gold » Gold News » Currency Crisi...</td>\n",
              "      <td>FAKE</td>\n",
              "    </tr>\n",
              "    <tr>\n",
              "      <th>4593</th>\n",
              "      <td>vE44sWBnd9</td>\n",
              "      <td>Paper Tiger ISIS Digs Into Mosul</td>\n",
              "      <td>Written by Eric Margolis   As a former soldier...</td>\n",
              "      <td>FAKE</td>\n",
              "    </tr>\n",
              "  </tbody>\n",
              "</table>\n",
              "<p>4594 rows × 4 columns</p>\n",
              "</div>\n",
              "    <div class=\"colab-df-buttons\">\n",
              "\n",
              "  <div class=\"colab-df-container\">\n",
              "    <button class=\"colab-df-convert\" onclick=\"convertToInteractive('df-4149caff-69ab-43f5-a02f-5fa4154c6e76')\"\n",
              "            title=\"Convert this dataframe to an interactive table.\"\n",
              "            style=\"display:none;\">\n",
              "\n",
              "  <svg xmlns=\"http://www.w3.org/2000/svg\" height=\"24px\" viewBox=\"0 -960 960 960\">\n",
              "    <path d=\"M120-120v-720h720v720H120Zm60-500h600v-160H180v160Zm220 220h160v-160H400v160Zm0 220h160v-160H400v160ZM180-400h160v-160H180v160Zm440 0h160v-160H620v160ZM180-180h160v-160H180v160Zm440 0h160v-160H620v160Z\"/>\n",
              "  </svg>\n",
              "    </button>\n",
              "\n",
              "  <style>\n",
              "    .colab-df-container {\n",
              "      display:flex;\n",
              "      gap: 12px;\n",
              "    }\n",
              "\n",
              "    .colab-df-convert {\n",
              "      background-color: #E8F0FE;\n",
              "      border: none;\n",
              "      border-radius: 50%;\n",
              "      cursor: pointer;\n",
              "      display: none;\n",
              "      fill: #1967D2;\n",
              "      height: 32px;\n",
              "      padding: 0 0 0 0;\n",
              "      width: 32px;\n",
              "    }\n",
              "\n",
              "    .colab-df-convert:hover {\n",
              "      background-color: #E2EBFA;\n",
              "      box-shadow: 0px 1px 2px rgba(60, 64, 67, 0.3), 0px 1px 3px 1px rgba(60, 64, 67, 0.15);\n",
              "      fill: #174EA6;\n",
              "    }\n",
              "\n",
              "    .colab-df-buttons div {\n",
              "      margin-bottom: 4px;\n",
              "    }\n",
              "\n",
              "    [theme=dark] .colab-df-convert {\n",
              "      background-color: #3B4455;\n",
              "      fill: #D2E3FC;\n",
              "    }\n",
              "\n",
              "    [theme=dark] .colab-df-convert:hover {\n",
              "      background-color: #434B5C;\n",
              "      box-shadow: 0px 1px 3px 1px rgba(0, 0, 0, 0.15);\n",
              "      filter: drop-shadow(0px 1px 2px rgba(0, 0, 0, 0.3));\n",
              "      fill: #FFFFFF;\n",
              "    }\n",
              "  </style>\n",
              "\n",
              "    <script>\n",
              "      const buttonEl =\n",
              "        document.querySelector('#df-4149caff-69ab-43f5-a02f-5fa4154c6e76 button.colab-df-convert');\n",
              "      buttonEl.style.display =\n",
              "        google.colab.kernel.accessAllowed ? 'block' : 'none';\n",
              "\n",
              "      async function convertToInteractive(key) {\n",
              "        const element = document.querySelector('#df-4149caff-69ab-43f5-a02f-5fa4154c6e76');\n",
              "        const dataTable =\n",
              "          await google.colab.kernel.invokeFunction('convertToInteractive',\n",
              "                                                    [key], {});\n",
              "        if (!dataTable) return;\n",
              "\n",
              "        const docLinkHtml = 'Like what you see? Visit the ' +\n",
              "          '<a target=\"_blank\" href=https://colab.research.google.com/notebooks/data_table.ipynb>data table notebook</a>'\n",
              "          + ' to learn more about interactive tables.';\n",
              "        element.innerHTML = '';\n",
              "        dataTable['output_type'] = 'display_data';\n",
              "        await google.colab.output.renderOutput(dataTable, element);\n",
              "        const docLink = document.createElement('div');\n",
              "        docLink.innerHTML = docLinkHtml;\n",
              "        element.appendChild(docLink);\n",
              "      }\n",
              "    </script>\n",
              "  </div>\n",
              "\n",
              "\n",
              "<div id=\"df-1509a7db-9d56-4f39-9375-63a253b627b4\">\n",
              "  <button class=\"colab-df-quickchart\" onclick=\"quickchart('df-1509a7db-9d56-4f39-9375-63a253b627b4')\"\n",
              "            title=\"Suggest charts\"\n",
              "            style=\"display:none;\">\n",
              "\n",
              "<svg xmlns=\"http://www.w3.org/2000/svg\" height=\"24px\"viewBox=\"0 0 24 24\"\n",
              "     width=\"24px\">\n",
              "    <g>\n",
              "        <path d=\"M19 3H5c-1.1 0-2 .9-2 2v14c0 1.1.9 2 2 2h14c1.1 0 2-.9 2-2V5c0-1.1-.9-2-2-2zM9 17H7v-7h2v7zm4 0h-2V7h2v10zm4 0h-2v-4h2v4z\"/>\n",
              "    </g>\n",
              "</svg>\n",
              "  </button>\n",
              "\n",
              "<style>\n",
              "  .colab-df-quickchart {\n",
              "      --bg-color: #E8F0FE;\n",
              "      --fill-color: #1967D2;\n",
              "      --hover-bg-color: #E2EBFA;\n",
              "      --hover-fill-color: #174EA6;\n",
              "      --disabled-fill-color: #AAA;\n",
              "      --disabled-bg-color: #DDD;\n",
              "  }\n",
              "\n",
              "  [theme=dark] .colab-df-quickchart {\n",
              "      --bg-color: #3B4455;\n",
              "      --fill-color: #D2E3FC;\n",
              "      --hover-bg-color: #434B5C;\n",
              "      --hover-fill-color: #FFFFFF;\n",
              "      --disabled-bg-color: #3B4455;\n",
              "      --disabled-fill-color: #666;\n",
              "  }\n",
              "\n",
              "  .colab-df-quickchart {\n",
              "    background-color: var(--bg-color);\n",
              "    border: none;\n",
              "    border-radius: 50%;\n",
              "    cursor: pointer;\n",
              "    display: none;\n",
              "    fill: var(--fill-color);\n",
              "    height: 32px;\n",
              "    padding: 0;\n",
              "    width: 32px;\n",
              "  }\n",
              "\n",
              "  .colab-df-quickchart:hover {\n",
              "    background-color: var(--hover-bg-color);\n",
              "    box-shadow: 0 1px 2px rgba(60, 64, 67, 0.3), 0 1px 3px 1px rgba(60, 64, 67, 0.15);\n",
              "    fill: var(--button-hover-fill-color);\n",
              "  }\n",
              "\n",
              "  .colab-df-quickchart-complete:disabled,\n",
              "  .colab-df-quickchart-complete:disabled:hover {\n",
              "    background-color: var(--disabled-bg-color);\n",
              "    fill: var(--disabled-fill-color);\n",
              "    box-shadow: none;\n",
              "  }\n",
              "\n",
              "  .colab-df-spinner {\n",
              "    border: 2px solid var(--fill-color);\n",
              "    border-color: transparent;\n",
              "    border-bottom-color: var(--fill-color);\n",
              "    animation:\n",
              "      spin 1s steps(1) infinite;\n",
              "  }\n",
              "\n",
              "  @keyframes spin {\n",
              "    0% {\n",
              "      border-color: transparent;\n",
              "      border-bottom-color: var(--fill-color);\n",
              "      border-left-color: var(--fill-color);\n",
              "    }\n",
              "    20% {\n",
              "      border-color: transparent;\n",
              "      border-left-color: var(--fill-color);\n",
              "      border-top-color: var(--fill-color);\n",
              "    }\n",
              "    30% {\n",
              "      border-color: transparent;\n",
              "      border-left-color: var(--fill-color);\n",
              "      border-top-color: var(--fill-color);\n",
              "      border-right-color: var(--fill-color);\n",
              "    }\n",
              "    40% {\n",
              "      border-color: transparent;\n",
              "      border-right-color: var(--fill-color);\n",
              "      border-top-color: var(--fill-color);\n",
              "    }\n",
              "    60% {\n",
              "      border-color: transparent;\n",
              "      border-right-color: var(--fill-color);\n",
              "    }\n",
              "    80% {\n",
              "      border-color: transparent;\n",
              "      border-right-color: var(--fill-color);\n",
              "      border-bottom-color: var(--fill-color);\n",
              "    }\n",
              "    90% {\n",
              "      border-color: transparent;\n",
              "      border-bottom-color: var(--fill-color);\n",
              "    }\n",
              "  }\n",
              "</style>\n",
              "\n",
              "  <script>\n",
              "    async function quickchart(key) {\n",
              "      const quickchartButtonEl =\n",
              "        document.querySelector('#' + key + ' button');\n",
              "      quickchartButtonEl.disabled = true;  // To prevent multiple clicks.\n",
              "      quickchartButtonEl.classList.add('colab-df-spinner');\n",
              "      try {\n",
              "        const charts = await google.colab.kernel.invokeFunction(\n",
              "            'suggestCharts', [key], {});\n",
              "      } catch (error) {\n",
              "        console.error('Error during call to suggestCharts:', error);\n",
              "      }\n",
              "      quickchartButtonEl.classList.remove('colab-df-spinner');\n",
              "      quickchartButtonEl.classList.add('colab-df-quickchart-complete');\n",
              "    }\n",
              "    (() => {\n",
              "      let quickchartButtonEl =\n",
              "        document.querySelector('#df-1509a7db-9d56-4f39-9375-63a253b627b4 button');\n",
              "      quickchartButtonEl.style.display =\n",
              "        google.colab.kernel.accessAllowed ? 'block' : 'none';\n",
              "    })();\n",
              "  </script>\n",
              "</div>\n",
              "    </div>\n",
              "  </div>\n"
            ],
            "application/vnd.google.colaboratory.intrinsic+json": {
              "type": "dataframe",
              "variable_name": "raw_iop_csv",
              "summary": "{\n  \"name\": \"raw_iop_csv\",\n  \"rows\": 4594,\n  \"fields\": [\n    {\n      \"column\": \"idd\",\n      \"properties\": {\n        \"dtype\": \"string\",\n        \"num_unique_values\": 4594,\n        \"samples\": [\n          \"mij8ktR1+U\",\n          \"$2_rG$!SR!\",\n          \"E+&&1TwpM_\"\n        ],\n        \"semantic_type\": \"\",\n        \"description\": \"\"\n      }\n    },\n    {\n      \"column\": \"title\",\n      \"properties\": {\n        \"dtype\": \"string\",\n        \"num_unique_values\": 4537,\n        \"samples\": [\n          \"McConnell: No lame duck confirmation\",\n          \"Trump shakes up campaign, prepares to roll out long-awaited ads\",\n          \"Aleppo fighters demand $300 for exit via humanitarian corridors\"\n        ],\n        \"semantic_type\": \"\",\n        \"description\": \"\"\n      }\n    },\n    {\n      \"column\": \"text\",\n      \"properties\": {\n        \"dtype\": \"string\",\n        \"num_unique_values\": 4409,\n        \"samples\": [\n          \"Democrats are Racist for Calling Black Trump Supporters Uneducated Red Necks page: 1 link Its ok to call us white Trump supporters all that but when You mess with our black friends then that's another issue. Democrats need to realize that some black folks and white folks all grew up with different opportunities and school zones, that is SO RACIST to call them uneducated, its fine to call us whites that but not our black brothers and sisters, the Hispanics and all other non whites. How dare the Clintons offend our black and other minority members , Im sure some liberal will come along and say something totally ignorant like trump doesn't have and black supporters, well he does, over 20% of them. True, the democrats didn't single out the blacks and minorities, they referred to all of us as lots of things, all of us AMERICANS that weren't equal in our financial upbringings. You see, I see all of us Trump supporters as 3 colors, red white and blue. I see us all as Ameicans and not trying to DIVIDE people like the democrats.\",\n          \"LYNCHBURG, Va. \\u2014Ted Cruz will announce Monday that he will seek the presidency, launching a campaign that aims to energize the party's Tea Party and socially conservative wings.\\n\\nCruz's plans were confirmed Sunday by two senior advisers with direct knowledge of his plans, who requested anonymity because an official announcement had not yet been made.\\n\\nThe Texas Republican will be the first candidate to officially declare a 2016 run for the White House, though several more are likely to be close behind him.\\n\\nSen. Rand Paul, R-Ky., is expected to announce on April 7. Former Florida governor Jeb Bush, Wisconsin Gov. Scott Walker and other potential candidates have taken preliminary steps towards campaigns.\\n\\nOn the Democratic side, former secretary of State Hillary Rodham Clinton is also expected to launch a campaign soon.\\n\\nCruz is set to announce his intentions in a speech at Liberty University, founded by Jerry Falwell, which bills itself as the world's largest Christian university. The Houston Chronicle was the first to report Cruz's announcement.\\n\\nCruz, 44, is just starting the third year of his first Senate term. He is an undisputed leader of the Tea Party movement, known for his brash, uncompromising style and conservative beliefs that target both President Obama as well as his fellow Republicans.\\n\\nHe repeatedly criticizes the \\\"mushy middle\\\" \\u2014 as reflected by the GOP's last two presidential nominees Mitt Romney and Sen. John McCain \\u2014 and denounces his fellow Republicans for failing to make bold distinctions with Democrats. \\\"It's a failed electoral strategy,\\\" Cruz has said.\\n\\nPerhaps more than any other potential candidate, Cruz has urged a more aggressive path for Republicans. He has criticized his party leadership for not taking on Obama over health care and immigration and has urged the party faithful to \\\"demand action, not talk\\\" from their elected officials \\u2014 including fellow Republicans.\\n\\n\\\"If a candidate tells you that they oppose Obamacare, fantastic! (But) when have you stood up and fought against it?\\\" Cruz said last month at the Conservative Political Action Conference. \\\"If a candidate says they oppose Obama's illegal executive amnesty, terrific. When have you stood up and fought against it?\\\"\\n\\nJames Henson, director of the Texas Politics Project at the University of Texas in Austin, said the GOP primaries will determine whether Cruz's personality will be an asset or a challenge\\n\\n\\\"His combativeness and tone are a potential problem,\\\" Henson said. \\\"They are part of the image he's cultivated and, from what I have seen, he is not overly concerned with modulating that brand. We're going to see whether it works or not.\\\"\\n\\nCruz begins the race trailing in early GOP presidential polls and lags well behind Bush and Walker, the two leading candidates at this stage. He is expected to compete with Paul and Florida Sen. Marco Rubio for support from movement conservatives and Tea Party supporters, and with former Arkansas governor Mike Huckabee and former Pennsylvania senator Rick Santorum \\u2014 the last two winners of the Iowa caucuses \\u2014 for the votes of religious conservatives.\\n\\nA self-described lifelong conservative who grew up in Houston, Cruz was educated at Princeton and Harvard and clerked for Supreme Court Chief Justice William Rehnquist. He had stints in the federal government \\u2014 working for the U.S. Trade Commission and the Justice Department in the George W. Bush administration \\u2014 as well as in private law practice.\\n\\nHe returned home to Texas to serve as solicitor general for Greg Abbott, the former state attorney general who is now governor. But it was Cruz's drubbing in 2012 of then-lieutenant governor David Dewhurst in the Senate GOP primary that made him a Tea Party star.\\n\\nLess than a year later, congressional Republicans would praise \\u2014 and blame \\u2014 Cruz for his role in the 2013 government shutdown and this year's dispute over homeland security funding. His marathon protest on the Senate floor in 2013 over the Affordable Care Act led to the partial government shutdown that year and earned Cruz national notoriety.\\n\\nMark Jones, chairman of the Rice University political science department, said Cruz's immediate task is to figure out a \\\"realistic path\\\" that moves him from the second tier of Republican candidates into the first tier now occupied by Bush and Walker. And even if the Texan cannot do that, Jones said a 2016 presidential bid for Cruz still makes sense.\\n\\n\\\"Cruz is at the very beginning of what is certain to be a long and successful political career,\\\" Jones said. \\\"This presidential campaign can be successful even if he does not obtain the Republican nomination, by allowing him to reach out and speak to a broader Republican audience.\\\"\",\n          \"Print \\nIf you want to see war without end, vote for Hillary Clinton. It is tremendously ironic that Hillary Clinton and the mainstream media have attempted to portray Donald Trump as \\u201cdangerous\\u201d and \\u201ctemperamental\\u201d, because it is Clinton that actually has a long history of being emotionally unstable. She has a temper that is absolutely legendary, and she has been cussing out the men and women in her security detail for decades . Hillary Clinton played a key role in starting the civil war in Syria, thanks to her Libya is a post-apocalyptic wasteland today, and now she is picking a fight with the Russians before she has even won the election. Of all the candidates there were running for president this election cycle, there was nobody that was even close to as dangerous as Hillary Clinton, and if she wins the election I am fully convinced that World War 3 will begin before her time in the White House is over. \\nSomeone that shares this opinion with me is Donald Trump. According to Reuters , Trump recently stated that we are \\u201cgoing to end up in World War Three over Syria if we listen to Hillary Clinton\\u201d\\u2026 \\nOn Syria\\u2019s civil war, Trump said Clinton could drag the United States into a world war with a more aggressive posture toward resolving the conflict. \\nClinton has called for the establishment of a no-fly zone and \\u201csafe zones\\u201d on the ground to protect non-combatants. Some analysts fear that protecting those zones could bring the United States into direct conflict with Russian fighter jets. \\n\\u201cWhat we should do is focus on ISIS. We should not be focusing on Syria,\\u201d said Trump as he dined on fried eggs and sausage at his Trump National Doral golf resort. \\u201cYou\\u2019re going to end up in World War Three over Syria if we listen to Hillary Clinton.\\u201d \\nIn order to have a no-fly zone in Syria, you would have to enforce it. \\nAnd in order to enforce it, you would have to be willing to shoot at the Russians. \\nAccording to National Intelligence Director James Clapper , that could have dire consequences\\u2026 \\nRussia could shoot down a U.S. aircraft if a no-fly zone were imposed over Syria, National Intelligence Director James Clapper said Tuesday. \\n\\u201cI wouldn\\u2019t put it past them to shoot down an American aircraft if they felt that was threatening to their forces on the ground,\\u201d Clapper said, speaking with CBS\\u2019 Charlie Rose at the Council on Foreign Relations in New York about several national security issues. \\nOf course Clapper is not alone in that assessment. The Chairman of the Joint Chiefs of Staff, General Joseph Francis Dunford, says that imposing a no-fly zone over all of Syria \\u201cwould require us to go to war\\u201d \\u2026 \\n\\u201cRight now, Senator, for us to control all of the airspace in Syria it would require us to go to war, against Syria and Russia,\\u2026 That\\u2019s a pretty fundamental decision that certainly I\\u2019m not going to make.\\u201d ( Senate Armed Services Committee, September 22, 2016, emphasis added) \\nBut Hillary Clinton is unwavering in her position that this is what she wants. \\nYou see, the truth is that Hillary Clinton wants to win the war that she started in Syria. Back in 2011, she spearheaded an effort along with Saudi Arabia and Turkey to try to use the Arab Spring uprisings in the Middle East as an opportunity to try to overthrow President Assad in Syria. If it wasn\\u2019t for her meddling, millions of refugees would not be pouring into Europe and elsewhere, and there would be no \\u201chumanitarian crisis\\u201d in Syria at all. \\nThanks to Russian intervention, the war in Syria is not too far from being over, but the Obama administration is desperate to keep it going. They understand that if Assad is victorious that all of their efforts for the last five years have been wasted, and that is why they are so determined to keep Aleppo from falling. Without Aleppo, many of the jihadist rebels that the Obama administration has been supporting won\\u2019t have anywhere to hide. \\nSo the Obama administration has actually been considering direct strikes against the Syrian military, and the Russians have already said that they will not allow this to happen . If Obama is insane enough to order airstrikes against Syrian forces and the Russians start shooting back, that could set off a chain of events that could rapidly spiral completely out of control. \\nOne recent survey found that current American leadership has a 1 percent approval rating in Russia right now, and the Russians dislike Hillary Clinton even more than they dislike Barack Obama. The Russians know that if Hillary Clinton is elected that it is quite likely that they will have to fight a war with us, and that is why they desperately want Donald Trump to win in November. You can see this outlook reflected in comments that Russian President Vladimir Putin recently made about the two candidates \\u2026 \\n\\u201cMrs. Clinton has chosen to take up a very aggressive stance against our country, against Russia. Mr. Trump, on the other hand, calls for cooperation \\u2013 at least when it comes to the international fight against terrorism,\\u201d Putin said. \\n\\u201cNaturally we welcome those who would like to cooperate with us. And we consider it wrong, that we always have to be in conflict with one another, creating existential threats for each other and for the whole world,\\u201d Putin noted. \\nAnyone that watched the three presidential debates could see that Hillary Clinton is absolutely seething with animosity for Russia. The thought of her finger on the nuclear trigger is almost too terrible to contemplate, but it may soon become a reality. \\nAnd even now, the Obama administration and our NATO allies are shifting forces into position for a confrontation with Moscow. This week it is being reported that NATO troops will soon be sent to Poland, Estonia, Latvia and Lithuania \\u2026 Nine hundred US troops are to be sent to eastern Europe next year as America\\u2019s troubled relationship with Russia enters new, uncertain territory. A US-led battle group of NATO allied soldiers will be sent to Poland as part of the multi-nation operation. British forces will lead one of the four battle groups in Estonia, Canada will spearhead the presence in Latvia and Germany will be present in Lithuania. \\nIn addition, Infowars is reporting that U.S. Marines will soon be stationed in Norway near the border with Russia\\u2026 \\nAfter accepting a Pentagon proposal, Norway will host US Marines at a base near the Russian border as Russia deploys nuclear-capable ships to Kaliningrad. \\nA rotating force of approximately 330 Marines will be stationed at an airfield in the city of Vaernes, just outside Trondheim, beginning in January. Norway and Russia share an 122-mile border in the Arctic. \\n\\u201cThe US initiative to augment their training and exercises in Norway by locating a Marine Corps Rotational Force in Norway is highly welcome and will have positive implications for our already strong bilateral relationship,\\u201d said Norwegian Defense Minister Ine Eriksen S\\u00f8reide. \\nMost Americans aren\\u2019t aware of any of this, nor do they really care about our relationship with Russia. \\nBut in Russia things are completely different. The possibility of war with the United States is the biggest news story over there these days , and feverish preparations are being made for a potential nuclear confrontation \\u2026 \\nRussian authorities have stepped up nuclear-war survival measures amid a showdown with Washington, dusting off Soviet-era civil-defense plans and upgrading bomb shelters in the biggest cities. \\nAt the Kremlin\\u2019s Ministry of Emergency Situations, the Cold War is back. \\nThe country recently held its biggest civil defense drills since the collapse of the U.S.S.R., with what officials said were 40 million people rehearsing a response to chemical and nuclear threats. \\nI know that I have been writing about this over and over , but the truth is that we are on a path to war with Russia, and the election of Hillary Clinton would greatly accelerate the march toward war. \\nIn my controversial new book , I expressed my belief that war with Russia is coming, but at the time that I wrote it I didn\\u2019t know how the election would turn out. \\nAt this point it looks like Clinton is very likely to win on November 8th, and that would be absolutely disastrous for our relationship with Russia. \\nIf you are reading this and you are considering voting for Hillary Clinton, please don\\u2019t do it . We simply cannot afford to have an emotionally unstable warmonger with a violent temper in the White House at this critical time. \\nIf the American people do choose Hillary Clinton this November, I believe that it will be a choice that they will bitterly, bitterly regret in future years. \\nTake a look at the future of America: The Beginning of the End and then prepare shares\"\n        ],\n        \"semantic_type\": \"\",\n        \"description\": \"\"\n      }\n    },\n    {\n      \"column\": \"label\",\n      \"properties\": {\n        \"dtype\": \"category\",\n        \"num_unique_values\": 2,\n        \"samples\": [\n          \"FAKE\",\n          \"REAL\"\n        ],\n        \"semantic_type\": \"\",\n        \"description\": \"\"\n      }\n    }\n  ]\n}"
            }
          },
          "metadata": {},
          "execution_count": 4
        }
      ]
    },
    {
      "cell_type": "code",
      "source": [
        "# Separation of real and fake news\n",
        "\n",
        "raw_real_iop= raw_iop_csv[raw_iop_csv[\"label\"]==\"REAL\"].copy()\n",
        "raw_fake_iop= raw_iop_csv[raw_iop_csv[\"label\"]==\"FAKE\"].copy()\n",
        "print(\"Number of real articles:\", len(raw_real_iop))\n",
        "print(\"Number of fake articles:\", len(raw_fake_iop))"
      ],
      "metadata": {
        "colab": {
          "base_uri": "https://localhost:8080/"
        },
        "id": "4FPSJ6c4M8Vk",
        "outputId": "2dbdfcfe-1cb4-4aed-f1cf-324341db698f"
      },
      "execution_count": 5,
      "outputs": [
        {
          "output_type": "stream",
          "name": "stdout",
          "text": [
            "Number of real articles: 2297\n",
            "Number of fake articles: 2297\n"
          ]
        }
      ]
    },
    {
      "cell_type": "markdown",
      "source": [
        "As can be seen in the next plot there are more fake articles with lower length than real articles:"
      ],
      "metadata": {
        "id": "3Cp82415O_Ie"
      }
    },
    {
      "cell_type": "code",
      "source": [
        "real_lengths = raw_real_iop['text'].apply(len)\n",
        "fake_lengths = raw_fake_iop['text'].apply(len)\n",
        "\n",
        "plt.hist(real_lengths, bins=50, alpha=0.5, label='Real')\n",
        "plt.hist(fake_lengths, bins=50, alpha=0.5, label='Fake')\n",
        "plt.title('Article Lengths')\n",
        "plt.xlabel('Length')\n",
        "plt.ylabel('Count')\n",
        "plt.legend()\n",
        "plt.show()"
      ],
      "metadata": {
        "colab": {
          "base_uri": "https://localhost:8080/",
          "height": 472
        },
        "id": "Gscy7n1RMc7G",
        "outputId": "f447c871-907d-45e8-d839-fc0314a73008"
      },
      "execution_count": 6,
      "outputs": [
        {
          "output_type": "display_data",
          "data": {
            "text/plain": [
              "<Figure size 640x480 with 1 Axes>"
            ],
            "image/png": "[encoded data removed]"
          },
          "metadata": {}
        }
      ]
    },
    {
      "cell_type": "markdown",
      "source": [
        "The same happen when we count not just the length but the words:"
      ],
      "metadata": {
        "id": "59V9JdXjPEGu"
      }
    },
    {
      "cell_type": "code",
      "source": [
        "real_lengths_words = raw_real_iop['text'].str.split().apply(len)\n",
        "fake_lengths_words = raw_fake_iop['text'].str.split().apply(len)\n",
        "\n",
        "plt.hist(real_lengths_words, bins=50, alpha=0.5, label='Real')\n",
        "plt.hist(fake_lengths_words, bins=50, alpha=0.5, label='Fake')\n",
        "plt.title('Article Lengths by Words')\n",
        "plt.xlabel('Length')\n",
        "plt.ylabel('Count')\n",
        "plt.legend()\n",
        "plt.show()"
      ],
      "metadata": {
        "colab": {
          "base_uri": "https://localhost:8080/",
          "height": 472
        },
        "id": "TT-6U-mZPRvx",
        "outputId": "6e6928e3-34a6-4812-f927-c17ba52cae4f"
      },
      "execution_count": 7,
      "outputs": [
        {
          "output_type": "display_data",
          "data": {
            "text/plain": [
              "<Figure size 640x480 with 1 Axes>"
            ],
            "image/png": "[encoded data removed]"
          },
          "metadata": {}
        }
      ]
    },
    {
      "cell_type": "markdown",
      "source": [
        "Now we are gonna make sure the text for every new has at least one word:"
      ],
      "metadata": {
        "id": "hZWI4lm1bAoQ"
      }
    },
    {
      "cell_type": "code",
      "source": [
        "print(\"Number of words in the real article with least number:\", min(raw_real_iop['text'].str.split().apply(len)))"
      ],
      "metadata": {
        "colab": {
          "base_uri": "https://localhost:8080/"
        },
        "id": "5LbJ6YyUfmxM",
        "outputId": "d227674d-2777-4cec-dad1-43a69545521f"
      },
      "execution_count": 8,
      "outputs": [
        {
          "output_type": "stream",
          "name": "stdout",
          "text": [
            "Number of words in the real article with least number: 9\n"
          ]
        }
      ]
    },
    {
      "cell_type": "code",
      "source": [
        "raw_fake_iop[\"test_number_words\"]=raw_fake_iop['text'].str.split().apply(len)"
      ],
      "metadata": {
        "id": "LqXyjCrDaEnv"
      },
      "execution_count": 9,
      "outputs": []
    },
    {
      "cell_type": "code",
      "source": [
        "raw_fake_iop_not_zero=raw_fake_iop[raw_fake_iop[\"test_number_words\"]!=0]\n",
        "len(raw_fake_iop_not_zero)"
      ],
      "metadata": {
        "colab": {
          "base_uri": "https://localhost:8080/"
        },
        "id": "P7wG4NM7alWj",
        "outputId": "6f0dff1d-6c3d-43b0-ca43-93c2f6d1acdd"
      },
      "execution_count": 10,
      "outputs": [
        {
          "output_type": "execute_result",
          "data": {
            "text/plain": [
              "2272"
            ]
          },
          "metadata": {},
          "execution_count": 10
        }
      ]
    },
    {
      "cell_type": "markdown",
      "source": [
        "In terms of average length per word we have:"
      ],
      "metadata": {
        "id": "DqNtnFkRRRjp"
      }
    },
    {
      "cell_type": "code",
      "source": [
        "real_lengths_words = raw_real_iop['text'].str.split().apply(lambda x : [len(i) for i in x]).map(lambda x: np.mean(x))\n",
        "#fake_lengths_words = raw_fake_iop['text'].str.split().apply(lambda x : [len(i) for i in x]).map(lambda x: np.mean(x))\n",
        "\n",
        "plt.hist(real_lengths_words, bins=50, alpha=0.5, label='Real')\n",
        "#plt.hist(fake_lengths_words, bins=50, alpha=0.5, label='Fake')\n",
        "plt.title('Article Average Length per Word')\n",
        "plt.xlabel('Length')\n",
        "plt.ylabel('Count')\n",
        "plt.legend()\n",
        "plt.show()"
      ],
      "metadata": {
        "colab": {
          "base_uri": "https://localhost:8080/",
          "height": 472
        },
        "id": "pAgZuEV_RR1m",
        "outputId": "6497de62-a823-476a-d8da-c1e65f0be0e1"
      },
      "execution_count": 11,
      "outputs": [
        {
          "output_type": "display_data",
          "data": {
            "text/plain": [
              "<Figure size 640x480 with 1 Axes>"
            ],
            "image/png": "[encoded data removed]"
          },
          "metadata": {}
        }
      ]
    },
    {
      "cell_type": "code",
      "source": [
        "#real_lengths_words = raw_real_iop['text'].str.split().apply(lambda x : [len(i) for i in x]).map(lambda x: np.mean(x))\n",
        "fake_lengths_words = raw_fake_iop_not_zero['text'].str.split().apply(lambda x : [len(i) for i in x]).map(lambda x: np.mean(x))\n",
        "\n",
        "#plt.hist(real_lengths_words, bins=50, alpha=0.5, label='Real')\n",
        "plt.hist(fake_lengths_words, bins=50, alpha=0.5, label='Fake')\n",
        "plt.title('Article Average Length per Word')\n",
        "plt.xlabel('Length')\n",
        "plt.ylabel('Count')\n",
        "plt.legend()\n",
        "plt.show()"
      ],
      "metadata": {
        "colab": {
          "base_uri": "https://localhost:8080/",
          "height": 472
        },
        "id": "avETbqn_XQmG",
        "outputId": "7e69e1c2-df11-48e6-cd57-b7b0c8d90690"
      },
      "execution_count": 12,
      "outputs": [
        {
          "output_type": "display_data",
          "data": {
            "text/plain": [
              "<Figure size 640x480 with 1 Axes>"
            ],
            "image/png": "[encoded data removed]"
          },
          "metadata": {}
        }
      ]
    },
    {
      "cell_type": "code",
      "source": [
        "real_lengths_words = raw_real_iop['text'].str.split().apply(lambda x : [len(i) for i in x]).map(lambda x: np.mean(x))\n",
        "fake_lengths_words = raw_fake_iop_not_zero['text'].str.split().apply(lambda x : [len(i) for i in x]).map(lambda x: np.mean(x))\n",
        "\n",
        "plt.hist(real_lengths_words, bins=50, alpha=0.5, label='Real')\n",
        "plt.hist(fake_lengths_words, bins=50, alpha=0.5, label='Fake')\n",
        "plt.title('Article Average Length per Word')\n",
        "plt.xlabel('Length')\n",
        "plt.ylabel('Count')\n",
        "plt.legend()\n",
        "plt.show()"
      ],
      "metadata": {
        "colab": {
          "base_uri": "https://localhost:8080/",
          "height": 472
        },
        "id": "GOG2Qlppgi20",
        "outputId": "e58dbc83-d757-4f8f-a355-71f4e88cb542"
      },
      "execution_count": 13,
      "outputs": [
        {
          "output_type": "display_data",
          "data": {
            "text/plain": [
              "<Figure size 640x480 with 1 Axes>"
            ],
            "image/png": "[encoded data removed]"
          },
          "metadata": {}
        }
      ]
    },
    {
      "cell_type": "markdown",
      "source": [
        "Now in terms of stopwords"
      ],
      "metadata": {
        "id": "hKe_vCcVNBxB"
      }
    },
    {
      "cell_type": "code",
      "source": [
        "from collections import Counter\n",
        "import nltk\n",
        "#downloading stopwords and punkt\n",
        "nltk.download('stopwords')\n",
        "nltk.download('punkt')"
      ],
      "metadata": {
        "colab": {
          "base_uri": "https://localhost:8080/"
        },
        "id": "Ysm9mtmNh9aV",
        "outputId": "b77dd3d7-8d92-457c-d313-a4c04dfe263f"
      },
      "execution_count": 14,
      "outputs": [
        {
          "output_type": "stream",
          "name": "stderr",
          "text": [
            "[nltk_data] Downloading package stopwords to /root/nltk_data...\n",
            "[nltk_data]   Unzipping corpora/stopwords.zip.\n",
            "[nltk_data] Downloading package punkt to /root/nltk_data...\n",
            "[nltk_data]   Unzipping tokenizers/punkt.zip.\n"
          ]
        },
        {
          "output_type": "execute_result",
          "data": {
            "text/plain": [
              "True"
            ]
          },
          "metadata": {},
          "execution_count": 14
        }
      ]
    },
    {
      "cell_type": "code",
      "source": [
        "from nltk.corpus import stopwords\n",
        "from collections import defaultdict\n",
        "\n",
        "stop=set(stopwords.words('english'))\n",
        "\n",
        "\n",
        "def counting_stop_words(series):\n",
        "  corpus=[]\n",
        "  new= series.str.split()\n",
        "  new=new.values.tolist()\n",
        "  corpus=[word for i in new for word in i]\n",
        "\n",
        "\n",
        "  dic=defaultdict(int)\n",
        "  for word in corpus:\n",
        "      if word in stop:\n",
        "          dic[word]+=1\n",
        "\n",
        "  return dic"
      ],
      "metadata": {
        "id": "yVvwrwjAgvNW"
      },
      "execution_count": 15,
      "outputs": []
    },
    {
      "cell_type": "code",
      "source": [
        "import string\n",
        "\n",
        "def pre_process_analysis(text):\n",
        "    # Lowercase the text\n",
        "    text = text.lower()\n",
        "\n",
        "    # Remove punctuation and digits\n",
        "    text = text.translate(str.maketrans('', '', string.punctuation + string.digits))\n",
        "\n",
        "    return text\n",
        "\n",
        "raw_real_iop[\"text\"]=raw_real_iop['text'].apply(pre_process_analysis)\n",
        "raw_fake_iop_not_zero[\"text\"]=raw_fake_iop_not_zero['text'].apply(pre_process_analysis)"
      ],
      "metadata": {
        "colab": {
          "base_uri": "https://localhost:8080/"
        },
        "id": "TQVKCiz4Q6aB",
        "outputId": "fe4fb1af-d48a-4929-aed0-b0acfcb97631"
      },
      "execution_count": 16,
      "outputs": [
        {
          "output_type": "stream",
          "name": "stderr",
          "text": [
            "<ipython-input-16-3912e96b060a>:13: SettingWithCopyWarning: \n",
            "A value is trying to be set on a copy of a slice from a DataFrame.\n",
            "Try using .loc[row_indexer,col_indexer] = value instead\n",
            "\n",
            "See the caveats in the documentation: https://pandas.pydata.org/pandas-docs/stable/user_guide/indexing.html#returning-a-view-versus-a-copy\n",
            "  raw_fake_iop_not_zero[\"text\"]=raw_fake_iop_not_zero['text'].apply(pre_process_analysis)\n"
          ]
        }
      ]
    },
    {
      "cell_type": "code",
      "source": [
        "raw_real_iop"
      ],
      "metadata": {
        "colab": {
          "base_uri": "https://localhost:8080/",
          "height": 423
        },
        "id": "dLlsOe-1SKuZ",
        "outputId": "06c38f6c-97e0-4dd6-bb43-66086b0f1f19"
      },
      "execution_count": 17,
      "outputs": [
        {
          "output_type": "execute_result",
          "data": {
            "text/plain": [
              "             idd                                              title  \\\n",
              "0     Fq+C96tcx+  ‘A target on Roe v. Wade ’: Oklahoma bill maki...   \n",
              "1     bHUqK!pgmv  Study: women had to drive 4 times farther afte...   \n",
              "2     4Y4Ubf%aTi        Trump, Clinton clash in dueling DC speeches   \n",
              "3     _CoY89SJ@K  Grand jury in Texas indicts activists behind P...   \n",
              "4     +rJHoRQVLe  As Reproductive Rights Hang In The Balance, De...   \n",
              "...          ...                                                ...   \n",
              "2292  cXUFKk31t6       VP vetting? Trump meets with Sen. Joni Ernst   \n",
              "2293  Eh(RgCq_gz  Amid campaign troubles, Trump blasts Clinton a...   \n",
              "2294  0Q6_*BZ^_5               Lewandowski firing: Power of Ivanka?   \n",
              "2295  cFaGIz@3Vb  In new poll, support for Trump has plunged, gi...   \n",
              "2296  Ta#^!g08dg  How to Talk Your Friends and Loved Ones Out of...   \n",
              "\n",
              "                                                   text label  \n",
              "0     update gov fallin vetoed the bill on friday he...  REAL  \n",
              "1     ever since texas laws closed about half of the...  REAL  \n",
              "2     donald trump and hillary clinton now at the st...  REAL  \n",
              "3     a houston grand jury investigating criminal al...  REAL  \n",
              "4     washington  fortythree years after the supreme...  REAL  \n",
              "...                                                 ...   ...  \n",
              "2292  donald trump on monday spent part of his july ...  REAL  \n",
              "2293  new york — his campaign in turmoil donald trum...  REAL  \n",
              "2294  peggy drexler is the author of our fathers our...  REAL  \n",
              "2295  donald trump returns to the campaign trail fro...  REAL  \n",
              "2296  a lot of people don’t think donald trump would...  REAL  \n",
              "\n",
              "[2297 rows x 4 columns]"
            ],
            "text/html": [
              "\n",
              "  <div id=\"df-2c275747-8c84-4edb-815f-644dd3a2d831\" class=\"colab-df-container\">\n",
              "    <div>\n",
              "<style scoped>\n",
              "    .dataframe tbody tr th:only-of-type {\n",
              "        vertical-align: middle;\n",
              "    }\n",
              "\n",
              "    .dataframe tbody tr th {\n",
              "        vertical-align: top;\n",
              "    }\n",
              "\n",
              "    .dataframe thead th {\n",
              "        text-align: right;\n",
              "    }\n",
              "</style>\n",
              "<table border=\"1\" class=\"dataframe\">\n",
              "  <thead>\n",
              "    <tr style=\"text-align: right;\">\n",
              "      <th></th>\n",
              "      <th>idd</th>\n",
              "      <th>title</th>\n",
              "      <th>text</th>\n",
              "      <th>label</th>\n",
              "    </tr>\n",
              "  </thead>\n",
              "  <tbody>\n",
              "    <tr>\n",
              "      <th>0</th>\n",
              "      <td>Fq+C96tcx+</td>\n",
              "      <td>‘A target on Roe v. Wade ’: Oklahoma bill maki...</td>\n",
              "      <td>update gov fallin vetoed the bill on friday he...</td>\n",
              "      <td>REAL</td>\n",
              "    </tr>\n",
              "    <tr>\n",
              "      <th>1</th>\n",
              "      <td>bHUqK!pgmv</td>\n",
              "      <td>Study: women had to drive 4 times farther afte...</td>\n",
              "      <td>ever since texas laws closed about half of the...</td>\n",
              "      <td>REAL</td>\n",
              "    </tr>\n",
              "    <tr>\n",
              "      <th>2</th>\n",
              "      <td>4Y4Ubf%aTi</td>\n",
              "      <td>Trump, Clinton clash in dueling DC speeches</td>\n",
              "      <td>donald trump and hillary clinton now at the st...</td>\n",
              "      <td>REAL</td>\n",
              "    </tr>\n",
              "    <tr>\n",
              "      <th>3</th>\n",
              "      <td>_CoY89SJ@K</td>\n",
              "      <td>Grand jury in Texas indicts activists behind P...</td>\n",
              "      <td>a houston grand jury investigating criminal al...</td>\n",
              "      <td>REAL</td>\n",
              "    </tr>\n",
              "    <tr>\n",
              "      <th>4</th>\n",
              "      <td>+rJHoRQVLe</td>\n",
              "      <td>As Reproductive Rights Hang In The Balance, De...</td>\n",
              "      <td>washington  fortythree years after the supreme...</td>\n",
              "      <td>REAL</td>\n",
              "    </tr>\n",
              "    <tr>\n",
              "      <th>...</th>\n",
              "      <td>...</td>\n",
              "      <td>...</td>\n",
              "      <td>...</td>\n",
              "      <td>...</td>\n",
              "    </tr>\n",
              "    <tr>\n",
              "      <th>2292</th>\n",
              "      <td>cXUFKk31t6</td>\n",
              "      <td>VP vetting? Trump meets with Sen. Joni Ernst</td>\n",
              "      <td>donald trump on monday spent part of his july ...</td>\n",
              "      <td>REAL</td>\n",
              "    </tr>\n",
              "    <tr>\n",
              "      <th>2293</th>\n",
              "      <td>Eh(RgCq_gz</td>\n",
              "      <td>Amid campaign troubles, Trump blasts Clinton a...</td>\n",
              "      <td>new york — his campaign in turmoil donald trum...</td>\n",
              "      <td>REAL</td>\n",
              "    </tr>\n",
              "    <tr>\n",
              "      <th>2294</th>\n",
              "      <td>0Q6_*BZ^_5</td>\n",
              "      <td>Lewandowski firing: Power of Ivanka?</td>\n",
              "      <td>peggy drexler is the author of our fathers our...</td>\n",
              "      <td>REAL</td>\n",
              "    </tr>\n",
              "    <tr>\n",
              "      <th>2295</th>\n",
              "      <td>cFaGIz@3Vb</td>\n",
              "      <td>In new poll, support for Trump has plunged, gi...</td>\n",
              "      <td>donald trump returns to the campaign trail fro...</td>\n",
              "      <td>REAL</td>\n",
              "    </tr>\n",
              "    <tr>\n",
              "      <th>2296</th>\n",
              "      <td>Ta#^!g08dg</td>\n",
              "      <td>How to Talk Your Friends and Loved Ones Out of...</td>\n",
              "      <td>a lot of people don’t think donald trump would...</td>\n",
              "      <td>REAL</td>\n",
              "    </tr>\n",
              "  </tbody>\n",
              "</table>\n",
              "<p>2297 rows × 4 columns</p>\n",
              "</div>\n",
              "    <div class=\"colab-df-buttons\">\n",
              "\n",
              "  <div class=\"colab-df-container\">\n",
              "    <button class=\"colab-df-convert\" onclick=\"convertToInteractive('df-2c275747-8c84-4edb-815f-644dd3a2d831')\"\n",
              "            title=\"Convert this dataframe to an interactive table.\"\n",
              "            style=\"display:none;\">\n",
              "\n",
              "  <svg xmlns=\"http://www.w3.org/2000/svg\" height=\"24px\" viewBox=\"0 -960 960 960\">\n",
              "    <path d=\"M120-120v-720h720v720H120Zm60-500h600v-160H180v160Zm220 220h160v-160H400v160Zm0 220h160v-160H400v160ZM180-400h160v-160H180v160Zm440 0h160v-160H620v160ZM180-180h160v-160H180v160Zm440 0h160v-160H620v160Z\"/>\n",
              "  </svg>\n",
              "    </button>\n",
              "\n",
              "  <style>\n",
              "    .colab-df-container {\n",
              "      display:flex;\n",
              "      gap: 12px;\n",
              "    }\n",
              "\n",
              "    .colab-df-convert {\n",
              "      background-color: #E8F0FE;\n",
              "      border: none;\n",
              "      border-radius: 50%;\n",
              "      cursor: pointer;\n",
              "      display: none;\n",
              "      fill: #1967D2;\n",
              "      height: 32px;\n",
              "      padding: 0 0 0 0;\n",
              "      width: 32px;\n",
              "    }\n",
              "\n",
              "    .colab-df-convert:hover {\n",
              "      background-color: #E2EBFA;\n",
              "      box-shadow: 0px 1px 2px rgba(60, 64, 67, 0.3), 0px 1px 3px 1px rgba(60, 64, 67, 0.15);\n",
              "      fill: #174EA6;\n",
              "    }\n",
              "\n",
              "    .colab-df-buttons div {\n",
              "      margin-bottom: 4px;\n",
              "    }\n",
              "\n",
              "    [theme=dark] .colab-df-convert {\n",
              "      background-color: #3B4455;\n",
              "      fill: #D2E3FC;\n",
              "    }\n",
              "\n",
              "    [theme=dark] .colab-df-convert:hover {\n",
              "      background-color: #434B5C;\n",
              "      box-shadow: 0px 1px 3px 1px rgba(0, 0, 0, 0.15);\n",
              "      filter: drop-shadow(0px 1px 2px rgba(0, 0, 0, 0.3));\n",
              "      fill: #FFFFFF;\n",
              "    }\n",
              "  </style>\n",
              "\n",
              "    <script>\n",
              "      const buttonEl =\n",
              "        document.querySelector('#df-2c275747-8c84-4edb-815f-644dd3a2d831 button.colab-df-convert');\n",
              "      buttonEl.style.display =\n",
              "        google.colab.kernel.accessAllowed ? 'block' : 'none';\n",
              "\n",
              "      async function convertToInteractive(key) {\n",
              "        const element = document.querySelector('#df-2c275747-8c84-4edb-815f-644dd3a2d831');\n",
              "        const dataTable =\n",
              "          await google.colab.kernel.invokeFunction('convertToInteractive',\n",
              "                                                    [key], {});\n",
              "        if (!dataTable) return;\n",
              "\n",
              "        const docLinkHtml = 'Like what you see? Visit the ' +\n",
              "          '<a target=\"_blank\" href=https://colab.research.google.com/notebooks/data_table.ipynb>data table notebook</a>'\n",
              "          + ' to learn more about interactive tables.';\n",
              "        element.innerHTML = '';\n",
              "        dataTable['output_type'] = 'display_data';\n",
              "        await google.colab.output.renderOutput(dataTable, element);\n",
              "        const docLink = document.createElement('div');\n",
              "        docLink.innerHTML = docLinkHtml;\n",
              "        element.appendChild(docLink);\n",
              "      }\n",
              "    </script>\n",
              "  </div>\n",
              "\n",
              "\n",
              "<div id=\"df-877c7dfe-4034-45fb-8c98-d1ae20bdb08b\">\n",
              "  <button class=\"colab-df-quickchart\" onclick=\"quickchart('df-877c7dfe-4034-45fb-8c98-d1ae20bdb08b')\"\n",
              "            title=\"Suggest charts\"\n",
              "            style=\"display:none;\">\n",
              "\n",
              "<svg xmlns=\"http://www.w3.org/2000/svg\" height=\"24px\"viewBox=\"0 0 24 24\"\n",
              "     width=\"24px\">\n",
              "    <g>\n",
              "        <path d=\"M19 3H5c-1.1 0-2 .9-2 2v14c0 1.1.9 2 2 2h14c1.1 0 2-.9 2-2V5c0-1.1-.9-2-2-2zM9 17H7v-7h2v7zm4 0h-2V7h2v10zm4 0h-2v-4h2v4z\"/>\n",
              "    </g>\n",
              "</svg>\n",
              "  </button>\n",
              "\n",
              "<style>\n",
              "  .colab-df-quickchart {\n",
              "      --bg-color: #E8F0FE;\n",
              "      --fill-color: #1967D2;\n",
              "      --hover-bg-color: #E2EBFA;\n",
              "      --hover-fill-color: #174EA6;\n",
              "      --disabled-fill-color: #AAA;\n",
              "      --disabled-bg-color: #DDD;\n",
              "  }\n",
              "\n",
              "  [theme=dark] .colab-df-quickchart {\n",
              "      --bg-color: #3B4455;\n",
              "      --fill-color: #D2E3FC;\n",
              "      --hover-bg-color: #434B5C;\n",
              "      --hover-fill-color: #FFFFFF;\n",
              "      --disabled-bg-color: #3B4455;\n",
              "      --disabled-fill-color: #666;\n",
              "  }\n",
              "\n",
              "  .colab-df-quickchart {\n",
              "    background-color: var(--bg-color);\n",
              "    border: none;\n",
              "    border-radius: 50%;\n",
              "    cursor: pointer;\n",
              "    display: none;\n",
              "    fill: var(--fill-color);\n",
              "    height: 32px;\n",
              "    padding: 0;\n",
              "    width: 32px;\n",
              "  }\n",
              "\n",
              "  .colab-df-quickchart:hover {\n",
              "    background-color: var(--hover-bg-color);\n",
              "    box-shadow: 0 1px 2px rgba(60, 64, 67, 0.3), 0 1px 3px 1px rgba(60, 64, 67, 0.15);\n",
              "    fill: var(--button-hover-fill-color);\n",
              "  }\n",
              "\n",
              "  .colab-df-quickchart-complete:disabled,\n",
              "  .colab-df-quickchart-complete:disabled:hover {\n",
              "    background-color: var(--disabled-bg-color);\n",
              "    fill: var(--disabled-fill-color);\n",
              "    box-shadow: none;\n",
              "  }\n",
              "\n",
              "  .colab-df-spinner {\n",
              "    border: 2px solid var(--fill-color);\n",
              "    border-color: transparent;\n",
              "    border-bottom-color: var(--fill-color);\n",
              "    animation:\n",
              "      spin 1s steps(1) infinite;\n",
              "  }\n",
              "\n",
              "  @keyframes spin {\n",
              "    0% {\n",
              "      border-color: transparent;\n",
              "      border-bottom-color: var(--fill-color);\n",
              "      border-left-color: var(--fill-color);\n",
              "    }\n",
              "    20% {\n",
              "      border-color: transparent;\n",
              "      border-left-color: var(--fill-color);\n",
              "      border-top-color: var(--fill-color);\n",
              "    }\n",
              "    30% {\n",
              "      border-color: transparent;\n",
              "      border-left-color: var(--fill-color);\n",
              "      border-top-color: var(--fill-color);\n",
              "      border-right-color: var(--fill-color);\n",
              "    }\n",
              "    40% {\n",
              "      border-color: transparent;\n",
              "      border-right-color: var(--fill-color);\n",
              "      border-top-color: var(--fill-color);\n",
              "    }\n",
              "    60% {\n",
              "      border-color: transparent;\n",
              "      border-right-color: var(--fill-color);\n",
              "    }\n",
              "    80% {\n",
              "      border-color: transparent;\n",
              "      border-right-color: var(--fill-color);\n",
              "      border-bottom-color: var(--fill-color);\n",
              "    }\n",
              "    90% {\n",
              "      border-color: transparent;\n",
              "      border-bottom-color: var(--fill-color);\n",
              "    }\n",
              "  }\n",
              "</style>\n",
              "\n",
              "  <script>\n",
              "    async function quickchart(key) {\n",
              "      const quickchartButtonEl =\n",
              "        document.querySelector('#' + key + ' button');\n",
              "      quickchartButtonEl.disabled = true;  // To prevent multiple clicks.\n",
              "      quickchartButtonEl.classList.add('colab-df-spinner');\n",
              "      try {\n",
              "        const charts = await google.colab.kernel.invokeFunction(\n",
              "            'suggestCharts', [key], {});\n",
              "      } catch (error) {\n",
              "        console.error('Error during call to suggestCharts:', error);\n",
              "      }\n",
              "      quickchartButtonEl.classList.remove('colab-df-spinner');\n",
              "      quickchartButtonEl.classList.add('colab-df-quickchart-complete');\n",
              "    }\n",
              "    (() => {\n",
              "      let quickchartButtonEl =\n",
              "        document.querySelector('#df-877c7dfe-4034-45fb-8c98-d1ae20bdb08b button');\n",
              "      quickchartButtonEl.style.display =\n",
              "        google.colab.kernel.accessAllowed ? 'block' : 'none';\n",
              "    })();\n",
              "  </script>\n",
              "</div>\n",
              "    </div>\n",
              "  </div>\n"
            ],
            "application/vnd.google.colaboratory.intrinsic+json": {
              "type": "dataframe",
              "variable_name": "raw_real_iop",
              "summary": "{\n  \"name\": \"raw_real_iop\",\n  \"rows\": 2297,\n  \"fields\": [\n    {\n      \"column\": \"idd\",\n      \"properties\": {\n        \"dtype\": \"string\",\n        \"num_unique_values\": 2297,\n        \"samples\": [\n          \"_cz0dAdNhH\",\n          \"KzNtNlZ*7f\",\n          \"$TYZ#BYG!7\"\n        ],\n        \"semantic_type\": \"\",\n        \"description\": \"\"\n      }\n    },\n    {\n      \"column\": \"title\",\n      \"properties\": {\n        \"dtype\": \"string\",\n        \"num_unique_values\": 2275,\n        \"samples\": [\n          \"Clinton And The DNC: A Crisis Not Merely Survived, But Transcended\",\n          \"ISIS Genocide: Will US Back Up Its Tough Talk?\",\n          \"KRAUTHAMMER: Jeb Bush had a breakout performance in the Fox News debate\"\n        ],\n        \"semantic_type\": \"\",\n        \"description\": \"\"\n      }\n    },\n    {\n      \"column\": \"text\",\n      \"properties\": {\n        \"dtype\": \"string\",\n        \"num_unique_values\": 2171,\n        \"samples\": [\n          \"donald trump suggested on saturday that hillary clinton might have taken performanceenhancing drugs to prepare for their presidential debates and that both candidates for president should be tested before wednesday\\u2019s final debate\\n\\n\\u201cwe\\u2019re like athletes\\u201d the republican nominee told a rally in portsmouth new hampshire \\u201cthey make them take a drug test i think we should take a drug test prior to the debate i think we should \\u2013 why don\\u2019t we do that\\u201d\\n\\ntrump continued \\u201cwe should take a drug test prior because i don\\u2019t know what\\u2019s going on with her but at the beginning of her last debate she was all pumped up at the beginning and at the end it was \\u2018huh take me down\\u2019 she could barely reach her car so i think we should take a drug test anyway i\\u2019m willing to do it\\u201d\\n\\ntrump\\u2019s campaign has previously criticised the media for taking his rally statements literally with the candidatesaying for instance that he was being \\u201csarcastic\\u201d when he said barack obama \\u201cfounded\\u201d isis aides have yet to say whether he was speaking tongue in cheek\\n\\nthe health of both candidates has been under scrutiny in the final months of the grueling  campaign clinton was slow to reveal a bout of pneumonia which her campaign only made public after she made a premature departure from a september  memorial service in new york\\n\\ntrump\\u2019s repeated sniffling during the first two debates has also drawn attention and howard dean the former governor of vermont was forced to apologise for tweeting a suggestion that it could be due to cocaine use\\n\\nthe trump campaign did not respond to questions about what drugs the candidate was suggesting could have been used to enhance clinton\\u2019s debate performance\\n\\na protrump super pac run by the millionaire donor robert mercer released an ad earlier this month questioning clinton\\u2019s health \\u201cif athletes need to be tested for drugs for the biggest race of their lives\\u201d the ad says \\u201cshouldn\\u2019t candidates be tested for the biggest race of yours\\u201d\\n\\nwith his campaign in a tailspin after several women came forward with allegations of sexual harassment trump began saturday with another barrage of the tweets that have become a hallmark of his campaign in them he alleged that the election was rigged and suggested that a loss on  november would be illegitimate he wrote in one \\u201c fabricated and madeup charges pushed strongly by the media and the clinton campaign may poison the minds of the american voter fix\\u201d\\n\\nin another he said \\u201cthis election is being rigged by the media pushing false and unsubstantiated charges and outright lies in order to elect crooked hillary\\u201d\\n\\nand a third \\u201chillary clinton should have been prosecuted and should be in jail instead she is running for president in what looks like a rigged election\\u201d\\n\\nthe republican nominee has repeatedly suggested that the election is \\u201crigged\\u201d over the past few months and warned of voter fraud without any evidence since august trump has stirred conspiracy theories in the swing state of pennsylvania warning of fraud in \\u201ccertain areas\\u201d such as philadelphia a diverse city with a large african american population he has also echoed a  conspiracy theory that mitt romney fell victim to voter fraud in the city that year because he did not receive a single vote in  precincts in african american neighborhoods there are  precincts in the city and obama received more than  of the vote there in \\n\\ntrump picked up the theme during his rally in new hampshire scene of his first victory in the republican primary campaign \\u201chillary clinton is running for president in what looks like a rigged election ok\\u201d he said \\u201cit looks to me like a rigged election the election is being rigged by corrupt media pushing completely false allegations and outright lies in an effort to elect her president and you know what i mean\\u201d\\n\\nthe businessman has been widely condemned by members of both parties for seeking to undermine the legitimacy of the election but introducing trump on saturday alabama senator jeff sessions fuelled the fire \\u201cthey are attempting to rig this election\\u201d he said shaking his fists \\u201cthey will not succeed\\u201d\\n\\nclinton\\u2019s campaign manager robby mook denounced the claim \\u201ccampaigns should be hard fought and elections hard won but what is fundamental about the american electoral system is that it is free fair and open to the people\\u201d he said\\n\\n\\u201cparticipation in the system \\u2013 and particularly voting \\u2013 should be encouraged not dismissed or undermined because a candidate is afraid he\\u2019s going to lose\\u201d\\n\\nashlee strong a spokeswoman for the house speaker paul ryan said the top republican in washington did not agree with trump\\u2019s assertion of fraud \\u201cour democracy relies on confidence in election results and the speaker is fully confident the states will carry out this election with integrity\\u201d she said\\n\\na spokesperson for the republican national committee chairman reince priebus did not respond to a request for comment and a spokesman for the senate majority leader mitch mcconnell declined to comment about whether they agreed that the election was \\u201crigged\\u201d priebus mcconnell and ryan continue to support trump although dozens of their party colleagues have denounced him\\n\\nlibertarian candidate gary johnson also disputed the claim with spokesman joe hunter saying \\u201che doesn\\u2019t believe the actual voting is rigged\\u201d johnson \\u201chas major issues with the twoparty control of ballot access debates etc\\u201d hunter added\\n\\nin contrast the republican senator ben sasse of nebraska a fierce trump critic tweeted on saturday \\u201cfreedomloving americans repudiate anybody who says they want to make lawful voters \\u2018a little bit nervous\\u2019 at polls\\u201d\\n\\ntrump also attempted to defend himself against the repeated sexual harassment allegations \\u201chow about this crazy woman on the airplane\\u201d he said of one accuser \\u201ci mean can anybody believe that one how about this after  minutes we don\\u2019t know each other\\u201d\\n\\n\\n\\n\\u201cafter  minutes she says \\u2018well that was too much i decided\\u2019 fifteen minutes with the ladies in this place it would be one second and then it would be smack fifteen minutes it\\u2019s a crazy world we\\u2019re living in\\u201d\",\n          \"the evening leaves him with a strong moral case for the republican nomination and everyone trying to work out what the heck hell actually do with it expect a more moderate tone trump believe or not is showing signs of political sophistication\\n\\nthe lingering gop argument against a trump nomination is that a he remains unpopular with the wider electorate and that b the delegate count is still stacked against him its true that he heads into tougher more western terrain after the acela primaries its also true that ted cruz and john kasich have forged an alliance to stop him they make an unlikely butch cassidy and the sundance kid but theyre determined to go down with a fight\\n\\ntheyll probably lose true trump is a surprisingly unpopular frontrunner who hasnt enjoyed huge majorities in primaries  until now the argument used to be that as the field narrowed and the gop organized a counteroffensive trump would hit a natural ceiling of support and start losing\\n\\nthe opposite appears to be true the narrower the race the better he does aside from sweeping all five states on tuesday he won every single demographic in most of them he even did well in the philadelphia suburbs areas that often function as a predictor of how a nominee will do in november his support has proven to be as wide as it is deep undivided by class gender or income there is no evidence that the counter revolutionary alliance is popular enough  or trump unpopular enough  to stop him\\n\\nthe true trump is the part hes playing by the time that the republicans gather in cleveland they are going to have to face up to an uncomfortable truth yes trumps victory has been built largely on pluralities but no the republican party has not been able to find an alternative that republican voters are prepared to endorse trump is nominee almost by default which leaves us with two questions first how will he navigate the convention his victory speech heralded a change in tone lots of promises to unify and heal and reach out to the disgruntled even a few nice words about the media it was moderate energy behind the scenes trumps campaign has promised to hire speechwriters and hes practicing with a teleprompter evidence is growing that the establishment is prepared to take a second look reince priebus the gop chair with the hardest job in the western world has warned conservatives that there will be no alternative to the nominee so theres every likelihood that the convention could reach a peaceful accord the gop might yet rally around its frontrunner that said you can never be sure with trump the man is unpredictable for that reason the answer to the second question  how will he run in the fall  remains equally unclear it is said that hes tacked a little to the left recently he has supposedly argued that transgender people should be able to use the restrooms they want and that the republican platform should support legal abortion in certain instances but are these positions the product of strategic thinking or trump finding his feet as a new arrival to the world of conservatism very shortly after he questioned north carolinas bathroom bill trump said that it was actually a state issue and the federal government should stay out and his views on abortion have vacillated from suggesting women could face punishment to now being a little more liberal hillary clinton and donald trump on the woman card hillary clinton and donald trump on the woman card moreover even if trumps private instincts are socially tolerant the democrats wont define him that way in the fall campaign in her tuesday night speech hillary clinton hammered away at the social issues and promised to break down barriers rather than build walls asserting that love trumps hate after delivering each of these slogans clinton did that weird thing she does where she nods at what she just said as though she wasnt the one saying it her visuals are often a little baffling but her message is utterly disciplined clinton will fight trump on trumps reputation as a bigot rather than the reality of trump as a complex man without a clearly defined politics clinton however had better watch out the scale of trumps latest victories indicates that he does have the potential to break through a wall of negative media hit the economic issues effectively and drag his opponents down with sheer strength of will this campaign cycle is slowly evolving from a narrative of trump as a surprise winner to trump as a potential nominee the votes havent dried up as a result theres still a lot of enthusiasm for him out there when trump described tuesday as his biggest night he was probably right\",\n          \"the aircraft carrying  people was about  miles from the egyptian coast when it disappeared travelling at an altitude of  metres ft\\n\\n\\n\\nthe plane had left paris at pm on wednesday  gmtam thursday aest and disappeared at am paris time about  minutes before it was scheduled to land and only  seconds after it left greek airspace and entered egyptian space over the mediterranean\\n\\nthe greek defence minister panos kammenos said on thursday that after entering egyptian airspace the plane fell  metres ft and swerved sharply before it disappeared from radar screens\\n\\non friday he said debris from the plane including a \\u201cbody part\\u201d two seats and suitcases had been found by egyptian vessels in the mediterranean sea egypt\\u2019s military said it had found personal belongings and parts of the wreckage  miles north of the coastal city of alexandria\\n\\nthe plane was carrying  passengers and  crew two cockpit crew five cabin crew and three security personnel the airline said two babies and one child were on board\\n\\nthe nationalities of the passengers were as follows  egyptians  french citizens two iraqis and one person each from britain belgium sudan chad canada kuwait saudi arabia portugal and algeria\\n\\nan airbus a which is considered a safe and reliable plane nonetheless the model has been involved in safety incidents in the recent past including the germanwings tragedy in march  that claimed  lives it was also the aircraft chesley sullenberger landed on the hudson river in \\n\\negyptair said the captain had  flying hours including  on the a the copilot had  flying hours the plane was manufactured in \\n\\nairbus said it was aware of the report about the plane but otherwise made no comment\\n\\negypt\\u2019s aviation minister sherif fathy has said the airbus a\\u2019s sudden disappearance was more likely caused by a terrorist attack than technical failure but the french foreign minister jeanmarc ayrault said on friday that there was \\u201cabsolutely no indication\\u201d of why the flight came down\\n\\nthe aircraft passed through airports in tunisia and eritrea in the four journeys it made on wednesday before the pariscairo flight but no warning flags were raised egyptair\\u2019s vicechairman ahmed abdel said there were \\u201cno reported snags\\u201d from the crew in cairo or paris nor was there any special cargo or notification of dangerous goods on board\\n\\n\\n\\nthe area of the mediterranean where the plane went down is heavily trafficked and much monitored within reach of british listening posts in cyprus close to israel and near to the us sixth fleet\\n\\nan egyptian army spokesman says searches are continuing in the area where the debris was found the location is the centre of a major international air and sea operation to find the aircraft\\u2019s two black box flight recorders which might hold the key to what happened\\n\\nthe water in that section of the mediterranean can be  metres ft deep the equipment involved in the search for mh is able to search depths of at least  metres\\n\\n\\n\\nif the egyptair a is the same as the germanwings model that crashed last year it will have two recording components a cockpit voice recorder which tapes what the pilots say and a flight data recorder which stores some of the  technical measurements in a modern aircraft\\n\\nboth are stored at the back of the aircraft and wrapped in titanium or stainless steel to best survive a crash they are able to withstand one hour of c heat and weight of up to kg the boxes can take years to be found \\u2013 two years in the case of air france flight  which disappeared in  in the atlantic\\n\\ngreece\\u2019s lead air accident investigator athanasios binis said \\u201cthe most important thing is that the plane\\u2019s two black boxes are found if the cockpit flight recorder and flight data recorder are found along with wreckage then a real investigation can begin\\n\\n\\u201cthere are three reasons for a plane to go down meteorological technical and human the first has now been ruled out because the weather was quite good whether a technical factor or human factor either inside or outside the plane is to blame remains to be seen all possibilities are open\\u201d\\n\\nfran\\u00e7ois hollande the french president said \\u201cwe have a duty to know everything about the cause and what has happened no theory is ruled out and none is certain right now\\n\\n\\n\\n\\u201cwhen we have the truth we will draw our conclusions whether this was an accident or something else perhaps terrorist we will have the truth\\u201d\\n\\npanos kammenos the greek defence minister said \\u201cthe plane carried out a degree turn to the left and a degree turn to the right falling from  to ft and the signal was lost at around ft\\u201d\\n\\n\\n\\nthe egyptian prime minister sherif ismail said it was too early to rule out any explanation for the incident including terrorism \\u201cwe cannot exclude anything at this time or confirm anything all the search operations must be concluded so we can know the cause\\u201d\\n\\n\\n\\nserafeim petrou the head of greece\\u2019s air traffic controllers board said \\u201cthe plane did not give any vocal or electronic signal before it disappeared\\u201d adding that \\u201cnothing can be excluded\\u201d on causes \\u201can explosion could be a possibility but then so could damage to the fuselage i think at this point we are talking about wreckage wreckage at the bottom of the sea and tracing the cause is going to take time\\u201d\\n\\njeanpaul troadec the expresident of the french air accident investigation bureau said \\u201cwe have to remain very careful\\u201d about possible causes \\u201cwe can make certain hypotheses \\u2026 there\\u2019s a strong possibility of an explosion on board from a bomb or a suicide bomber the idea of a technical accident when weather conditions were good seems also possible but not that likely we could also consider a missile \\u2026 if the crew didn\\u2019t send an alert signal it\\u2019s because what happened was very sudden a problem with an engine or a technical fault would not produce an immediate accident in this case the crew did not react which makes us think of a bomb\\u201d\\n\\nthe director of greece\\u2019s civil aviation authority konstantinos lintzerakos said air traffic controllers were in contact with the pilot as the plane passed through greek airspace and that he did not report any problems controllers tried to make contact again with the pilot  miles before the flight exited the greek flight information range lintzerakos added but the pilot did not respond\"\n        ],\n        \"semantic_type\": \"\",\n        \"description\": \"\"\n      }\n    },\n    {\n      \"column\": \"label\",\n      \"properties\": {\n        \"dtype\": \"category\",\n        \"num_unique_values\": 1,\n        \"samples\": [\n          \"REAL\"\n        ],\n        \"semantic_type\": \"\",\n        \"description\": \"\"\n      }\n    }\n  ]\n}"
            }
          },
          "metadata": {},
          "execution_count": 17
        }
      ]
    },
    {
      "cell_type": "code",
      "source": [
        "top=sorted(counting_stop_words(raw_real_iop['text']).items(), key=lambda x:x[1],reverse=True)[:10]\n",
        "plt.title('Top 10 stopwords in real articles')\n",
        "plt.xlabel('Word')\n",
        "plt.ylabel('Count')\n",
        "x,y=zip(*top)\n",
        "plt.bar(x,y)"
      ],
      "metadata": {
        "colab": {
          "base_uri": "https://localhost:8080/",
          "height": 490
        },
        "id": "LF78dKQ6N8iT",
        "outputId": "22795105-be79-4bf7-b7e1-f435d0bcf61a"
      },
      "execution_count": 18,
      "outputs": [
        {
          "output_type": "execute_result",
          "data": {
            "text/plain": [
              "<BarContainer object of 10 artists>"
            ]
          },
          "metadata": {},
          "execution_count": 18
        },
        {
          "output_type": "display_data",
          "data": {
            "text/plain": [
              "<Figure size 640x480 with 1 Axes>"
            ],
            "image/png": "[encoded data removed]"
          },
          "metadata": {}
        }
      ]
    },
    {
      "cell_type": "code",
      "source": [
        "top=sorted(counting_stop_words(raw_fake_iop_not_zero['text']).items(), key=lambda x:x[1],reverse=True)[:10]\n",
        "plt.title('Top 10 stopwords in fake articles')\n",
        "plt.xlabel('Word')\n",
        "plt.ylabel('Count')\n",
        "x,y=zip(*top)\n",
        "plt.bar(x,y)"
      ],
      "metadata": {
        "colab": {
          "base_uri": "https://localhost:8080/",
          "height": 490
        },
        "outputId": "52f99bc2-6338-4b03-c7a6-f08a3ca879d4",
        "id": "cIb7dxBlImvu"
      },
      "execution_count": 19,
      "outputs": [
        {
          "output_type": "execute_result",
          "data": {
            "text/plain": [
              "<BarContainer object of 10 artists>"
            ]
          },
          "metadata": {},
          "execution_count": 19
        },
        {
          "output_type": "display_data",
          "data": {
            "text/plain": [
              "<Figure size 640x480 with 1 Axes>"
            ],
            "image/png": "[encoded data removed]"
          },
          "metadata": {}
        }
      ]
    },
    {
      "cell_type": "markdown",
      "source": [
        "It can be noted that both articles share almost the same top and the same kind of count for each stopword"
      ],
      "metadata": {
        "id": "ZGsdVwuCIxjh"
      }
    },
    {
      "cell_type": "code",
      "source": [
        "def generate_corpus(series):\n",
        "  corpus=[]\n",
        "  new= series.str.split()\n",
        "  new=new.values.tolist()\n",
        "  corpus=[word for i in new for word in i]\n",
        "\n",
        "  return corpus\n"
      ],
      "metadata": {
        "id": "wRiU5hwYLn0o"
      },
      "execution_count": 20,
      "outputs": []
    },
    {
      "cell_type": "markdown",
      "source": [
        "In terms of words that are not stop words we have:"
      ],
      "metadata": {
        "id": "Aez31ZAkAyWJ"
      }
    },
    {
      "cell_type": "code",
      "source": [
        "import seaborn as sns\n",
        "from collections import  Counter\n",
        "\n",
        "counter=Counter(generate_corpus(raw_real_iop['text']))\n",
        "most=counter.most_common()\n",
        "\n",
        "x, y= [], []\n",
        "i=0\n",
        "times=0\n",
        "while times<20:\n",
        "    word, count = most[i]\n",
        "    if (word not in stop):\n",
        "        x.append(word)\n",
        "        y.append(count)\n",
        "        times+=1\n",
        "    i+=1\n",
        "\n",
        "sns.barplot(x=y,y=x)"
      ],
      "metadata": {
        "colab": {
          "base_uri": "https://localhost:8080/",
          "height": 448
        },
        "id": "dk1KSPx7I5ed",
        "outputId": "c1129258-e106-4288-85e0-50831b9365fb"
      },
      "execution_count": 21,
      "outputs": [
        {
          "output_type": "execute_result",
          "data": {
            "text/plain": [
              "<Axes: >"
            ]
          },
          "metadata": {},
          "execution_count": 21
        },
        {
          "output_type": "display_data",
          "data": {
            "text/plain": [
              "<Figure size 640x480 with 1 Axes>"
            ],
            "image/png": "[encoded data removed]"
          },
          "metadata": {}
        }
      ]
    },
    {
      "cell_type": "code",
      "source": [
        "counter=Counter(generate_corpus(raw_fake_iop_not_zero['text']))\n",
        "most=counter.most_common()\n",
        "\n",
        "x, y= [], []\n",
        "i=0\n",
        "times=0\n",
        "while times<20:\n",
        "    word, count = most[i]\n",
        "    if (word not in stop):\n",
        "        x.append(word)\n",
        "        y.append(count)\n",
        "        times+=1\n",
        "    i+=1\n",
        "\n",
        "sns.barplot(x=y,y=x)"
      ],
      "metadata": {
        "colab": {
          "base_uri": "https://localhost:8080/",
          "height": 448
        },
        "id": "jvyzdPlzQcu9",
        "outputId": "2329e328-f57b-4db5-b61b-524021a6d4e7"
      },
      "execution_count": 22,
      "outputs": [
        {
          "output_type": "execute_result",
          "data": {
            "text/plain": [
              "<Axes: >"
            ]
          },
          "metadata": {},
          "execution_count": 22
        },
        {
          "output_type": "display_data",
          "data": {
            "text/plain": [
              "<Figure size 640x480 with 1 Axes>"
            ],
            "image/png": "[encoded data removed]"
          },
          "metadata": {}
        }
      ]
    },
    {
      "cell_type": "markdown",
      "source": [
        "### Sentiment analysis"
      ],
      "metadata": {
        "id": "tOJqzusQonRv"
      }
    },
    {
      "cell_type": "code",
      "source": [
        "from textblob import TextBlob\n",
        "\n",
        "def text_blob_subjectivity(text):\n",
        "    return TextBlob(text).sentiment.subjectivity\n",
        "\n",
        "def text_blob_polarity(text):\n",
        "    return TextBlob(text).sentiment.polarity\n"
      ],
      "metadata": {
        "id": "9Ca_SZI8opOj"
      },
      "execution_count": 54,
      "outputs": []
    },
    {
      "cell_type": "code",
      "source": [
        "real_lengths_words=raw_real_iop['text'].apply(lambda x : text_blob_subjectivity(x))\n",
        "fake_lengths_words=raw_fake_iop_not_zero['text'].apply(lambda x : text_blob_subjectivity(x))\n",
        "\n",
        "plt.hist(real_lengths_words, bins=50, alpha=0.5, label='Real')\n",
        "plt.hist(fake_lengths_words, bins=50, alpha=0.5, label='Fake')\n",
        "plt.title('Average subjectivity in articles')\n",
        "plt.xlabel('subjectivity')\n",
        "plt.ylabel('Count')\n",
        "plt.legend()\n",
        "plt.show()"
      ],
      "metadata": {
        "colab": {
          "base_uri": "https://localhost:8080/",
          "height": 472
        },
        "id": "7e_ztXqCo3Z6",
        "outputId": "291e8877-ebff-452d-846b-cb3f4b041b60"
      },
      "execution_count": 55,
      "outputs": [
        {
          "output_type": "display_data",
          "data": {
            "text/plain": [
              "<Figure size 640x480 with 1 Axes>"
            ],
            "image/png": "[encoded data removed]"
          },
          "metadata": {}
        }
      ]
    },
    {
      "cell_type": "code",
      "source": [
        "real_lengths_words=raw_real_iop['text'].apply(lambda x : text_blob_polarity(x))\n",
        "fake_lengths_words=raw_fake_iop_not_zero['text'].apply(lambda x : text_blob_polarity(x))\n",
        "\n",
        "plt.hist(real_lengths_words, bins=50, alpha=0.5, label='Real')\n",
        "plt.hist(fake_lengths_words, bins=50, alpha=0.5, label='Fake')\n",
        "plt.title('Average polarity in articles')\n",
        "plt.xlabel('polarity')\n",
        "plt.ylabel('Count')\n",
        "plt.legend()\n",
        "plt.show()"
      ],
      "metadata": {
        "colab": {
          "base_uri": "https://localhost:8080/",
          "height": 472
        },
        "outputId": "07f9d3ed-5b6a-48f9-f463-046610809e2a",
        "id": "DqR0sapbqPBA"
      },
      "execution_count": 56,
      "outputs": [
        {
          "output_type": "display_data",
          "data": {
            "text/plain": [
              "<Figure size 640x480 with 1 Axes>"
            ],
            "image/png": "[encoded data removed]"
          },
          "metadata": {}
        }
      ]
    },
    {
      "cell_type": "markdown",
      "source": [
        "### Testing of hugging-face model to determine neutrality"
      ],
      "metadata": {
        "id": "GwGlICbDDOP6"
      }
    },
    {
      "cell_type": "code",
      "source": [
        "from transformers import pipeline\n",
        "\n",
        "classifier = pipeline(task=\"text-classification\", model=\"SamLowe/roberta-base-go_emotions\", top_k=None)\n",
        "\n",
        "sentences = [\"I am not having a great day\"]\n",
        "\n",
        "model_outputs = classifier(sentences)\n"
      ],
      "metadata": {
        "colab": {
          "base_uri": "https://localhost:8080/",
          "height": 388,
          "referenced_widgets": [
            "2ecaf660891a42fdb965a08ad24d4ac1",
            "6196531056ca4cf2a5c7dbf8f648e61e",
            "a99e02d432d94df8b615178281154279",
            "0f8a7776b4e441bd87ccbed36759b576",
            "c4a2119311dc4a26b9f7a45460d842c8",
            "7a1105500d7a4c5c9b7043006fe216aa",
            "a3d88628861d463f9221a23012c8993b",
            "159d6232f18c4e6484cc0ad3aac464d6",
            "a2b9dccdb0c940e6b050d5329138d34f",
            "2b791ff140f84a4da369c076508140ad",
            "849db5b58be0481b82954170b2fd97fa",
            "19d096fd4ca44fe6a7e5ef96e1498a54",
            "56d7b5a51116467f89d94ee70383b332",
            "3d29947e04484838a29db9a3d1ef303d",
            "a6e12c0104c740f098e6cafbb7aec7f9",
            "80e1c1ad64f047b28948a8946138358e",
            "28d64b7a5beb424caa529a91b17a3994",
            "1f5bca9dccd94e93bf68db5ff0d29caa",
            "1bdd6e200d5d476a97469d8d6ccaacfe",
            "0b4782c105c94a0f88ecf5295d93b239",
            "8958afccec5b4e3895c148d216fbe56a",
            "d39f627b272d469eaafa5aace69a48b8",
            "b2c7460981164f52a1ded77c712d1d43",
            "78c9e9c57f804bc79e282a3a3f4965c7",
            "38da6348ef104fdd9be38014a17e0055",
            "02d69a8fb8e24741a5eddffda83a9818",
            "957821da4dd142c7b6a1cddd549673f9",
            "2321184c1c0f49599571a7b9956f48c9",
            "b21411eef45d4d76a3351f45dfc351f3",
            "7b757567ecd94a339842a98a21328bfd",
            "fba39247c1eb4d1eb7054ceaa6f65a97",
            "dd8f19a9f95f4926b3fdc6d1904739e0",
            "6f7a15a675ef4db7b27b9781614ffcdb",
            "d4bb2a7e7172473daf4df2185d32f287",
            "7048b39455a341faa1cc46fa1f0ab972",
            "228c88320e9b46e8936adeda6f26193f",
            "7a531c05bdf64ea6a53717adc5ec52e3",
            "f912b7edad4845bfa03a2027fbafe6d1",
            "e341fcd2486f4b1899d384cede820e87",
            "d7607d910251469bbea54bd9756f643a",
            "42ab6d69e2064dda963f38a428dec422",
            "5d425b60afac4a5f8de6746c5a4654df",
            "375147d4cd104e62b748bba08f20e247",
            "354ba04762cf4976aeb3e07ad690d84d",
            "f09def8325064c5c9c16df6e4c9003f3",
            "1b372034f22f4a77ab2bcfa7d5650cc8",
            "53cb44977e3f493bb21bbcca7ddb09a4",
            "ec9987ca12944d34acccd3c4c3902ead",
            "f02ed64d3a3043289d8a5f4f1fcb2d65",
            "dd19e1fd6f474cdba50ff533aa8ec17b",
            "39f678bd8c1c42549e0db97778858065",
            "439eff7cc5a24dda9e9db0e82032dfc3",
            "a46c4a6f495d40c68be4ddeb1233b463",
            "37baba7d80de43c9a3c78b53898cfbbd",
            "d67595a3e87343dfbc98d2d7ea814a7e",
            "2f3b5cc002d74609acf21b6e2b1ebb38",
            "bf0a21e856774750b729840961238bb0",
            "f1959dfec25d49fc87f6106be2f6f26f",
            "562e7a302b1a4ddfa98c40282ed49215",
            "b6b4ab9bb01245928f78b3e7f6713957",
            "286f947141154f9d97a05cab9abe9ecd",
            "d07199eb5e854427b8e878cb9852224e",
            "39fa50a882ca48f188159cd7d98041cb",
            "16eee38a9856479e9405d64fb25b45c3",
            "a6ee0f14a93d4c92bc977e277d40a045",
            "9c8883da3e844dc09dab3b50312d13cb",
            "dda47398993c40b58a8542c34069aa3d",
            "8e9f8fa2d12b4e5cbeb9d03e9bf255a1",
            "5c0ce869c7074993b1ad1abad4d65388",
            "987735c22d8e4c929f89c6f3691d45e6",
            "4d869b534acd4ca3bd471585928f9ccd",
            "6029ac56d0fa498cb8d7d8cfb312e48f",
            "04ffbed8c0234266bc34b2a9cba4c00e",
            "f3b4977e703f4cbda80e9ee36d3e7ae8",
            "ba0d2b47dfab44c6b3d3b75d1cb99094",
            "1eeb2d0152b34cc999bbaee8087f517c",
            "3905b399d94b4fffa3db896c571bffe9"
          ]
        },
        "id": "WKjVAK6WvUVh",
        "outputId": "0a9124ba-83b6-4486-c6d4-09d03f6b60b2"
      },
      "execution_count": 29,
      "outputs": [
        {
          "output_type": "stream",
          "name": "stderr",
          "text": [
            "/usr/local/lib/python3.10/dist-packages/huggingface_hub/utils/_token.py:88: UserWarning: \n",
            "The secret `HF_TOKEN` does not exist in your Colab secrets.\n",
            "To authenticate with the Hugging Face Hub, create a token in your settings tab (https://huggingface.co/settings/tokens), set it as secret in your Google Colab and restart your session.\n",
            "You will be able to reuse this secret in all of your notebooks.\n",
            "Please note that authentication is recommended but still optional to access public models or datasets.\n",
            "  warnings.warn(\n"
          ]
        },
        {
          "output_type": "display_data",
          "data": {
            "text/plain": [
              "config.json:   0%|          | 0.00/1.92k [00:00<?, ?B/s]"
            ],
            "application/vnd.jupyter.widget-view+json": {
              "version_major": 2,
              "version_minor": 0,
              "model_id": "2ecaf660891a42fdb965a08ad24d4ac1"
            }
          },
          "metadata": {}
        },
        {
          "output_type": "display_data",
          "data": {
            "text/plain": [
              "model.safetensors:   0%|          | 0.00/499M [00:00<?, ?B/s]"
            ],
            "application/vnd.jupyter.widget-view+json": {
              "version_major": 2,
              "version_minor": 0,
              "model_id": "19d096fd4ca44fe6a7e5ef96e1498a54"
            }
          },
          "metadata": {}
        },
        {
          "output_type": "display_data",
          "data": {
            "text/plain": [
              "tokenizer_config.json:   0%|          | 0.00/380 [00:00<?, ?B/s]"
            ],
            "application/vnd.jupyter.widget-view+json": {
              "version_major": 2,
              "version_minor": 0,
              "model_id": "b2c7460981164f52a1ded77c712d1d43"
            }
          },
          "metadata": {}
        },
        {
          "output_type": "display_data",
          "data": {
            "text/plain": [
              "vocab.json:   0%|          | 0.00/798k [00:00<?, ?B/s]"
            ],
            "application/vnd.jupyter.widget-view+json": {
              "version_major": 2,
              "version_minor": 0,
              "model_id": "d4bb2a7e7172473daf4df2185d32f287"
            }
          },
          "metadata": {}
        },
        {
          "output_type": "display_data",
          "data": {
            "text/plain": [
              "merges.txt:   0%|          | 0.00/456k [00:00<?, ?B/s]"
            ],
            "application/vnd.jupyter.widget-view+json": {
              "version_major": 2,
              "version_minor": 0,
              "model_id": "f09def8325064c5c9c16df6e4c9003f3"
            }
          },
          "metadata": {}
        },
        {
          "output_type": "display_data",
          "data": {
            "text/plain": [
              "tokenizer.json:   0%|          | 0.00/2.11M [00:00<?, ?B/s]"
            ],
            "application/vnd.jupyter.widget-view+json": {
              "version_major": 2,
              "version_minor": 0,
              "model_id": "2f3b5cc002d74609acf21b6e2b1ebb38"
            }
          },
          "metadata": {}
        },
        {
          "output_type": "display_data",
          "data": {
            "text/plain": [
              "special_tokens_map.json:   0%|          | 0.00/280 [00:00<?, ?B/s]"
            ],
            "application/vnd.jupyter.widget-view+json": {
              "version_major": 2,
              "version_minor": 0,
              "model_id": "dda47398993c40b58a8542c34069aa3d"
            }
          },
          "metadata": {}
        },
        {
          "output_type": "stream",
          "name": "stdout",
          "text": [
            "[{'label': 'disappointment', 'score': 0.4666951894760132}, {'label': 'sadness', 'score': 0.39849498867988586}, {'label': 'annoyance', 'score': 0.06806593388319016}, {'label': 'neutral', 'score': 0.05703023821115494}, {'label': 'disapproval', 'score': 0.044239308685064316}, {'label': 'nervousness', 'score': 0.014850745908915997}, {'label': 'realization', 'score': 0.014059904962778091}, {'label': 'approval', 'score': 0.0112674655392766}, {'label': 'joy', 'score': 0.006303396541625261}, {'label': 'remorse', 'score': 0.006221492309123278}, {'label': 'caring', 'score': 0.006029403302818537}, {'label': 'embarrassment', 'score': 0.0052654859609901905}, {'label': 'anger', 'score': 0.004981426056474447}, {'label': 'disgust', 'score': 0.004259029403328896}, {'label': 'grief', 'score': 0.0040021371096372604}, {'label': 'confusion', 'score': 0.003382918192073703}, {'label': 'relief', 'score': 0.0031405005138367414}, {'label': 'desire', 'score': 0.00282747158780694}, {'label': 'admiration', 'score': 0.002815794898197055}, {'label': 'fear', 'score': 0.002707520266994834}, {'label': 'optimism', 'score': 0.0026164911687374115}, {'label': 'love', 'score': 0.0024883910082280636}, {'label': 'excitement', 'score': 0.0024494787212461233}, {'label': 'curiosity', 'score': 0.0023743617348372936}, {'label': 'amusement', 'score': 0.001746696187183261}, {'label': 'surprise', 'score': 0.0014529851032420993}, {'label': 'gratitude', 'score': 0.0006464761681854725}, {'label': 'pride', 'score': 0.00055424973834306}]\n"
          ]
        }
      ]
    },
    {
      "cell_type": "code",
      "source": [
        "#Creating the text to make it the analysis possible (up to 514 tokens)\n",
        "\n",
        "raw_fake_iop_not_zero['text_limit']= raw_fake_iop_not_zero['text'].str.split(n=200).str[:200].str.join(' ')"
      ],
      "metadata": {
        "colab": {
          "base_uri": "https://localhost:8080/"
        },
        "id": "2C8FLPPf1rn0",
        "outputId": "fa924e49-d2a7-4efd-c4a9-fbb5adaef206"
      },
      "execution_count": 43,
      "outputs": [
        {
          "output_type": "stream",
          "name": "stderr",
          "text": [
            "<ipython-input-43-8ba56af06948>:3: SettingWithCopyWarning: \n",
            "A value is trying to be set on a copy of a slice from a DataFrame.\n",
            "Try using .loc[row_indexer,col_indexer] = value instead\n",
            "\n",
            "See the caveats in the documentation: https://pandas.pydata.org/pandas-docs/stable/user_guide/indexing.html#returning-a-view-versus-a-copy\n",
            "  raw_fake_iop_not_zero['text_limit']= raw_fake_iop_not_zero['text'].str.split(n=200).str[:200].str.join(' ')\n"
          ]
        }
      ]
    },
    {
      "cell_type": "code",
      "source": [
        "def roberta_analysis(text):\n",
        "  model_outputs = classifier(text)\n",
        "  return model_outputs[0][0][\"label\"]\n",
        "\n",
        "#real_lengths_words=raw_real_iop['text'].apply(lambda x : text_blob_polarity(x))\n",
        "fake_lengths_words=raw_fake_iop_not_zero['text_limit'].apply(lambda x : roberta_analysis(x))"
      ],
      "metadata": {
        "id": "efPEd1ySvl_K"
      },
      "execution_count": 44,
      "outputs": []
    },
    {
      "cell_type": "code",
      "source": [
        "fake_lengths_words.value_counts()"
      ],
      "metadata": {
        "colab": {
          "base_uri": "https://localhost:8080/"
        },
        "id": "KIys_28ZwLcS",
        "outputId": "9a13c711-7f5a-4988-8b95-f1c5bc8d3df6"
      },
      "execution_count": 49,
      "outputs": [
        {
          "output_type": "execute_result",
          "data": {
            "text/plain": [
              "text_limit\n",
              "neutral           1991\n",
              "gratitude           54\n",
              "amusement           26\n",
              "confusion           24\n",
              "approval            21\n",
              "admiration          21\n",
              "optimism            20\n",
              "disappointment      16\n",
              "sadness             15\n",
              "annoyance           13\n",
              "surprise            12\n",
              "fear                11\n",
              "joy                  8\n",
              "curiosity            7\n",
              "disapproval          5\n",
              "excitement           5\n",
              "realization          5\n",
              "remorse              5\n",
              "caring               4\n",
              "anger                2\n",
              "desire               2\n",
              "disgust              2\n",
              "embarrassment        2\n",
              "love                 1\n",
              "Name: count, dtype: int64"
            ]
          },
          "metadata": {},
          "execution_count": 49
        }
      ]
    },
    {
      "cell_type": "code",
      "source": [
        "fake_lengths_words.to_csv(\"/content/drive/Shareddrives/Talleres y archivos/Ver+/A3/datasets/roberta_analysis_fake.csv\")"
      ],
      "metadata": {
        "id": "dFiTrV2H-u1j"
      },
      "execution_count": 52,
      "outputs": []
    },
    {
      "cell_type": "code",
      "source": [
        "fake_lengths_words"
      ],
      "metadata": {
        "colab": {
          "base_uri": "https://localhost:8080/"
        },
        "id": "s-I431eI-Q5v",
        "outputId": "735d013e-6a70-4d49-8ea1-41a02ef90ee8"
      },
      "execution_count": 53,
      "outputs": [
        {
          "output_type": "execute_result",
          "data": {
            "text/plain": [
              "2297    neutral\n",
              "2298    neutral\n",
              "2299    neutral\n",
              "2300    neutral\n",
              "2301    neutral\n",
              "         ...   \n",
              "4589    neutral\n",
              "4590    neutral\n",
              "4591    neutral\n",
              "4592    neutral\n",
              "4593    neutral\n",
              "Name: text_limit, Length: 2272, dtype: object"
            ]
          },
          "metadata": {},
          "execution_count": 53
        }
      ]
    },
    {
      "cell_type": "markdown",
      "source": [
        "## Training"
      ],
      "metadata": {
        "id": "0C74SncgI7A7"
      }
    },
    {
      "cell_type": "code",
      "source": [
        "from nltk.corpus import stopwords\n",
        "from nltk.tokenize import word_tokenize\n",
        "from nltk.stem import PorterStemmer, WordNetLemmatizer\n",
        "import string\n",
        "\n",
        "nltk.download('wordnet')\n",
        "\n",
        "stop_words = set(stopwords.words('english'))\n",
        "stemmer = PorterStemmer()\n",
        "lemmatizer = WordNetLemmatizer()\n",
        "\n",
        "def preprocess_text(text):\n",
        "    # Lowercase the text\n",
        "    text = text.lower()\n",
        "\n",
        "    # Remove punctuation and digits\n",
        "    text = text.translate(str.maketrans('', '', string.punctuation + string.digits))\n",
        "\n",
        "    # Tokenize the text\n",
        "    words = word_tokenize(text)\n",
        "\n",
        "    # Remove stop words\n",
        "    words = [word for word in words if word not in stop_words]\n",
        "\n",
        "    # Stem or lemmatize the words\n",
        "    words = [stemmer.stem(word) for word in words]\n",
        "\n",
        "        # Join the words back into a string\n",
        "    text = ' '.join(words)\n",
        "\n",
        "    return text"
      ],
      "metadata": {
        "colab": {
          "base_uri": "https://localhost:8080/"
        },
        "id": "DZeOCyFZj2pQ",
        "outputId": "649adbac-4273-4144-e2d3-d83b92690a79"
      },
      "execution_count": 7,
      "outputs": [
        {
          "output_type": "stream",
          "name": "stderr",
          "text": [
            "[nltk_data] Downloading package wordnet to /root/nltk_data...\n"
          ]
        }
      ]
    },
    {
      "cell_type": "code",
      "source": [
        "raw_iop_csv[\"p_text\"]=raw_iop_csv['text'].apply(preprocess_text)\n",
        "raw_iop_csv"
      ],
      "metadata": {
        "colab": {
          "base_uri": "https://localhost:8080/",
          "height": 423
        },
        "id": "Apxz4tgToVqp",
        "outputId": "b7f5b785-24e7-4adc-a1aa-14fa9f9dc93f"
      },
      "execution_count": null,
      "outputs": [
        {
          "output_type": "execute_result",
          "data": {
            "text/plain": [
              "             idd                                              title  \\\n",
              "0     Fq+C96tcx+  ‘A target on Roe v. Wade ’: Oklahoma bill maki...   \n",
              "1     bHUqK!pgmv  Study: women had to drive 4 times farther afte...   \n",
              "2     4Y4Ubf%aTi        Trump, Clinton clash in dueling DC speeches   \n",
              "3     _CoY89SJ@K  Grand jury in Texas indicts activists behind P...   \n",
              "4     +rJHoRQVLe  As Reproductive Rights Hang In The Balance, De...   \n",
              "...          ...                                                ...   \n",
              "4589  ukZm6JTO#x                 Russia Calls the War Party's Bluff   \n",
              "4590  yu0xKEiapJ  Bernie Sanders: The Democratic primary gave me...   \n",
              "4591  c4Y370E_9c  Pipeline Police Strip Search Native Girl, Then...   \n",
              "4592  bBbeuCUeMH  Currency Crisis: Alasdair MacLeod On The Vexed...   \n",
              "4593  vE44sWBnd9                   Paper Tiger ISIS Digs Into Mosul   \n",
              "\n",
              "                                                   text label  \\\n",
              "0     UPDATE: Gov. Fallin vetoed the bill on Friday....  REAL   \n",
              "1     Ever since Texas laws closed about half of the...  REAL   \n",
              "2     Donald Trump and Hillary Clinton, now at the s...  REAL   \n",
              "3     A Houston grand jury investigating criminal al...  REAL   \n",
              "4     WASHINGTON -- Forty-three years after the Supr...  REAL   \n",
              "...                                                 ...   ...   \n",
              "4589  License DMCA \\nCold War 2.0 has reached unprec...  FAKE   \n",
              "4590  Print \\nSen. Bernie Sanders laid out the ways ...  FAKE   \n",
              "4591  As the pressure to start construction on the D...  FAKE   \n",
              "4592  Tweet Home » Gold » Gold News » Currency Crisi...  FAKE   \n",
              "4593  Written by Eric Margolis   As a former soldier...  FAKE   \n",
              "\n",
              "                                                 p_text  \n",
              "0     updat gov fallin veto bill friday head lawmak ...  \n",
              "1     ever sinc texa law close half state abort clin...  \n",
              "2     donald trump hillari clinton start line gener ...  \n",
              "3     houston grand juri investig crimin alleg plan ...  \n",
              "4     washington fortythre year suprem court establi...  \n",
              "...                                                 ...  \n",
              "4589  licens dmca cold war reach unpreced hyster lev...  \n",
              "4590  print sen berni sander laid way would leverag ...  \n",
              "4591  pressur start construct dakota access pipelin ...  \n",
              "4592  tweet home » gold » gold news » currenc crisi ...  \n",
              "4593  written eric margoli former soldier war corres...  \n",
              "\n",
              "[4594 rows x 5 columns]"
            ],
            "text/html": [
              "\n",
              "  <div id=\"df-f2a3ae31-656e-4d20-a937-1a1ad6f6e5c1\" class=\"colab-df-container\">\n",
              "    <div>\n",
              "<style scoped>\n",
              "    .dataframe tbody tr th:only-of-type {\n",
              "        vertical-align: middle;\n",
              "    }\n",
              "\n",
              "    .dataframe tbody tr th {\n",
              "        vertical-align: top;\n",
              "    }\n",
              "\n",
              "    .dataframe thead th {\n",
              "        text-align: right;\n",
              "    }\n",
              "</style>\n",
              "<table border=\"1\" class=\"dataframe\">\n",
              "  <thead>\n",
              "    <tr style=\"text-align: right;\">\n",
              "      <th></th>\n",
              "      <th>idd</th>\n",
              "      <th>title</th>\n",
              "      <th>text</th>\n",
              "      <th>label</th>\n",
              "      <th>p_text</th>\n",
              "    </tr>\n",
              "  </thead>\n",
              "  <tbody>\n",
              "    <tr>\n",
              "      <th>0</th>\n",
              "      <td>Fq+C96tcx+</td>\n",
              "      <td>‘A target on Roe v. Wade ’: Oklahoma bill maki...</td>\n",
              "      <td>UPDATE: Gov. Fallin vetoed the bill on Friday....</td>\n",
              "      <td>REAL</td>\n",
              "      <td>updat gov fallin veto bill friday head lawmak ...</td>\n",
              "    </tr>\n",
              "    <tr>\n",
              "      <th>1</th>\n",
              "      <td>bHUqK!pgmv</td>\n",
              "      <td>Study: women had to drive 4 times farther afte...</td>\n",
              "      <td>Ever since Texas laws closed about half of the...</td>\n",
              "      <td>REAL</td>\n",
              "      <td>ever sinc texa law close half state abort clin...</td>\n",
              "    </tr>\n",
              "    <tr>\n",
              "      <th>2</th>\n",
              "      <td>4Y4Ubf%aTi</td>\n",
              "      <td>Trump, Clinton clash in dueling DC speeches</td>\n",
              "      <td>Donald Trump and Hillary Clinton, now at the s...</td>\n",
              "      <td>REAL</td>\n",
              "      <td>donald trump hillari clinton start line gener ...</td>\n",
              "    </tr>\n",
              "    <tr>\n",
              "      <th>3</th>\n",
              "      <td>_CoY89SJ@K</td>\n",
              "      <td>Grand jury in Texas indicts activists behind P...</td>\n",
              "      <td>A Houston grand jury investigating criminal al...</td>\n",
              "      <td>REAL</td>\n",
              "      <td>houston grand juri investig crimin alleg plan ...</td>\n",
              "    </tr>\n",
              "    <tr>\n",
              "      <th>4</th>\n",
              "      <td>+rJHoRQVLe</td>\n",
              "      <td>As Reproductive Rights Hang In The Balance, De...</td>\n",
              "      <td>WASHINGTON -- Forty-three years after the Supr...</td>\n",
              "      <td>REAL</td>\n",
              "      <td>washington fortythre year suprem court establi...</td>\n",
              "    </tr>\n",
              "    <tr>\n",
              "      <th>...</th>\n",
              "      <td>...</td>\n",
              "      <td>...</td>\n",
              "      <td>...</td>\n",
              "      <td>...</td>\n",
              "      <td>...</td>\n",
              "    </tr>\n",
              "    <tr>\n",
              "      <th>4589</th>\n",
              "      <td>ukZm6JTO#x</td>\n",
              "      <td>Russia Calls the War Party's Bluff</td>\n",
              "      <td>License DMCA \\nCold War 2.0 has reached unprec...</td>\n",
              "      <td>FAKE</td>\n",
              "      <td>licens dmca cold war reach unpreced hyster lev...</td>\n",
              "    </tr>\n",
              "    <tr>\n",
              "      <th>4590</th>\n",
              "      <td>yu0xKEiapJ</td>\n",
              "      <td>Bernie Sanders: The Democratic primary gave me...</td>\n",
              "      <td>Print \\nSen. Bernie Sanders laid out the ways ...</td>\n",
              "      <td>FAKE</td>\n",
              "      <td>print sen berni sander laid way would leverag ...</td>\n",
              "    </tr>\n",
              "    <tr>\n",
              "      <th>4591</th>\n",
              "      <td>c4Y370E_9c</td>\n",
              "      <td>Pipeline Police Strip Search Native Girl, Then...</td>\n",
              "      <td>As the pressure to start construction on the D...</td>\n",
              "      <td>FAKE</td>\n",
              "      <td>pressur start construct dakota access pipelin ...</td>\n",
              "    </tr>\n",
              "    <tr>\n",
              "      <th>4592</th>\n",
              "      <td>bBbeuCUeMH</td>\n",
              "      <td>Currency Crisis: Alasdair MacLeod On The Vexed...</td>\n",
              "      <td>Tweet Home » Gold » Gold News » Currency Crisi...</td>\n",
              "      <td>FAKE</td>\n",
              "      <td>tweet home » gold » gold news » currenc crisi ...</td>\n",
              "    </tr>\n",
              "    <tr>\n",
              "      <th>4593</th>\n",
              "      <td>vE44sWBnd9</td>\n",
              "      <td>Paper Tiger ISIS Digs Into Mosul</td>\n",
              "      <td>Written by Eric Margolis   As a former soldier...</td>\n",
              "      <td>FAKE</td>\n",
              "      <td>written eric margoli former soldier war corres...</td>\n",
              "    </tr>\n",
              "  </tbody>\n",
              "</table>\n",
              "<p>4594 rows × 5 columns</p>\n",
              "</div>\n",
              "    <div class=\"colab-df-buttons\">\n",
              "\n",
              "  <div class=\"colab-df-container\">\n",
              "    <button class=\"colab-df-convert\" onclick=\"convertToInteractive('df-f2a3ae31-656e-4d20-a937-1a1ad6f6e5c1')\"\n",
              "            title=\"Convert this dataframe to an interactive table.\"\n",
              "            style=\"display:none;\">\n",
              "\n",
              "  <svg xmlns=\"http://www.w3.org/2000/svg\" height=\"24px\" viewBox=\"0 -960 960 960\">\n",
              "    <path d=\"M120-120v-720h720v720H120Zm60-500h600v-160H180v160Zm220 220h160v-160H400v160Zm0 220h160v-160H400v160ZM180-400h160v-160H180v160Zm440 0h160v-160H620v160ZM180-180h160v-160H180v160Zm440 0h160v-160H620v160Z\"/>\n",
              "  </svg>\n",
              "    </button>\n",
              "\n",
              "  <style>\n",
              "    .colab-df-container {\n",
              "      display:flex;\n",
              "      gap: 12px;\n",
              "    }\n",
              "\n",
              "    .colab-df-convert {\n",
              "      background-color: #E8F0FE;\n",
              "      border: none;\n",
              "      border-radius: 50%;\n",
              "      cursor: pointer;\n",
              "      display: none;\n",
              "      fill: #1967D2;\n",
              "      height: 32px;\n",
              "      padding: 0 0 0 0;\n",
              "      width: 32px;\n",
              "    }\n",
              "\n",
              "    .colab-df-convert:hover {\n",
              "      background-color: #E2EBFA;\n",
              "      box-shadow: 0px 1px 2px rgba(60, 64, 67, 0.3), 0px 1px 3px 1px rgba(60, 64, 67, 0.15);\n",
              "      fill: #174EA6;\n",
              "    }\n",
              "\n",
              "    .colab-df-buttons div {\n",
              "      margin-bottom: 4px;\n",
              "    }\n",
              "\n",
              "    [theme=dark] .colab-df-convert {\n",
              "      background-color: #3B4455;\n",
              "      fill: #D2E3FC;\n",
              "    }\n",
              "\n",
              "    [theme=dark] .colab-df-convert:hover {\n",
              "      background-color: #434B5C;\n",
              "      box-shadow: 0px 1px 3px 1px rgba(0, 0, 0, 0.15);\n",
              "      filter: drop-shadow(0px 1px 2px rgba(0, 0, 0, 0.3));\n",
              "      fill: #FFFFFF;\n",
              "    }\n",
              "  </style>\n",
              "\n",
              "    <script>\n",
              "      const buttonEl =\n",
              "        document.querySelector('#df-f2a3ae31-656e-4d20-a937-1a1ad6f6e5c1 button.colab-df-convert');\n",
              "      buttonEl.style.display =\n",
              "        google.colab.kernel.accessAllowed ? 'block' : 'none';\n",
              "\n",
              "      async function convertToInteractive(key) {\n",
              "        const element = document.querySelector('#df-f2a3ae31-656e-4d20-a937-1a1ad6f6e5c1');\n",
              "        const dataTable =\n",
              "          await google.colab.kernel.invokeFunction('convertToInteractive',\n",
              "                                                    [key], {});\n",
              "        if (!dataTable) return;\n",
              "\n",
              "        const docLinkHtml = 'Like what you see? Visit the ' +\n",
              "          '<a target=\"_blank\" href=https://colab.research.google.com/notebooks/data_table.ipynb>data table notebook</a>'\n",
              "          + ' to learn more about interactive tables.';\n",
              "        element.innerHTML = '';\n",
              "        dataTable['output_type'] = 'display_data';\n",
              "        await google.colab.output.renderOutput(dataTable, element);\n",
              "        const docLink = document.createElement('div');\n",
              "        docLink.innerHTML = docLinkHtml;\n",
              "        element.appendChild(docLink);\n",
              "      }\n",
              "    </script>\n",
              "  </div>\n",
              "\n",
              "\n",
              "<div id=\"df-9707b6b6-9ba2-4308-a62d-bb58201c345c\">\n",
              "  <button class=\"colab-df-quickchart\" onclick=\"quickchart('df-9707b6b6-9ba2-4308-a62d-bb58201c345c')\"\n",
              "            title=\"Suggest charts\"\n",
              "            style=\"display:none;\">\n",
              "\n",
              "<svg xmlns=\"http://www.w3.org/2000/svg\" height=\"24px\"viewBox=\"0 0 24 24\"\n",
              "     width=\"24px\">\n",
              "    <g>\n",
              "        <path d=\"M19 3H5c-1.1 0-2 .9-2 2v14c0 1.1.9 2 2 2h14c1.1 0 2-.9 2-2V5c0-1.1-.9-2-2-2zM9 17H7v-7h2v7zm4 0h-2V7h2v10zm4 0h-2v-4h2v4z\"/>\n",
              "    </g>\n",
              "</svg>\n",
              "  </button>\n",
              "\n",
              "<style>\n",
              "  .colab-df-quickchart {\n",
              "      --bg-color: #E8F0FE;\n",
              "      --fill-color: #1967D2;\n",
              "      --hover-bg-color: #E2EBFA;\n",
              "      --hover-fill-color: #174EA6;\n",
              "      --disabled-fill-color: #AAA;\n",
              "      --disabled-bg-color: #DDD;\n",
              "  }\n",
              "\n",
              "  [theme=dark] .colab-df-quickchart {\n",
              "      --bg-color: #3B4455;\n",
              "      --fill-color: #D2E3FC;\n",
              "      --hover-bg-color: #434B5C;\n",
              "      --hover-fill-color: #FFFFFF;\n",
              "      --disabled-bg-color: #3B4455;\n",
              "      --disabled-fill-color: #666;\n",
              "  }\n",
              "\n",
              "  .colab-df-quickchart {\n",
              "    background-color: var(--bg-color);\n",
              "    border: none;\n",
              "    border-radius: 50%;\n",
              "    cursor: pointer;\n",
              "    display: none;\n",
              "    fill: var(--fill-color);\n",
              "    height: 32px;\n",
              "    padding: 0;\n",
              "    width: 32px;\n",
              "  }\n",
              "\n",
              "  .colab-df-quickchart:hover {\n",
              "    background-color: var(--hover-bg-color);\n",
              "    box-shadow: 0 1px 2px rgba(60, 64, 67, 0.3), 0 1px 3px 1px rgba(60, 64, 67, 0.15);\n",
              "    fill: var(--button-hover-fill-color);\n",
              "  }\n",
              "\n",
              "  .colab-df-quickchart-complete:disabled,\n",
              "  .colab-df-quickchart-complete:disabled:hover {\n",
              "    background-color: var(--disabled-bg-color);\n",
              "    fill: var(--disabled-fill-color);\n",
              "    box-shadow: none;\n",
              "  }\n",
              "\n",
              "  .colab-df-spinner {\n",
              "    border: 2px solid var(--fill-color);\n",
              "    border-color: transparent;\n",
              "    border-bottom-color: var(--fill-color);\n",
              "    animation:\n",
              "      spin 1s steps(1) infinite;\n",
              "  }\n",
              "\n",
              "  @keyframes spin {\n",
              "    0% {\n",
              "      border-color: transparent;\n",
              "      border-bottom-color: var(--fill-color);\n",
              "      border-left-color: var(--fill-color);\n",
              "    }\n",
              "    20% {\n",
              "      border-color: transparent;\n",
              "      border-left-color: var(--fill-color);\n",
              "      border-top-color: var(--fill-color);\n",
              "    }\n",
              "    30% {\n",
              "      border-color: transparent;\n",
              "      border-left-color: var(--fill-color);\n",
              "      border-top-color: var(--fill-color);\n",
              "      border-right-color: var(--fill-color);\n",
              "    }\n",
              "    40% {\n",
              "      border-color: transparent;\n",
              "      border-right-color: var(--fill-color);\n",
              "      border-top-color: var(--fill-color);\n",
              "    }\n",
              "    60% {\n",
              "      border-color: transparent;\n",
              "      border-right-color: var(--fill-color);\n",
              "    }\n",
              "    80% {\n",
              "      border-color: transparent;\n",
              "      border-right-color: var(--fill-color);\n",
              "      border-bottom-color: var(--fill-color);\n",
              "    }\n",
              "    90% {\n",
              "      border-color: transparent;\n",
              "      border-bottom-color: var(--fill-color);\n",
              "    }\n",
              "  }\n",
              "</style>\n",
              "\n",
              "  <script>\n",
              "    async function quickchart(key) {\n",
              "      const quickchartButtonEl =\n",
              "        document.querySelector('#' + key + ' button');\n",
              "      quickchartButtonEl.disabled = true;  // To prevent multiple clicks.\n",
              "      quickchartButtonEl.classList.add('colab-df-spinner');\n",
              "      try {\n",
              "        const charts = await google.colab.kernel.invokeFunction(\n",
              "            'suggestCharts', [key], {});\n",
              "      } catch (error) {\n",
              "        console.error('Error during call to suggestCharts:', error);\n",
              "      }\n",
              "      quickchartButtonEl.classList.remove('colab-df-spinner');\n",
              "      quickchartButtonEl.classList.add('colab-df-quickchart-complete');\n",
              "    }\n",
              "    (() => {\n",
              "      let quickchartButtonEl =\n",
              "        document.querySelector('#df-9707b6b6-9ba2-4308-a62d-bb58201c345c button');\n",
              "      quickchartButtonEl.style.display =\n",
              "        google.colab.kernel.accessAllowed ? 'block' : 'none';\n",
              "    })();\n",
              "  </script>\n",
              "</div>\n",
              "    </div>\n",
              "  </div>\n"
            ],
            "application/vnd.google.colaboratory.intrinsic+json": {
              "type": "dataframe",
              "variable_name": "raw_iop_csv",
              "summary": "{\n  \"name\": \"raw_iop_csv\",\n  \"rows\": 4594,\n  \"fields\": [\n    {\n      \"column\": \"idd\",\n      \"properties\": {\n        \"dtype\": \"string\",\n        \"num_unique_values\": 4594,\n        \"samples\": [\n          \"mij8ktR1+U\",\n          \"$2_rG$!SR!\",\n          \"E+&&1TwpM_\"\n        ],\n        \"semantic_type\": \"\",\n        \"description\": \"\"\n      }\n    },\n    {\n      \"column\": \"title\",\n      \"properties\": {\n        \"dtype\": \"string\",\n        \"num_unique_values\": 4537,\n        \"samples\": [\n          \"McConnell: No lame duck confirmation\",\n          \"Trump shakes up campaign, prepares to roll out long-awaited ads\",\n          \"Aleppo fighters demand $300 for exit via humanitarian corridors\"\n        ],\n        \"semantic_type\": \"\",\n        \"description\": \"\"\n      }\n    },\n    {\n      \"column\": \"text\",\n      \"properties\": {\n        \"dtype\": \"string\",\n        \"num_unique_values\": 4409,\n        \"samples\": [\n          \"Democrats are Racist for Calling Black Trump Supporters Uneducated Red Necks page: 1 link Its ok to call us white Trump supporters all that but when You mess with our black friends then that's another issue. Democrats need to realize that some black folks and white folks all grew up with different opportunities and school zones, that is SO RACIST to call them uneducated, its fine to call us whites that but not our black brothers and sisters, the Hispanics and all other non whites. How dare the Clintons offend our black and other minority members , Im sure some liberal will come along and say something totally ignorant like trump doesn't have and black supporters, well he does, over 20% of them. True, the democrats didn't single out the blacks and minorities, they referred to all of us as lots of things, all of us AMERICANS that weren't equal in our financial upbringings. You see, I see all of us Trump supporters as 3 colors, red white and blue. I see us all as Ameicans and not trying to DIVIDE people like the democrats.\",\n          \"LYNCHBURG, Va. \\u2014Ted Cruz will announce Monday that he will seek the presidency, launching a campaign that aims to energize the party's Tea Party and socially conservative wings.\\n\\nCruz's plans were confirmed Sunday by two senior advisers with direct knowledge of his plans, who requested anonymity because an official announcement had not yet been made.\\n\\nThe Texas Republican will be the first candidate to officially declare a 2016 run for the White House, though several more are likely to be close behind him.\\n\\nSen. Rand Paul, R-Ky., is expected to announce on April 7. Former Florida governor Jeb Bush, Wisconsin Gov. Scott Walker and other potential candidates have taken preliminary steps towards campaigns.\\n\\nOn the Democratic side, former secretary of State Hillary Rodham Clinton is also expected to launch a campaign soon.\\n\\nCruz is set to announce his intentions in a speech at Liberty University, founded by Jerry Falwell, which bills itself as the world's largest Christian university. The Houston Chronicle was the first to report Cruz's announcement.\\n\\nCruz, 44, is just starting the third year of his first Senate term. He is an undisputed leader of the Tea Party movement, known for his brash, uncompromising style and conservative beliefs that target both President Obama as well as his fellow Republicans.\\n\\nHe repeatedly criticizes the \\\"mushy middle\\\" \\u2014 as reflected by the GOP's last two presidential nominees Mitt Romney and Sen. John McCain \\u2014 and denounces his fellow Republicans for failing to make bold distinctions with Democrats. \\\"It's a failed electoral strategy,\\\" Cruz has said.\\n\\nPerhaps more than any other potential candidate, Cruz has urged a more aggressive path for Republicans. He has criticized his party leadership for not taking on Obama over health care and immigration and has urged the party faithful to \\\"demand action, not talk\\\" from their elected officials \\u2014 including fellow Republicans.\\n\\n\\\"If a candidate tells you that they oppose Obamacare, fantastic! (But) when have you stood up and fought against it?\\\" Cruz said last month at the Conservative Political Action Conference. \\\"If a candidate says they oppose Obama's illegal executive amnesty, terrific. When have you stood up and fought against it?\\\"\\n\\nJames Henson, director of the Texas Politics Project at the University of Texas in Austin, said the GOP primaries will determine whether Cruz's personality will be an asset or a challenge\\n\\n\\\"His combativeness and tone are a potential problem,\\\" Henson said. \\\"They are part of the image he's cultivated and, from what I have seen, he is not overly concerned with modulating that brand. We're going to see whether it works or not.\\\"\\n\\nCruz begins the race trailing in early GOP presidential polls and lags well behind Bush and Walker, the two leading candidates at this stage. He is expected to compete with Paul and Florida Sen. Marco Rubio for support from movement conservatives and Tea Party supporters, and with former Arkansas governor Mike Huckabee and former Pennsylvania senator Rick Santorum \\u2014 the last two winners of the Iowa caucuses \\u2014 for the votes of religious conservatives.\\n\\nA self-described lifelong conservative who grew up in Houston, Cruz was educated at Princeton and Harvard and clerked for Supreme Court Chief Justice William Rehnquist. He had stints in the federal government \\u2014 working for the U.S. Trade Commission and the Justice Department in the George W. Bush administration \\u2014 as well as in private law practice.\\n\\nHe returned home to Texas to serve as solicitor general for Greg Abbott, the former state attorney general who is now governor. But it was Cruz's drubbing in 2012 of then-lieutenant governor David Dewhurst in the Senate GOP primary that made him a Tea Party star.\\n\\nLess than a year later, congressional Republicans would praise \\u2014 and blame \\u2014 Cruz for his role in the 2013 government shutdown and this year's dispute over homeland security funding. His marathon protest on the Senate floor in 2013 over the Affordable Care Act led to the partial government shutdown that year and earned Cruz national notoriety.\\n\\nMark Jones, chairman of the Rice University political science department, said Cruz's immediate task is to figure out a \\\"realistic path\\\" that moves him from the second tier of Republican candidates into the first tier now occupied by Bush and Walker. And even if the Texan cannot do that, Jones said a 2016 presidential bid for Cruz still makes sense.\\n\\n\\\"Cruz is at the very beginning of what is certain to be a long and successful political career,\\\" Jones said. \\\"This presidential campaign can be successful even if he does not obtain the Republican nomination, by allowing him to reach out and speak to a broader Republican audience.\\\"\",\n          \"Print \\nIf you want to see war without end, vote for Hillary Clinton. It is tremendously ironic that Hillary Clinton and the mainstream media have attempted to portray Donald Trump as \\u201cdangerous\\u201d and \\u201ctemperamental\\u201d, because it is Clinton that actually has a long history of being emotionally unstable. She has a temper that is absolutely legendary, and she has been cussing out the men and women in her security detail for decades . Hillary Clinton played a key role in starting the civil war in Syria, thanks to her Libya is a post-apocalyptic wasteland today, and now she is picking a fight with the Russians before she has even won the election. Of all the candidates there were running for president this election cycle, there was nobody that was even close to as dangerous as Hillary Clinton, and if she wins the election I am fully convinced that World War 3 will begin before her time in the White House is over. \\nSomeone that shares this opinion with me is Donald Trump. According to Reuters , Trump recently stated that we are \\u201cgoing to end up in World War Three over Syria if we listen to Hillary Clinton\\u201d\\u2026 \\nOn Syria\\u2019s civil war, Trump said Clinton could drag the United States into a world war with a more aggressive posture toward resolving the conflict. \\nClinton has called for the establishment of a no-fly zone and \\u201csafe zones\\u201d on the ground to protect non-combatants. Some analysts fear that protecting those zones could bring the United States into direct conflict with Russian fighter jets. \\n\\u201cWhat we should do is focus on ISIS. We should not be focusing on Syria,\\u201d said Trump as he dined on fried eggs and sausage at his Trump National Doral golf resort. \\u201cYou\\u2019re going to end up in World War Three over Syria if we listen to Hillary Clinton.\\u201d \\nIn order to have a no-fly zone in Syria, you would have to enforce it. \\nAnd in order to enforce it, you would have to be willing to shoot at the Russians. \\nAccording to National Intelligence Director James Clapper , that could have dire consequences\\u2026 \\nRussia could shoot down a U.S. aircraft if a no-fly zone were imposed over Syria, National Intelligence Director James Clapper said Tuesday. \\n\\u201cI wouldn\\u2019t put it past them to shoot down an American aircraft if they felt that was threatening to their forces on the ground,\\u201d Clapper said, speaking with CBS\\u2019 Charlie Rose at the Council on Foreign Relations in New York about several national security issues. \\nOf course Clapper is not alone in that assessment. The Chairman of the Joint Chiefs of Staff, General Joseph Francis Dunford, says that imposing a no-fly zone over all of Syria \\u201cwould require us to go to war\\u201d \\u2026 \\n\\u201cRight now, Senator, for us to control all of the airspace in Syria it would require us to go to war, against Syria and Russia,\\u2026 That\\u2019s a pretty fundamental decision that certainly I\\u2019m not going to make.\\u201d ( Senate Armed Services Committee, September 22, 2016, emphasis added) \\nBut Hillary Clinton is unwavering in her position that this is what she wants. \\nYou see, the truth is that Hillary Clinton wants to win the war that she started in Syria. Back in 2011, she spearheaded an effort along with Saudi Arabia and Turkey to try to use the Arab Spring uprisings in the Middle East as an opportunity to try to overthrow President Assad in Syria. If it wasn\\u2019t for her meddling, millions of refugees would not be pouring into Europe and elsewhere, and there would be no \\u201chumanitarian crisis\\u201d in Syria at all. \\nThanks to Russian intervention, the war in Syria is not too far from being over, but the Obama administration is desperate to keep it going. They understand that if Assad is victorious that all of their efforts for the last five years have been wasted, and that is why they are so determined to keep Aleppo from falling. Without Aleppo, many of the jihadist rebels that the Obama administration has been supporting won\\u2019t have anywhere to hide. \\nSo the Obama administration has actually been considering direct strikes against the Syrian military, and the Russians have already said that they will not allow this to happen . If Obama is insane enough to order airstrikes against Syrian forces and the Russians start shooting back, that could set off a chain of events that could rapidly spiral completely out of control. \\nOne recent survey found that current American leadership has a 1 percent approval rating in Russia right now, and the Russians dislike Hillary Clinton even more than they dislike Barack Obama. The Russians know that if Hillary Clinton is elected that it is quite likely that they will have to fight a war with us, and that is why they desperately want Donald Trump to win in November. You can see this outlook reflected in comments that Russian President Vladimir Putin recently made about the two candidates \\u2026 \\n\\u201cMrs. Clinton has chosen to take up a very aggressive stance against our country, against Russia. Mr. Trump, on the other hand, calls for cooperation \\u2013 at least when it comes to the international fight against terrorism,\\u201d Putin said. \\n\\u201cNaturally we welcome those who would like to cooperate with us. And we consider it wrong, that we always have to be in conflict with one another, creating existential threats for each other and for the whole world,\\u201d Putin noted. \\nAnyone that watched the three presidential debates could see that Hillary Clinton is absolutely seething with animosity for Russia. The thought of her finger on the nuclear trigger is almost too terrible to contemplate, but it may soon become a reality. \\nAnd even now, the Obama administration and our NATO allies are shifting forces into position for a confrontation with Moscow. This week it is being reported that NATO troops will soon be sent to Poland, Estonia, Latvia and Lithuania \\u2026 Nine hundred US troops are to be sent to eastern Europe next year as America\\u2019s troubled relationship with Russia enters new, uncertain territory. A US-led battle group of NATO allied soldiers will be sent to Poland as part of the multi-nation operation. British forces will lead one of the four battle groups in Estonia, Canada will spearhead the presence in Latvia and Germany will be present in Lithuania. \\nIn addition, Infowars is reporting that U.S. Marines will soon be stationed in Norway near the border with Russia\\u2026 \\nAfter accepting a Pentagon proposal, Norway will host US Marines at a base near the Russian border as Russia deploys nuclear-capable ships to Kaliningrad. \\nA rotating force of approximately 330 Marines will be stationed at an airfield in the city of Vaernes, just outside Trondheim, beginning in January. Norway and Russia share an 122-mile border in the Arctic. \\n\\u201cThe US initiative to augment their training and exercises in Norway by locating a Marine Corps Rotational Force in Norway is highly welcome and will have positive implications for our already strong bilateral relationship,\\u201d said Norwegian Defense Minister Ine Eriksen S\\u00f8reide. \\nMost Americans aren\\u2019t aware of any of this, nor do they really care about our relationship with Russia. \\nBut in Russia things are completely different. The possibility of war with the United States is the biggest news story over there these days , and feverish preparations are being made for a potential nuclear confrontation \\u2026 \\nRussian authorities have stepped up nuclear-war survival measures amid a showdown with Washington, dusting off Soviet-era civil-defense plans and upgrading bomb shelters in the biggest cities. \\nAt the Kremlin\\u2019s Ministry of Emergency Situations, the Cold War is back. \\nThe country recently held its biggest civil defense drills since the collapse of the U.S.S.R., with what officials said were 40 million people rehearsing a response to chemical and nuclear threats. \\nI know that I have been writing about this over and over , but the truth is that we are on a path to war with Russia, and the election of Hillary Clinton would greatly accelerate the march toward war. \\nIn my controversial new book , I expressed my belief that war with Russia is coming, but at the time that I wrote it I didn\\u2019t know how the election would turn out. \\nAt this point it looks like Clinton is very likely to win on November 8th, and that would be absolutely disastrous for our relationship with Russia. \\nIf you are reading this and you are considering voting for Hillary Clinton, please don\\u2019t do it . We simply cannot afford to have an emotionally unstable warmonger with a violent temper in the White House at this critical time. \\nIf the American people do choose Hillary Clinton this November, I believe that it will be a choice that they will bitterly, bitterly regret in future years. \\nTake a look at the future of America: The Beginning of the End and then prepare shares\"\n        ],\n        \"semantic_type\": \"\",\n        \"description\": \"\"\n      }\n    },\n    {\n      \"column\": \"label\",\n      \"properties\": {\n        \"dtype\": \"category\",\n        \"num_unique_values\": 2,\n        \"samples\": [\n          \"FAKE\",\n          \"REAL\"\n        ],\n        \"semantic_type\": \"\",\n        \"description\": \"\"\n      }\n    },\n    {\n      \"column\": \"p_text\",\n      \"properties\": {\n        \"dtype\": \"string\",\n        \"num_unique_values\": 4403,\n        \"samples\": [\n          \"presidenti candid donald trump hillari clinton seemingli head generalelect showdown lot peopl want talk elector map particular whether trump could \\u201c redraw \\u201d even win convers map start key fact time smaller yeartoyear swing state place big constraint presidenti candid \\u2019 abil \\u201c redraw \\u201d given year presidentialelect outcom state increasingli predict outcom state last presidenti elect state shift cours tend similar fashion sometim polit scientist call \\u201c uniform swing \\u201d \\u2014 state \\u201c swing \\u201d elect year elect year mostli way similar amount depend nation condit year exampl consid shift presidenti elect presid obama wors nearli everi state \\u2014 roughli similar amount \\u2014 make sens nation condit favor democrat parti cours \\u201c swing \\u201d two elect liter uniform exampl obama significantli wors utah compar state \\u2014 might expect run mormon better alaska perhap alaskan governor longer republican vicepresidenti nomine time yeartoyear swing within state actual get smaller trend noth new one us gelman notic earli polit scientist simon jackman written uniform swing better approxim presidenti elect state level sinc elector colleg advantag democrat loom say elector map increasingli stabl elect year elect year say gradual secular chang individu state ben highton argu exampl elector map afford democrat edg rather stabil year year impli harder candid \\u201c scrambl \\u201d map \\u2019 challeng face trump win mean better state mitt romney even might wors other \\u2014 well \\u2019 increasingli difficult pull state tend move direct year year win trump realli need nation condit favor republican parti need \\u201c uniform swing \\u201d parti \\u2019 direct iron potenti favor nation condit exist problem trump seem least moment trump\",\n          \"rare poet singersongwrit leonard cohen ventur realm polit howev quit song includ love song infus bleak confront moral dark human also wrote song hope possibl experi democraci unit state perhap take new kind reson wake elect donald trump cohen ask song offer solut polit problem repli \\u201c think song kind solut \\u201d pay tribut troubadour die whose artist work seem get better age voic grew deeper retrospect philosoph sociopolit song compos \\u201c joan arc \\u201d cohen declar interview roll stone \\u201c women realli strong notic strong well let take let us \\u2019 suppos \\u2013 gossip musician wrestler premis free men unless free women \\u201d believ women gain control world context elegiac narr take greater gravita consist dialogu joan arc fire burnt stake women \\u2019 movement flourish time cohen saw joan arc symbol courag yet also recogn may lone disguis male soldier imagin like fight english domin franc final moment face fact would never return could consid ordinari life \\u201c danc end love \\u201d cbc radio interview cohen said song came \\u201c hear read know death camp \\u201d holocaust \\u201c besid crematoria \\u201d string quartet would \\u201c press perform \\u201d \\u201c horror \\u201d unfold cohen sing open \\u201c danc beauti burn violin danc panic \\u2019 til \\u2019 gather safe lift like oliv branch homeward dove \\u201d song repres embrac passion act face atroc death \\u201c \\u201d truli grim song cohen probabl use specter benevol oppressor fascism metaphor next stage relationship yet lyric subtl enough cohen may address moral easi convinc men carri heinou act sing \\u201c children rag lightin rag lightal dress killand end nightif \\u201d \\u201c first take manhattan \\u201d song terror milit extrem told perspect individu tri work within system order chang fail individu taken solac \\u201c beauti weapon \\u201d turn manhattan berlin make mark interview xm radio said \\u201c \\u2019 someth terror \\u2019 alway admir fact alibi compromis posit alway attract \\u2019 like \\u2019 manifest physic plane \\u2019 realli enjoy terrorist activ psychic terror rememb great poem irv layton read \\u2019 give paraphras \\u2018 well guy blow occasion airlin kill children \\u2019 say \\u2018 terrorist jesu freud marx einstein whole world still quak \\u201d cohen meant albeit cynic way philosophi peopl histori use justifi horribl act never engag subject fulli probabl never want cohen \\u2019 song clearli approach issu statesponsor polit violenc versu polit violenc individu \\u201c everybodi know \\u201d one wellknown song ever record wri cynic diagnos realiti cruel world neoliber age auster open lyric except appropri \\u201c everybodi know dice load everybodi roll finger cross everybodi know war everybodi know good guy lost everybodi know fight fix poor stay poor rich get rich \\u2019 goe everybodi know \\u201d cohen sing \\u201c everybodi know \\u2019 troubl \\u201d charg social order indiffer pain suffer mass owner politician capabl maintain control everybodi also know come apart \\u201c democraci cohen describ interview paul zollo wrote song berlin wall came \\u201c everyon say democraci come east like gloomi fellow alway turn parti ruin orgi someth said \\u2018 \\u2019 think \\u2019 go happen way \\u2019 think good idea think lot suffer consequ wall come \\u201d seem strikingli backward motiv cohen ask \\u201c democraci realli come \\u201d thought may democraci come unit state love america wrote song realli ironi america \\u201c song deep intimaci affirm experi democraci countri \\u201d ad \\u201c realli experi unfold realli race confront one anoth class gender even sexual orient confront one anoth real laboratori democraci \\u201d given american exception cohen \\u2019 statement could easili produc someth lyric lee greenwood would proudli belt stage howev time cohen sing \\u201c democraci come usa \\u201d raw ironi like believ forc run nation capabl democraci \\u2019 inimit line \\u201c \\u2019 sentiment know mean love countri \\u2019 stand scene \\u201d make clear cohen disappoint idealist like mani like idea america see play \\u201c hopeless littl screen \\u201d never quit mind \\u201c futur \\u201d song cohen \\u2019 charact look futur good frighten fact think would will see fascist societi restor \\u201c give back berlin wall give stalin st paul give christ give hiroshima \\u201d song hurdl onward nostalgia familiar horror \\u201c destroy anoth fetu \\u2019 like children anyhow \\u2019 seen futur babi murder \\u201d hope human right civil tri erect social order tyrant unravel tyranni push someth yet inevit cohen \\u2019 charact murder case realli right thing \\u201c day \\u201d cohen wrote respons septemb th attack artifact repres reaction happen sing \\u201c peopl say \\u2019 deserv sin god crime world \\u201d other blame fact women live \\u201c unveil \\u201d countri fortun well peopl subjug whatev case may cohen seek settl discuss rather seem interest whether surviv abl press onward pose rhetor question \\u201c go crazi report day \\u201d song abruptli end \\u201c amen \\u201d song come latter era cohen \\u2019 life sultri natur music took much wist brood characterist wrote love love time war love inescap horror around \\u201c amen \\u201d charact cohen channel desper want love must first see terror around think love \\u201c victim sing law remors restor \\u201d think love \\u201c day ransom night right begin \\u201d await kind redempt abl feel want much despair destruct right charact indulg pleasur \\u201c almost like blue \\u201d live world perman war gorgeous layer piec music cohen grappl atroc wit \\u201c saw peopl starv murder rape villag burn tri escap \\u2019 meet glanc stare shoe acid tragic almost like blue \\u201d cohen \\u2019 song profound song appear \\u201c popular problem \\u201d could easili grappl goe mind war crimin sing \\u201c die littl murder thought \\u2019 finish think die lot \\u201d soldier wit tortur parti wit kill parti \\u201c \\u2019 bad review \\u201d seem superior unhappi perform mayb think kill enough whatev case may lost grip moral entir find confront scope sin \\u201c street \\u201d cohen \\u201c popular problem \\u201d deal defeat told telegraph lyric face failur disappoint bewilderment\\u2014especi \\u201c dark forc modifi live \\u201d person \\u201c recogn struggl suffer everyon els \\u2019 \\u201d cohen suggest \\u201c think \\u2019 begin respons life otherwis continu savag battl possibl solut polit social spiritu \\u201d refer \\u201c street \\u201d falter romanc war ad \\u201c say \\u2018 parti \\u2019 \\u2019 land feet \\u2019 stand corner use street \\u2019 think \\u2019 probabl theme whole album yeah scene blown \\u2019 keep lament fact anoth posit stand place use street conduct still street \\u201d basic sens master romant despair high priest patho gone tower song meant peopl find way keep live exist exist act resist deprav unfold around post polit song leonard cohen appear first shadowproof\"\n        ],\n        \"semantic_type\": \"\",\n        \"description\": \"\"\n      }\n    }\n  ]\n}"
            }
          },
          "metadata": {},
          "execution_count": 8
        }
      ]
    },
    {
      "cell_type": "code",
      "source": [
        "raw_iop_csv[\"p_label\"] = np.where(raw_iop_csv[\"label\"] == 'REAL', 1, 0)\n",
        "raw_iop_csv"
      ],
      "metadata": {
        "colab": {
          "base_uri": "https://localhost:8080/",
          "height": 423
        },
        "id": "iXwmFhPG8PRs",
        "outputId": "ec012b32-cace-487c-9fec-efc39b475dd7"
      },
      "execution_count": null,
      "outputs": [
        {
          "output_type": "execute_result",
          "data": {
            "text/plain": [
              "             idd                                              title  \\\n",
              "0     Fq+C96tcx+  ‘A target on Roe v. Wade ’: Oklahoma bill maki...   \n",
              "1     bHUqK!pgmv  Study: women had to drive 4 times farther afte...   \n",
              "2     4Y4Ubf%aTi        Trump, Clinton clash in dueling DC speeches   \n",
              "3     _CoY89SJ@K  Grand jury in Texas indicts activists behind P...   \n",
              "4     +rJHoRQVLe  As Reproductive Rights Hang In The Balance, De...   \n",
              "...          ...                                                ...   \n",
              "4589  ukZm6JTO#x                 Russia Calls the War Party's Bluff   \n",
              "4590  yu0xKEiapJ  Bernie Sanders: The Democratic primary gave me...   \n",
              "4591  c4Y370E_9c  Pipeline Police Strip Search Native Girl, Then...   \n",
              "4592  bBbeuCUeMH  Currency Crisis: Alasdair MacLeod On The Vexed...   \n",
              "4593  vE44sWBnd9                   Paper Tiger ISIS Digs Into Mosul   \n",
              "\n",
              "                                                   text label  \\\n",
              "0     UPDATE: Gov. Fallin vetoed the bill on Friday....  REAL   \n",
              "1     Ever since Texas laws closed about half of the...  REAL   \n",
              "2     Donald Trump and Hillary Clinton, now at the s...  REAL   \n",
              "3     A Houston grand jury investigating criminal al...  REAL   \n",
              "4     WASHINGTON -- Forty-three years after the Supr...  REAL   \n",
              "...                                                 ...   ...   \n",
              "4589  License DMCA \\nCold War 2.0 has reached unprec...  FAKE   \n",
              "4590  Print \\nSen. Bernie Sanders laid out the ways ...  FAKE   \n",
              "4591  As the pressure to start construction on the D...  FAKE   \n",
              "4592  Tweet Home » Gold » Gold News » Currency Crisi...  FAKE   \n",
              "4593  Written by Eric Margolis   As a former soldier...  FAKE   \n",
              "\n",
              "                                                 p_text  p_label  \n",
              "0     updat gov fallin veto bill friday head lawmak ...        1  \n",
              "1     ever sinc texa law close half state abort clin...        1  \n",
              "2     donald trump hillari clinton start line gener ...        1  \n",
              "3     houston grand juri investig crimin alleg plan ...        1  \n",
              "4     washington fortythre year suprem court establi...        1  \n",
              "...                                                 ...      ...  \n",
              "4589  licens dmca cold war reach unpreced hyster lev...        0  \n",
              "4590  print sen berni sander laid way would leverag ...        0  \n",
              "4591  pressur start construct dakota access pipelin ...        0  \n",
              "4592  tweet home » gold » gold news » currenc crisi ...        0  \n",
              "4593  written eric margoli former soldier war corres...        0  \n",
              "\n",
              "[4594 rows x 6 columns]"
            ],
            "text/html": [
              "\n",
              "  <div id=\"df-5c452545-bf04-497c-addc-fea778dbc145\" class=\"colab-df-container\">\n",
              "    <div>\n",
              "<style scoped>\n",
              "    .dataframe tbody tr th:only-of-type {\n",
              "        vertical-align: middle;\n",
              "    }\n",
              "\n",
              "    .dataframe tbody tr th {\n",
              "        vertical-align: top;\n",
              "    }\n",
              "\n",
              "    .dataframe thead th {\n",
              "        text-align: right;\n",
              "    }\n",
              "</style>\n",
              "<table border=\"1\" class=\"dataframe\">\n",
              "  <thead>\n",
              "    <tr style=\"text-align: right;\">\n",
              "      <th></th>\n",
              "      <th>idd</th>\n",
              "      <th>title</th>\n",
              "      <th>text</th>\n",
              "      <th>label</th>\n",
              "      <th>p_text</th>\n",
              "      <th>p_label</th>\n",
              "    </tr>\n",
              "  </thead>\n",
              "  <tbody>\n",
              "    <tr>\n",
              "      <th>0</th>\n",
              "      <td>Fq+C96tcx+</td>\n",
              "      <td>‘A target on Roe v. Wade ’: Oklahoma bill maki...</td>\n",
              "      <td>UPDATE: Gov. Fallin vetoed the bill on Friday....</td>\n",
              "      <td>REAL</td>\n",
              "      <td>updat gov fallin veto bill friday head lawmak ...</td>\n",
              "      <td>1</td>\n",
              "    </tr>\n",
              "    <tr>\n",
              "      <th>1</th>\n",
              "      <td>bHUqK!pgmv</td>\n",
              "      <td>Study: women had to drive 4 times farther afte...</td>\n",
              "      <td>Ever since Texas laws closed about half of the...</td>\n",
              "      <td>REAL</td>\n",
              "      <td>ever sinc texa law close half state abort clin...</td>\n",
              "      <td>1</td>\n",
              "    </tr>\n",
              "    <tr>\n",
              "      <th>2</th>\n",
              "      <td>4Y4Ubf%aTi</td>\n",
              "      <td>Trump, Clinton clash in dueling DC speeches</td>\n",
              "      <td>Donald Trump and Hillary Clinton, now at the s...</td>\n",
              "      <td>REAL</td>\n",
              "      <td>donald trump hillari clinton start line gener ...</td>\n",
              "      <td>1</td>\n",
              "    </tr>\n",
              "    <tr>\n",
              "      <th>3</th>\n",
              "      <td>_CoY89SJ@K</td>\n",
              "      <td>Grand jury in Texas indicts activists behind P...</td>\n",
              "      <td>A Houston grand jury investigating criminal al...</td>\n",
              "      <td>REAL</td>\n",
              "      <td>houston grand juri investig crimin alleg plan ...</td>\n",
              "      <td>1</td>\n",
              "    </tr>\n",
              "    <tr>\n",
              "      <th>4</th>\n",
              "      <td>+rJHoRQVLe</td>\n",
              "      <td>As Reproductive Rights Hang In The Balance, De...</td>\n",
              "      <td>WASHINGTON -- Forty-three years after the Supr...</td>\n",
              "      <td>REAL</td>\n",
              "      <td>washington fortythre year suprem court establi...</td>\n",
              "      <td>1</td>\n",
              "    </tr>\n",
              "    <tr>\n",
              "      <th>...</th>\n",
              "      <td>...</td>\n",
              "      <td>...</td>\n",
              "      <td>...</td>\n",
              "      <td>...</td>\n",
              "      <td>...</td>\n",
              "      <td>...</td>\n",
              "    </tr>\n",
              "    <tr>\n",
              "      <th>4589</th>\n",
              "      <td>ukZm6JTO#x</td>\n",
              "      <td>Russia Calls the War Party's Bluff</td>\n",
              "      <td>License DMCA \\nCold War 2.0 has reached unprec...</td>\n",
              "      <td>FAKE</td>\n",
              "      <td>licens dmca cold war reach unpreced hyster lev...</td>\n",
              "      <td>0</td>\n",
              "    </tr>\n",
              "    <tr>\n",
              "      <th>4590</th>\n",
              "      <td>yu0xKEiapJ</td>\n",
              "      <td>Bernie Sanders: The Democratic primary gave me...</td>\n",
              "      <td>Print \\nSen. Bernie Sanders laid out the ways ...</td>\n",
              "      <td>FAKE</td>\n",
              "      <td>print sen berni sander laid way would leverag ...</td>\n",
              "      <td>0</td>\n",
              "    </tr>\n",
              "    <tr>\n",
              "      <th>4591</th>\n",
              "      <td>c4Y370E_9c</td>\n",
              "      <td>Pipeline Police Strip Search Native Girl, Then...</td>\n",
              "      <td>As the pressure to start construction on the D...</td>\n",
              "      <td>FAKE</td>\n",
              "      <td>pressur start construct dakota access pipelin ...</td>\n",
              "      <td>0</td>\n",
              "    </tr>\n",
              "    <tr>\n",
              "      <th>4592</th>\n",
              "      <td>bBbeuCUeMH</td>\n",
              "      <td>Currency Crisis: Alasdair MacLeod On The Vexed...</td>\n",
              "      <td>Tweet Home » Gold » Gold News » Currency Crisi...</td>\n",
              "      <td>FAKE</td>\n",
              "      <td>tweet home » gold » gold news » currenc crisi ...</td>\n",
              "      <td>0</td>\n",
              "    </tr>\n",
              "    <tr>\n",
              "      <th>4593</th>\n",
              "      <td>vE44sWBnd9</td>\n",
              "      <td>Paper Tiger ISIS Digs Into Mosul</td>\n",
              "      <td>Written by Eric Margolis   As a former soldier...</td>\n",
              "      <td>FAKE</td>\n",
              "      <td>written eric margoli former soldier war corres...</td>\n",
              "      <td>0</td>\n",
              "    </tr>\n",
              "  </tbody>\n",
              "</table>\n",
              "<p>4594 rows × 6 columns</p>\n",
              "</div>\n",
              "    <div class=\"colab-df-buttons\">\n",
              "\n",
              "  <div class=\"colab-df-container\">\n",
              "    <button class=\"colab-df-convert\" onclick=\"convertToInteractive('df-5c452545-bf04-497c-addc-fea778dbc145')\"\n",
              "            title=\"Convert this dataframe to an interactive table.\"\n",
              "            style=\"display:none;\">\n",
              "\n",
              "  <svg xmlns=\"http://www.w3.org/2000/svg\" height=\"24px\" viewBox=\"0 -960 960 960\">\n",
              "    <path d=\"M120-120v-720h720v720H120Zm60-500h600v-160H180v160Zm220 220h160v-160H400v160Zm0 220h160v-160H400v160ZM180-400h160v-160H180v160Zm440 0h160v-160H620v160ZM180-180h160v-160H180v160Zm440 0h160v-160H620v160Z\"/>\n",
              "  </svg>\n",
              "    </button>\n",
              "\n",
              "  <style>\n",
              "    .colab-df-container {\n",
              "      display:flex;\n",
              "      gap: 12px;\n",
              "    }\n",
              "\n",
              "    .colab-df-convert {\n",
              "      background-color: #E8F0FE;\n",
              "      border: none;\n",
              "      border-radius: 50%;\n",
              "      cursor: pointer;\n",
              "      display: none;\n",
              "      fill: #1967D2;\n",
              "      height: 32px;\n",
              "      padding: 0 0 0 0;\n",
              "      width: 32px;\n",
              "    }\n",
              "\n",
              "    .colab-df-convert:hover {\n",
              "      background-color: #E2EBFA;\n",
              "      box-shadow: 0px 1px 2px rgba(60, 64, 67, 0.3), 0px 1px 3px 1px rgba(60, 64, 67, 0.15);\n",
              "      fill: #174EA6;\n",
              "    }\n",
              "\n",
              "    .colab-df-buttons div {\n",
              "      margin-bottom: 4px;\n",
              "    }\n",
              "\n",
              "    [theme=dark] .colab-df-convert {\n",
              "      background-color: #3B4455;\n",
              "      fill: #D2E3FC;\n",
              "    }\n",
              "\n",
              "    [theme=dark] .colab-df-convert:hover {\n",
              "      background-color: #434B5C;\n",
              "      box-shadow: 0px 1px 3px 1px rgba(0, 0, 0, 0.15);\n",
              "      filter: drop-shadow(0px 1px 2px rgba(0, 0, 0, 0.3));\n",
              "      fill: #FFFFFF;\n",
              "    }\n",
              "  </style>\n",
              "\n",
              "    <script>\n",
              "      const buttonEl =\n",
              "        document.querySelector('#df-5c452545-bf04-497c-addc-fea778dbc145 button.colab-df-convert');\n",
              "      buttonEl.style.display =\n",
              "        google.colab.kernel.accessAllowed ? 'block' : 'none';\n",
              "\n",
              "      async function convertToInteractive(key) {\n",
              "        const element = document.querySelector('#df-5c452545-bf04-497c-addc-fea778dbc145');\n",
              "        const dataTable =\n",
              "          await google.colab.kernel.invokeFunction('convertToInteractive',\n",
              "                                                    [key], {});\n",
              "        if (!dataTable) return;\n",
              "\n",
              "        const docLinkHtml = 'Like what you see? Visit the ' +\n",
              "          '<a target=\"_blank\" href=https://colab.research.google.com/notebooks/data_table.ipynb>data table notebook</a>'\n",
              "          + ' to learn more about interactive tables.';\n",
              "        element.innerHTML = '';\n",
              "        dataTable['output_type'] = 'display_data';\n",
              "        await google.colab.output.renderOutput(dataTable, element);\n",
              "        const docLink = document.createElement('div');\n",
              "        docLink.innerHTML = docLinkHtml;\n",
              "        element.appendChild(docLink);\n",
              "      }\n",
              "    </script>\n",
              "  </div>\n",
              "\n",
              "\n",
              "<div id=\"df-3b8d6fea-b01c-4335-b497-658533c48985\">\n",
              "  <button class=\"colab-df-quickchart\" onclick=\"quickchart('df-3b8d6fea-b01c-4335-b497-658533c48985')\"\n",
              "            title=\"Suggest charts\"\n",
              "            style=\"display:none;\">\n",
              "\n",
              "<svg xmlns=\"http://www.w3.org/2000/svg\" height=\"24px\"viewBox=\"0 0 24 24\"\n",
              "     width=\"24px\">\n",
              "    <g>\n",
              "        <path d=\"M19 3H5c-1.1 0-2 .9-2 2v14c0 1.1.9 2 2 2h14c1.1 0 2-.9 2-2V5c0-1.1-.9-2-2-2zM9 17H7v-7h2v7zm4 0h-2V7h2v10zm4 0h-2v-4h2v4z\"/>\n",
              "    </g>\n",
              "</svg>\n",
              "  </button>\n",
              "\n",
              "<style>\n",
              "  .colab-df-quickchart {\n",
              "      --bg-color: #E8F0FE;\n",
              "      --fill-color: #1967D2;\n",
              "      --hover-bg-color: #E2EBFA;\n",
              "      --hover-fill-color: #174EA6;\n",
              "      --disabled-fill-color: #AAA;\n",
              "      --disabled-bg-color: #DDD;\n",
              "  }\n",
              "\n",
              "  [theme=dark] .colab-df-quickchart {\n",
              "      --bg-color: #3B4455;\n",
              "      --fill-color: #D2E3FC;\n",
              "      --hover-bg-color: #434B5C;\n",
              "      --hover-fill-color: #FFFFFF;\n",
              "      --disabled-bg-color: #3B4455;\n",
              "      --disabled-fill-color: #666;\n",
              "  }\n",
              "\n",
              "  .colab-df-quickchart {\n",
              "    background-color: var(--bg-color);\n",
              "    border: none;\n",
              "    border-radius: 50%;\n",
              "    cursor: pointer;\n",
              "    display: none;\n",
              "    fill: var(--fill-color);\n",
              "    height: 32px;\n",
              "    padding: 0;\n",
              "    width: 32px;\n",
              "  }\n",
              "\n",
              "  .colab-df-quickchart:hover {\n",
              "    background-color: var(--hover-bg-color);\n",
              "    box-shadow: 0 1px 2px rgba(60, 64, 67, 0.3), 0 1px 3px 1px rgba(60, 64, 67, 0.15);\n",
              "    fill: var(--button-hover-fill-color);\n",
              "  }\n",
              "\n",
              "  .colab-df-quickchart-complete:disabled,\n",
              "  .colab-df-quickchart-complete:disabled:hover {\n",
              "    background-color: var(--disabled-bg-color);\n",
              "    fill: var(--disabled-fill-color);\n",
              "    box-shadow: none;\n",
              "  }\n",
              "\n",
              "  .colab-df-spinner {\n",
              "    border: 2px solid var(--fill-color);\n",
              "    border-color: transparent;\n",
              "    border-bottom-color: var(--fill-color);\n",
              "    animation:\n",
              "      spin 1s steps(1) infinite;\n",
              "  }\n",
              "\n",
              "  @keyframes spin {\n",
              "    0% {\n",
              "      border-color: transparent;\n",
              "      border-bottom-color: var(--fill-color);\n",
              "      border-left-color: var(--fill-color);\n",
              "    }\n",
              "    20% {\n",
              "      border-color: transparent;\n",
              "      border-left-color: var(--fill-color);\n",
              "      border-top-color: var(--fill-color);\n",
              "    }\n",
              "    30% {\n",
              "      border-color: transparent;\n",
              "      border-left-color: var(--fill-color);\n",
              "      border-top-color: var(--fill-color);\n",
              "      border-right-color: var(--fill-color);\n",
              "    }\n",
              "    40% {\n",
              "      border-color: transparent;\n",
              "      border-right-color: var(--fill-color);\n",
              "      border-top-color: var(--fill-color);\n",
              "    }\n",
              "    60% {\n",
              "      border-color: transparent;\n",
              "      border-right-color: var(--fill-color);\n",
              "    }\n",
              "    80% {\n",
              "      border-color: transparent;\n",
              "      border-right-color: var(--fill-color);\n",
              "      border-bottom-color: var(--fill-color);\n",
              "    }\n",
              "    90% {\n",
              "      border-color: transparent;\n",
              "      border-bottom-color: var(--fill-color);\n",
              "    }\n",
              "  }\n",
              "</style>\n",
              "\n",
              "  <script>\n",
              "    async function quickchart(key) {\n",
              "      const quickchartButtonEl =\n",
              "        document.querySelector('#' + key + ' button');\n",
              "      quickchartButtonEl.disabled = true;  // To prevent multiple clicks.\n",
              "      quickchartButtonEl.classList.add('colab-df-spinner');\n",
              "      try {\n",
              "        const charts = await google.colab.kernel.invokeFunction(\n",
              "            'suggestCharts', [key], {});\n",
              "      } catch (error) {\n",
              "        console.error('Error during call to suggestCharts:', error);\n",
              "      }\n",
              "      quickchartButtonEl.classList.remove('colab-df-spinner');\n",
              "      quickchartButtonEl.classList.add('colab-df-quickchart-complete');\n",
              "    }\n",
              "    (() => {\n",
              "      let quickchartButtonEl =\n",
              "        document.querySelector('#df-3b8d6fea-b01c-4335-b497-658533c48985 button');\n",
              "      quickchartButtonEl.style.display =\n",
              "        google.colab.kernel.accessAllowed ? 'block' : 'none';\n",
              "    })();\n",
              "  </script>\n",
              "</div>\n",
              "    </div>\n",
              "  </div>\n"
            ],
            "application/vnd.google.colaboratory.intrinsic+json": {
              "type": "dataframe",
              "variable_name": "raw_iop_csv",
              "summary": "{\n  \"name\": \"raw_iop_csv\",\n  \"rows\": 4594,\n  \"fields\": [\n    {\n      \"column\": \"idd\",\n      \"properties\": {\n        \"dtype\": \"string\",\n        \"num_unique_values\": 4594,\n        \"samples\": [\n          \"mij8ktR1+U\",\n          \"$2_rG$!SR!\",\n          \"E+&&1TwpM_\"\n        ],\n        \"semantic_type\": \"\",\n        \"description\": \"\"\n      }\n    },\n    {\n      \"column\": \"title\",\n      \"properties\": {\n        \"dtype\": \"string\",\n        \"num_unique_values\": 4537,\n        \"samples\": [\n          \"McConnell: No lame duck confirmation\",\n          \"Trump shakes up campaign, prepares to roll out long-awaited ads\",\n          \"Aleppo fighters demand $300 for exit via humanitarian corridors\"\n        ],\n        \"semantic_type\": \"\",\n        \"description\": \"\"\n      }\n    },\n    {\n      \"column\": \"text\",\n      \"properties\": {\n        \"dtype\": \"string\",\n        \"num_unique_values\": 4409,\n        \"samples\": [\n          \"Democrats are Racist for Calling Black Trump Supporters Uneducated Red Necks page: 1 link Its ok to call us white Trump supporters all that but when You mess with our black friends then that's another issue. Democrats need to realize that some black folks and white folks all grew up with different opportunities and school zones, that is SO RACIST to call them uneducated, its fine to call us whites that but not our black brothers and sisters, the Hispanics and all other non whites. How dare the Clintons offend our black and other minority members , Im sure some liberal will come along and say something totally ignorant like trump doesn't have and black supporters, well he does, over 20% of them. True, the democrats didn't single out the blacks and minorities, they referred to all of us as lots of things, all of us AMERICANS that weren't equal in our financial upbringings. You see, I see all of us Trump supporters as 3 colors, red white and blue. I see us all as Ameicans and not trying to DIVIDE people like the democrats.\",\n          \"LYNCHBURG, Va. \\u2014Ted Cruz will announce Monday that he will seek the presidency, launching a campaign that aims to energize the party's Tea Party and socially conservative wings.\\n\\nCruz's plans were confirmed Sunday by two senior advisers with direct knowledge of his plans, who requested anonymity because an official announcement had not yet been made.\\n\\nThe Texas Republican will be the first candidate to officially declare a 2016 run for the White House, though several more are likely to be close behind him.\\n\\nSen. Rand Paul, R-Ky., is expected to announce on April 7. Former Florida governor Jeb Bush, Wisconsin Gov. Scott Walker and other potential candidates have taken preliminary steps towards campaigns.\\n\\nOn the Democratic side, former secretary of State Hillary Rodham Clinton is also expected to launch a campaign soon.\\n\\nCruz is set to announce his intentions in a speech at Liberty University, founded by Jerry Falwell, which bills itself as the world's largest Christian university. The Houston Chronicle was the first to report Cruz's announcement.\\n\\nCruz, 44, is just starting the third year of his first Senate term. He is an undisputed leader of the Tea Party movement, known for his brash, uncompromising style and conservative beliefs that target both President Obama as well as his fellow Republicans.\\n\\nHe repeatedly criticizes the \\\"mushy middle\\\" \\u2014 as reflected by the GOP's last two presidential nominees Mitt Romney and Sen. John McCain \\u2014 and denounces his fellow Republicans for failing to make bold distinctions with Democrats. \\\"It's a failed electoral strategy,\\\" Cruz has said.\\n\\nPerhaps more than any other potential candidate, Cruz has urged a more aggressive path for Republicans. He has criticized his party leadership for not taking on Obama over health care and immigration and has urged the party faithful to \\\"demand action, not talk\\\" from their elected officials \\u2014 including fellow Republicans.\\n\\n\\\"If a candidate tells you that they oppose Obamacare, fantastic! (But) when have you stood up and fought against it?\\\" Cruz said last month at the Conservative Political Action Conference. \\\"If a candidate says they oppose Obama's illegal executive amnesty, terrific. When have you stood up and fought against it?\\\"\\n\\nJames Henson, director of the Texas Politics Project at the University of Texas in Austin, said the GOP primaries will determine whether Cruz's personality will be an asset or a challenge\\n\\n\\\"His combativeness and tone are a potential problem,\\\" Henson said. \\\"They are part of the image he's cultivated and, from what I have seen, he is not overly concerned with modulating that brand. We're going to see whether it works or not.\\\"\\n\\nCruz begins the race trailing in early GOP presidential polls and lags well behind Bush and Walker, the two leading candidates at this stage. He is expected to compete with Paul and Florida Sen. Marco Rubio for support from movement conservatives and Tea Party supporters, and with former Arkansas governor Mike Huckabee and former Pennsylvania senator Rick Santorum \\u2014 the last two winners of the Iowa caucuses \\u2014 for the votes of religious conservatives.\\n\\nA self-described lifelong conservative who grew up in Houston, Cruz was educated at Princeton and Harvard and clerked for Supreme Court Chief Justice William Rehnquist. He had stints in the federal government \\u2014 working for the U.S. Trade Commission and the Justice Department in the George W. Bush administration \\u2014 as well as in private law practice.\\n\\nHe returned home to Texas to serve as solicitor general for Greg Abbott, the former state attorney general who is now governor. But it was Cruz's drubbing in 2012 of then-lieutenant governor David Dewhurst in the Senate GOP primary that made him a Tea Party star.\\n\\nLess than a year later, congressional Republicans would praise \\u2014 and blame \\u2014 Cruz for his role in the 2013 government shutdown and this year's dispute over homeland security funding. His marathon protest on the Senate floor in 2013 over the Affordable Care Act led to the partial government shutdown that year and earned Cruz national notoriety.\\n\\nMark Jones, chairman of the Rice University political science department, said Cruz's immediate task is to figure out a \\\"realistic path\\\" that moves him from the second tier of Republican candidates into the first tier now occupied by Bush and Walker. And even if the Texan cannot do that, Jones said a 2016 presidential bid for Cruz still makes sense.\\n\\n\\\"Cruz is at the very beginning of what is certain to be a long and successful political career,\\\" Jones said. \\\"This presidential campaign can be successful even if he does not obtain the Republican nomination, by allowing him to reach out and speak to a broader Republican audience.\\\"\",\n          \"Print \\nIf you want to see war without end, vote for Hillary Clinton. It is tremendously ironic that Hillary Clinton and the mainstream media have attempted to portray Donald Trump as \\u201cdangerous\\u201d and \\u201ctemperamental\\u201d, because it is Clinton that actually has a long history of being emotionally unstable. She has a temper that is absolutely legendary, and she has been cussing out the men and women in her security detail for decades . Hillary Clinton played a key role in starting the civil war in Syria, thanks to her Libya is a post-apocalyptic wasteland today, and now she is picking a fight with the Russians before she has even won the election. Of all the candidates there were running for president this election cycle, there was nobody that was even close to as dangerous as Hillary Clinton, and if she wins the election I am fully convinced that World War 3 will begin before her time in the White House is over. \\nSomeone that shares this opinion with me is Donald Trump. According to Reuters , Trump recently stated that we are \\u201cgoing to end up in World War Three over Syria if we listen to Hillary Clinton\\u201d\\u2026 \\nOn Syria\\u2019s civil war, Trump said Clinton could drag the United States into a world war with a more aggressive posture toward resolving the conflict. \\nClinton has called for the establishment of a no-fly zone and \\u201csafe zones\\u201d on the ground to protect non-combatants. Some analysts fear that protecting those zones could bring the United States into direct conflict with Russian fighter jets. \\n\\u201cWhat we should do is focus on ISIS. We should not be focusing on Syria,\\u201d said Trump as he dined on fried eggs and sausage at his Trump National Doral golf resort. \\u201cYou\\u2019re going to end up in World War Three over Syria if we listen to Hillary Clinton.\\u201d \\nIn order to have a no-fly zone in Syria, you would have to enforce it. \\nAnd in order to enforce it, you would have to be willing to shoot at the Russians. \\nAccording to National Intelligence Director James Clapper , that could have dire consequences\\u2026 \\nRussia could shoot down a U.S. aircraft if a no-fly zone were imposed over Syria, National Intelligence Director James Clapper said Tuesday. \\n\\u201cI wouldn\\u2019t put it past them to shoot down an American aircraft if they felt that was threatening to their forces on the ground,\\u201d Clapper said, speaking with CBS\\u2019 Charlie Rose at the Council on Foreign Relations in New York about several national security issues. \\nOf course Clapper is not alone in that assessment. The Chairman of the Joint Chiefs of Staff, General Joseph Francis Dunford, says that imposing a no-fly zone over all of Syria \\u201cwould require us to go to war\\u201d \\u2026 \\n\\u201cRight now, Senator, for us to control all of the airspace in Syria it would require us to go to war, against Syria and Russia,\\u2026 That\\u2019s a pretty fundamental decision that certainly I\\u2019m not going to make.\\u201d ( Senate Armed Services Committee, September 22, 2016, emphasis added) \\nBut Hillary Clinton is unwavering in her position that this is what she wants. \\nYou see, the truth is that Hillary Clinton wants to win the war that she started in Syria. Back in 2011, she spearheaded an effort along with Saudi Arabia and Turkey to try to use the Arab Spring uprisings in the Middle East as an opportunity to try to overthrow President Assad in Syria. If it wasn\\u2019t for her meddling, millions of refugees would not be pouring into Europe and elsewhere, and there would be no \\u201chumanitarian crisis\\u201d in Syria at all. \\nThanks to Russian intervention, the war in Syria is not too far from being over, but the Obama administration is desperate to keep it going. They understand that if Assad is victorious that all of their efforts for the last five years have been wasted, and that is why they are so determined to keep Aleppo from falling. Without Aleppo, many of the jihadist rebels that the Obama administration has been supporting won\\u2019t have anywhere to hide. \\nSo the Obama administration has actually been considering direct strikes against the Syrian military, and the Russians have already said that they will not allow this to happen . If Obama is insane enough to order airstrikes against Syrian forces and the Russians start shooting back, that could set off a chain of events that could rapidly spiral completely out of control. \\nOne recent survey found that current American leadership has a 1 percent approval rating in Russia right now, and the Russians dislike Hillary Clinton even more than they dislike Barack Obama. The Russians know that if Hillary Clinton is elected that it is quite likely that they will have to fight a war with us, and that is why they desperately want Donald Trump to win in November. You can see this outlook reflected in comments that Russian President Vladimir Putin recently made about the two candidates \\u2026 \\n\\u201cMrs. Clinton has chosen to take up a very aggressive stance against our country, against Russia. Mr. Trump, on the other hand, calls for cooperation \\u2013 at least when it comes to the international fight against terrorism,\\u201d Putin said. \\n\\u201cNaturally we welcome those who would like to cooperate with us. And we consider it wrong, that we always have to be in conflict with one another, creating existential threats for each other and for the whole world,\\u201d Putin noted. \\nAnyone that watched the three presidential debates could see that Hillary Clinton is absolutely seething with animosity for Russia. The thought of her finger on the nuclear trigger is almost too terrible to contemplate, but it may soon become a reality. \\nAnd even now, the Obama administration and our NATO allies are shifting forces into position for a confrontation with Moscow. This week it is being reported that NATO troops will soon be sent to Poland, Estonia, Latvia and Lithuania \\u2026 Nine hundred US troops are to be sent to eastern Europe next year as America\\u2019s troubled relationship with Russia enters new, uncertain territory. A US-led battle group of NATO allied soldiers will be sent to Poland as part of the multi-nation operation. British forces will lead one of the four battle groups in Estonia, Canada will spearhead the presence in Latvia and Germany will be present in Lithuania. \\nIn addition, Infowars is reporting that U.S. Marines will soon be stationed in Norway near the border with Russia\\u2026 \\nAfter accepting a Pentagon proposal, Norway will host US Marines at a base near the Russian border as Russia deploys nuclear-capable ships to Kaliningrad. \\nA rotating force of approximately 330 Marines will be stationed at an airfield in the city of Vaernes, just outside Trondheim, beginning in January. Norway and Russia share an 122-mile border in the Arctic. \\n\\u201cThe US initiative to augment their training and exercises in Norway by locating a Marine Corps Rotational Force in Norway is highly welcome and will have positive implications for our already strong bilateral relationship,\\u201d said Norwegian Defense Minister Ine Eriksen S\\u00f8reide. \\nMost Americans aren\\u2019t aware of any of this, nor do they really care about our relationship with Russia. \\nBut in Russia things are completely different. The possibility of war with the United States is the biggest news story over there these days , and feverish preparations are being made for a potential nuclear confrontation \\u2026 \\nRussian authorities have stepped up nuclear-war survival measures amid a showdown with Washington, dusting off Soviet-era civil-defense plans and upgrading bomb shelters in the biggest cities. \\nAt the Kremlin\\u2019s Ministry of Emergency Situations, the Cold War is back. \\nThe country recently held its biggest civil defense drills since the collapse of the U.S.S.R., with what officials said were 40 million people rehearsing a response to chemical and nuclear threats. \\nI know that I have been writing about this over and over , but the truth is that we are on a path to war with Russia, and the election of Hillary Clinton would greatly accelerate the march toward war. \\nIn my controversial new book , I expressed my belief that war with Russia is coming, but at the time that I wrote it I didn\\u2019t know how the election would turn out. \\nAt this point it looks like Clinton is very likely to win on November 8th, and that would be absolutely disastrous for our relationship with Russia. \\nIf you are reading this and you are considering voting for Hillary Clinton, please don\\u2019t do it . We simply cannot afford to have an emotionally unstable warmonger with a violent temper in the White House at this critical time. \\nIf the American people do choose Hillary Clinton this November, I believe that it will be a choice that they will bitterly, bitterly regret in future years. \\nTake a look at the future of America: The Beginning of the End and then prepare shares\"\n        ],\n        \"semantic_type\": \"\",\n        \"description\": \"\"\n      }\n    },\n    {\n      \"column\": \"label\",\n      \"properties\": {\n        \"dtype\": \"category\",\n        \"num_unique_values\": 2,\n        \"samples\": [\n          \"FAKE\",\n          \"REAL\"\n        ],\n        \"semantic_type\": \"\",\n        \"description\": \"\"\n      }\n    },\n    {\n      \"column\": \"p_text\",\n      \"properties\": {\n        \"dtype\": \"string\",\n        \"num_unique_values\": 4403,\n        \"samples\": [\n          \"presidenti candid donald trump hillari clinton seemingli head generalelect showdown lot peopl want talk elector map particular whether trump could \\u201c redraw \\u201d even win convers map start key fact time smaller yeartoyear swing state place big constraint presidenti candid \\u2019 abil \\u201c redraw \\u201d given year presidentialelect outcom state increasingli predict outcom state last presidenti elect state shift cours tend similar fashion sometim polit scientist call \\u201c uniform swing \\u201d \\u2014 state \\u201c swing \\u201d elect year elect year mostli way similar amount depend nation condit year exampl consid shift presidenti elect presid obama wors nearli everi state \\u2014 roughli similar amount \\u2014 make sens nation condit favor democrat parti cours \\u201c swing \\u201d two elect liter uniform exampl obama significantli wors utah compar state \\u2014 might expect run mormon better alaska perhap alaskan governor longer republican vicepresidenti nomine time yeartoyear swing within state actual get smaller trend noth new one us gelman notic earli polit scientist simon jackman written uniform swing better approxim presidenti elect state level sinc elector colleg advantag democrat loom say elector map increasingli stabl elect year elect year say gradual secular chang individu state ben highton argu exampl elector map afford democrat edg rather stabil year year impli harder candid \\u201c scrambl \\u201d map \\u2019 challeng face trump win mean better state mitt romney even might wors other \\u2014 well \\u2019 increasingli difficult pull state tend move direct year year win trump realli need nation condit favor republican parti need \\u201c uniform swing \\u201d parti \\u2019 direct iron potenti favor nation condit exist problem trump seem least moment trump\",\n          \"rare poet singersongwrit leonard cohen ventur realm polit howev quit song includ love song infus bleak confront moral dark human also wrote song hope possibl experi democraci unit state perhap take new kind reson wake elect donald trump cohen ask song offer solut polit problem repli \\u201c think song kind solut \\u201d pay tribut troubadour die whose artist work seem get better age voic grew deeper retrospect philosoph sociopolit song compos \\u201c joan arc \\u201d cohen declar interview roll stone \\u201c women realli strong notic strong well let take let us \\u2019 suppos \\u2013 gossip musician wrestler premis free men unless free women \\u201d believ women gain control world context elegiac narr take greater gravita consist dialogu joan arc fire burnt stake women \\u2019 movement flourish time cohen saw joan arc symbol courag yet also recogn may lone disguis male soldier imagin like fight english domin franc final moment face fact would never return could consid ordinari life \\u201c danc end love \\u201d cbc radio interview cohen said song came \\u201c hear read know death camp \\u201d holocaust \\u201c besid crematoria \\u201d string quartet would \\u201c press perform \\u201d \\u201c horror \\u201d unfold cohen sing open \\u201c danc beauti burn violin danc panic \\u2019 til \\u2019 gather safe lift like oliv branch homeward dove \\u201d song repres embrac passion act face atroc death \\u201c \\u201d truli grim song cohen probabl use specter benevol oppressor fascism metaphor next stage relationship yet lyric subtl enough cohen may address moral easi convinc men carri heinou act sing \\u201c children rag lightin rag lightal dress killand end nightif \\u201d \\u201c first take manhattan \\u201d song terror milit extrem told perspect individu tri work within system order chang fail individu taken solac \\u201c beauti weapon \\u201d turn manhattan berlin make mark interview xm radio said \\u201c \\u2019 someth terror \\u2019 alway admir fact alibi compromis posit alway attract \\u2019 like \\u2019 manifest physic plane \\u2019 realli enjoy terrorist activ psychic terror rememb great poem irv layton read \\u2019 give paraphras \\u2018 well guy blow occasion airlin kill children \\u2019 say \\u2018 terrorist jesu freud marx einstein whole world still quak \\u201d cohen meant albeit cynic way philosophi peopl histori use justifi horribl act never engag subject fulli probabl never want cohen \\u2019 song clearli approach issu statesponsor polit violenc versu polit violenc individu \\u201c everybodi know \\u201d one wellknown song ever record wri cynic diagnos realiti cruel world neoliber age auster open lyric except appropri \\u201c everybodi know dice load everybodi roll finger cross everybodi know war everybodi know good guy lost everybodi know fight fix poor stay poor rich get rich \\u2019 goe everybodi know \\u201d cohen sing \\u201c everybodi know \\u2019 troubl \\u201d charg social order indiffer pain suffer mass owner politician capabl maintain control everybodi also know come apart \\u201c democraci cohen describ interview paul zollo wrote song berlin wall came \\u201c everyon say democraci come east like gloomi fellow alway turn parti ruin orgi someth said \\u2018 \\u2019 think \\u2019 go happen way \\u2019 think good idea think lot suffer consequ wall come \\u201d seem strikingli backward motiv cohen ask \\u201c democraci realli come \\u201d thought may democraci come unit state love america wrote song realli ironi america \\u201c song deep intimaci affirm experi democraci countri \\u201d ad \\u201c realli experi unfold realli race confront one anoth class gender even sexual orient confront one anoth real laboratori democraci \\u201d given american exception cohen \\u2019 statement could easili produc someth lyric lee greenwood would proudli belt stage howev time cohen sing \\u201c democraci come usa \\u201d raw ironi like believ forc run nation capabl democraci \\u2019 inimit line \\u201c \\u2019 sentiment know mean love countri \\u2019 stand scene \\u201d make clear cohen disappoint idealist like mani like idea america see play \\u201c hopeless littl screen \\u201d never quit mind \\u201c futur \\u201d song cohen \\u2019 charact look futur good frighten fact think would will see fascist societi restor \\u201c give back berlin wall give stalin st paul give christ give hiroshima \\u201d song hurdl onward nostalgia familiar horror \\u201c destroy anoth fetu \\u2019 like children anyhow \\u2019 seen futur babi murder \\u201d hope human right civil tri erect social order tyrant unravel tyranni push someth yet inevit cohen \\u2019 charact murder case realli right thing \\u201c day \\u201d cohen wrote respons septemb th attack artifact repres reaction happen sing \\u201c peopl say \\u2019 deserv sin god crime world \\u201d other blame fact women live \\u201c unveil \\u201d countri fortun well peopl subjug whatev case may cohen seek settl discuss rather seem interest whether surviv abl press onward pose rhetor question \\u201c go crazi report day \\u201d song abruptli end \\u201c amen \\u201d song come latter era cohen \\u2019 life sultri natur music took much wist brood characterist wrote love love time war love inescap horror around \\u201c amen \\u201d charact cohen channel desper want love must first see terror around think love \\u201c victim sing law remors restor \\u201d think love \\u201c day ransom night right begin \\u201d await kind redempt abl feel want much despair destruct right charact indulg pleasur \\u201c almost like blue \\u201d live world perman war gorgeous layer piec music cohen grappl atroc wit \\u201c saw peopl starv murder rape villag burn tri escap \\u2019 meet glanc stare shoe acid tragic almost like blue \\u201d cohen \\u2019 song profound song appear \\u201c popular problem \\u201d could easili grappl goe mind war crimin sing \\u201c die littl murder thought \\u2019 finish think die lot \\u201d soldier wit tortur parti wit kill parti \\u201c \\u2019 bad review \\u201d seem superior unhappi perform mayb think kill enough whatev case may lost grip moral entir find confront scope sin \\u201c street \\u201d cohen \\u201c popular problem \\u201d deal defeat told telegraph lyric face failur disappoint bewilderment\\u2014especi \\u201c dark forc modifi live \\u201d person \\u201c recogn struggl suffer everyon els \\u2019 \\u201d cohen suggest \\u201c think \\u2019 begin respons life otherwis continu savag battl possibl solut polit social spiritu \\u201d refer \\u201c street \\u201d falter romanc war ad \\u201c say \\u2018 parti \\u2019 \\u2019 land feet \\u2019 stand corner use street \\u2019 think \\u2019 probabl theme whole album yeah scene blown \\u2019 keep lament fact anoth posit stand place use street conduct still street \\u201d basic sens master romant despair high priest patho gone tower song meant peopl find way keep live exist exist act resist deprav unfold around post polit song leonard cohen appear first shadowproof\"\n        ],\n        \"semantic_type\": \"\",\n        \"description\": \"\"\n      }\n    },\n    {\n      \"column\": \"p_label\",\n      \"properties\": {\n        \"dtype\": \"number\",\n        \"std\": 0,\n        \"min\": 0,\n        \"max\": 1,\n        \"num_unique_values\": 2,\n        \"samples\": [\n          0,\n          1\n        ],\n        \"semantic_type\": \"\",\n        \"description\": \"\"\n      }\n    }\n  ]\n}"
            }
          },
          "metadata": {},
          "execution_count": 9
        }
      ]
    },
    {
      "cell_type": "code",
      "source": [
        "from sklearn.feature_extraction.text import CountVectorizer\n",
        "import scipy.sparse as sp\n",
        "import numpy as np\n",
        "\n",
        "vectorizer = CountVectorizer()\n",
        "X = vectorizer.fit_transform(raw_iop_csv['p_text'])\n",
        "\n",
        "y = raw_iop_csv['p_label']"
      ],
      "metadata": {
        "id": "IEpLMvmt7FHH"
      },
      "execution_count": null,
      "outputs": []
    },
    {
      "cell_type": "code",
      "source": [
        "from sklearn.model_selection import train_test_split\n",
        "\n",
        "X_train, X_test, y_train, y_test = train_test_split(X, y, test_size=0.2, random_state=42)"
      ],
      "metadata": {
        "id": "VWA0rYOS81Vj"
      },
      "execution_count": null,
      "outputs": []
    },
    {
      "cell_type": "code",
      "source": [
        "from sklearn.linear_model import LogisticRegression\n",
        "\n",
        "clf = LogisticRegression(random_state=42)\n",
        "clf.fit(X_train, y_train)"
      ],
      "metadata": {
        "colab": {
          "base_uri": "https://localhost:8080/",
          "height": 220
        },
        "id": "_TXp8SJu82g1",
        "outputId": "7c5755a0-e5ac-47a4-8638-755db6944d86"
      },
      "execution_count": null,
      "outputs": [
        {
          "output_type": "stream",
          "name": "stderr",
          "text": [
            "/usr/local/lib/python3.10/dist-packages/sklearn/linear_model/_logistic.py:458: ConvergenceWarning: lbfgs failed to converge (status=1):\n",
            "STOP: TOTAL NO. of ITERATIONS REACHED LIMIT.\n",
            "\n",
            "Increase the number of iterations (max_iter) or scale the data as shown in:\n",
            "    https://scikit-learn.org/stable/modules/preprocessing.html\n",
            "Please also refer to the documentation for alternative solver options:\n",
            "    https://scikit-learn.org/stable/modules/linear_model.html#logistic-regression\n",
            "  n_iter_i = _check_optimize_result(\n"
          ]
        },
        {
          "output_type": "execute_result",
          "data": {
            "text/plain": [
              "LogisticRegression(random_state=42)"
            ],
            "text/html": [
              "<style>#sk-container-id-1 {color: black;background-color: white;}#sk-container-id-1 pre{padding: 0;}#sk-container-id-1 div.sk-toggleable {background-color: white;}#sk-container-id-1 label.sk-toggleable__label {cursor: pointer;display: block;width: 100%;margin-bottom: 0;padding: 0.3em;box-sizing: border-box;text-align: center;}#sk-container-id-1 label.sk-toggleable__label-arrow:before {content: \"▸\";float: left;margin-right: 0.25em;color: #696969;}#sk-container-id-1 label.sk-toggleable__label-arrow:hover:before {color: black;}#sk-container-id-1 div.sk-estimator:hover label.sk-toggleable__label-arrow:before {color: black;}#sk-container-id-1 div.sk-toggleable__content {max-height: 0;max-width: 0;overflow: hidden;text-align: left;background-color: #f0f8ff;}#sk-container-id-1 div.sk-toggleable__content pre {margin: 0.2em;color: black;border-radius: 0.25em;background-color: #f0f8ff;}#sk-container-id-1 input.sk-toggleable__control:checked~div.sk-toggleable__content {max-height: 200px;max-width: 100%;overflow: auto;}#sk-container-id-1 input.sk-toggleable__control:checked~label.sk-toggleable__label-arrow:before {content: \"▾\";}#sk-container-id-1 div.sk-estimator input.sk-toggleable__control:checked~label.sk-toggleable__label {background-color: #d4ebff;}#sk-container-id-1 div.sk-label input.sk-toggleable__control:checked~label.sk-toggleable__label {background-color: #d4ebff;}#sk-container-id-1 input.sk-hidden--visually {border: 0;clip: rect(1px 1px 1px 1px);clip: rect(1px, 1px, 1px, 1px);height: 1px;margin: -1px;overflow: hidden;padding: 0;position: absolute;width: 1px;}#sk-container-id-1 div.sk-estimator {font-family: monospace;background-color: #f0f8ff;border: 1px dotted black;border-radius: 0.25em;box-sizing: border-box;margin-bottom: 0.5em;}#sk-container-id-1 div.sk-estimator:hover {background-color: #d4ebff;}#sk-container-id-1 div.sk-parallel-item::after {content: \"\";width: 100%;border-bottom: 1px solid gray;flex-grow: 1;}#sk-container-id-1 div.sk-label:hover label.sk-toggleable__label {background-color: #d4ebff;}#sk-container-id-1 div.sk-serial::before {content: \"\";position: absolute;border-left: 1px solid gray;box-sizing: border-box;top: 0;bottom: 0;left: 50%;z-index: 0;}#sk-container-id-1 div.sk-serial {display: flex;flex-direction: column;align-items: center;background-color: white;padding-right: 0.2em;padding-left: 0.2em;position: relative;}#sk-container-id-1 div.sk-item {position: relative;z-index: 1;}#sk-container-id-1 div.sk-parallel {display: flex;align-items: stretch;justify-content: center;background-color: white;position: relative;}#sk-container-id-1 div.sk-item::before, #sk-container-id-1 div.sk-parallel-item::before {content: \"\";position: absolute;border-left: 1px solid gray;box-sizing: border-box;top: 0;bottom: 0;left: 50%;z-index: -1;}#sk-container-id-1 div.sk-parallel-item {display: flex;flex-direction: column;z-index: 1;position: relative;background-color: white;}#sk-container-id-1 div.sk-parallel-item:first-child::after {align-self: flex-end;width: 50%;}#sk-container-id-1 div.sk-parallel-item:last-child::after {align-self: flex-start;width: 50%;}#sk-container-id-1 div.sk-parallel-item:only-child::after {width: 0;}#sk-container-id-1 div.sk-dashed-wrapped {border: 1px dashed gray;margin: 0 0.4em 0.5em 0.4em;box-sizing: border-box;padding-bottom: 0.4em;background-color: white;}#sk-container-id-1 div.sk-label label {font-family: monospace;font-weight: bold;display: inline-block;line-height: 1.2em;}#sk-container-id-1 div.sk-label-container {text-align: center;}#sk-container-id-1 div.sk-container {/* jupyter's `normalize.less` sets `[hidden] { display: none; }` but bootstrap.min.css set `[hidden] { display: none !important; }` so we also need the `!important` here to be able to override the default hidden behavior on the sphinx rendered scikit-learn.org. See: https://github.com/scikit-learn/scikit-learn/issues/21755 */display: inline-block !important;position: relative;}#sk-container-id-1 div.sk-text-repr-fallback {display: none;}</style><div id=\"sk-container-id-1\" class=\"sk-top-container\"><div class=\"sk-text-repr-fallback\"><pre>LogisticRegression(random_state=42)</pre><b>In a Jupyter environment, please rerun this cell to show the HTML representation or trust the notebook. <br />On GitHub, the HTML representation is unable to render, please try loading this page with nbviewer.org.</b></div><div class=\"sk-container\" hidden><div class=\"sk-item\"><div class=\"sk-estimator sk-toggleable\"><input class=\"sk-toggleable__control sk-hidden--visually\" id=\"sk-estimator-id-1\" type=\"checkbox\" checked><label for=\"sk-estimator-id-1\" class=\"sk-toggleable__label sk-toggleable__label-arrow\">LogisticRegression</label><div class=\"sk-toggleable__content\"><pre>LogisticRegression(random_state=42)</pre></div></div></div></div></div>"
            ]
          },
          "metadata": {},
          "execution_count": 12
        }
      ]
    },
    {
      "cell_type": "code",
      "source": [
        "from sklearn.metrics import accuracy_score, precision_score, recall_score, f1_score\n",
        "\n",
        "y_pred = clf.predict(X_test)\n",
        "\n",
        "accuracy = accuracy_score(y_test, y_pred)\n",
        "precision = precision_score(y_test, y_pred)\n",
        "recall = recall_score(y_test, y_pred)\n",
        "f1 = f1_score(y_test, y_pred)\n",
        "\n",
        "print('Accuracy:', accuracy)\n",
        "print('Precision:', precision)\n",
        "print('Recall:', recall)\n",
        "print('F1 Score:', f1)"
      ],
      "metadata": {
        "colab": {
          "base_uri": "https://localhost:8080/"
        },
        "id": "rL595uw387Dj",
        "outputId": "992da55a-1ebd-440e-833a-c92026e035e4"
      },
      "execution_count": null,
      "outputs": [
        {
          "output_type": "stream",
          "name": "stdout",
          "text": [
            "Accuracy: 0.9151251360174102\n",
            "Precision: 0.9334811529933481\n",
            "Recall: 0.8976545842217484\n",
            "F1 Score: 0.9152173913043479\n"
          ]
        }
      ]
    },
    {
      "cell_type": "code",
      "source": [
        "test_text=\"WASHINGTON—Calling the elaborate heist a surefire way to keep unemployment rates low while combating inflation, Treasury Secretary Janet Yellen unveiled a plan Wednesday to boost the U.S. economy by stealing the largest gem-quality diamond ever found. “The Cullinan Diamond has been behind lock and key in England for years, but thanks to a vulnerability that my team found in their ventilation system, it’s the perfect solution to widespread indicators of suppressed consumer sentiment,” said Yellen, who appeared in an all-black skintight outfit as she described the laser grid system, pressure-activated tiles, and ex-Mossad security force that protect the 3,106-carat gem in the Tower of London. “We sell this baby on the black market, and we knock out our sovereign debt in one fell swoop. I’ve already recruited Johnny Andrizi, the best safecracker in the business, fresh out of a stint in Rikers. We’ve got Haoyu Li, a Chinese contortionist. And then there’s Fed chair Jerome Powell, who specializes in liquidity requirements and economic stress tests. He’s only on hand if shit goes totally off the rails.” At press time, a stunned Yellen had reportedly lifted the glass containing the diamond to find it empty except for an ace of spades, the calling card of Japanese finance minister Shunichi Suzuki.\""
      ],
      "metadata": {
        "id": "-E_AO4hd9ehs"
      },
      "execution_count": null,
      "outputs": []
    },
    {
      "cell_type": "code",
      "source": [
        "pre_test_text=preprocess_text(test_text)\n",
        "pre_test_text=vectorizer.transform([pre_test_text])\n",
        "pre_test_text"
      ],
      "metadata": {
        "colab": {
          "base_uri": "https://localhost:8080/"
        },
        "id": "rJDlX5Dr9kFE",
        "outputId": "ebaac6b0-81ab-4889-fad6-c211c4eb7ee3"
      },
      "execution_count": null,
      "outputs": [
        {
          "output_type": "execute_result",
          "data": {
            "text/plain": [
              "<1x47113 sparse matrix of type '<class 'numpy.int64'>'\n",
              "\twith 111 stored elements in Compressed Sparse Row format>"
            ]
          },
          "metadata": {},
          "execution_count": 15
        }
      ]
    },
    {
      "cell_type": "code",
      "source": [
        "clf.predict_proba(pre_test_text)"
      ],
      "metadata": {
        "colab": {
          "base_uri": "https://localhost:8080/"
        },
        "id": "d6qrxwZ79vpN",
        "outputId": "2d909e2e-b435-4676-ae40-ddf54006fe4b"
      },
      "execution_count": null,
      "outputs": [
        {
          "output_type": "execute_result",
          "data": {
            "text/plain": [
              "array([[0.95777983, 0.04222017]])"
            ]
          },
          "metadata": {},
          "execution_count": 16
        }
      ]
    },
    {
      "cell_type": "code",
      "source": [
        "test_text=\"Columbia University canceled in-person classes, police arrested dozens of protesters at Yale and New York universities, and pro-Palestinian demonstrators set up encampments at other colleges Monday as tensions flared again on campuses across the country over the Israel-Gaza war. Students at many schools are escalating protests over the war, living in tents on campus, disrupting university events, and risking and provoking arrest, leading to a growing sense of chaos and crackdown at colleges in the waning days of the academic year. College leaders are facing intense scrutiny over whether they are doing enough to protect students, faculty and staff against alleged antisemitism and other bias since the Oct. 7 Hamas attack and resulting war — even as they confront scathing criticism from those who say they’re denying students’ right to speak out and censoring political protests. The latest protests — stretching across an array of private and public colleges and universities — come days after more than 100 demonstrators were arrested at Columbia, sparking acts of solidarity at other institutions including Boston University and the University of North Carolina at Chapel Hill. Encampments and other protests also sprang up at campuses such as the Massachusetts Institute of Technology and the University of California at Berkeley. At New York University late Monday, officers from the NYPD made arrests at Gould Plaza after school administrators requested their assistance, according to police spokesperson Shaimaa Alkhafajee, who said she did not know how many people had been arrested. NYU faculty were also among those arrested, according to group NYU Faculty for Justice in Palestine. Videos on social media showed dozens of officers in tense confrontations with protesters. Some officers tossed tents, and others grappled with demonstrators. Videos also showed police loading people, whose hands were zip-tied behind their backs, onto correctional buses. Officers said over a megaphone that protesters were arrested for 'disorderly conduct,' according to the Washington Square News, NYU’s independent student newspaper. NYU spokesman John Beckman said that about 50 protesters were demonstrating 'without authorization' Monday morning and the university blocked access to the plaza to prevent more people joining. The barriers were breached early in the afternoon by additional protesters, 'many of whom we believe were not affiliated with NYU,' who exhibited 'disorderly, disruptive, and antagonizing behavior,' and refused to leave when told the protests would be disbanded, he said. The university then requested assistance from the NYPD, he said, adding there were “several antisemitic incidents reported.' In a letter shared by NYPD deputy commissioner Kaz Daughtry, the university asked the police department to “take enforcement action” up to and including arrests to clear the protesters, all of whom they considered “to be trespassers.” Earlier in the day, Yale said 47 students were arrested at Beinecke Plaza and will be referred for disciplinary action, potentially including suspension. The school said it made repeated efforts over the weekend to talk to protesters, offered them meetings with trustees and warned of arrests before the Monday morning action. Police released the detained protesters. “I was deeply saddened that the call for civil discourse and peaceful protest I issued was not heeded,” Yale President Peter Salovey said in a message to the campus community. “We then became aware of police reports identifying harmful acts and threatening language used against individuals at or near the protest sites,” he said. “Some of the aggressors are believed to be members of the Yale community while others were outsiders. We will not tolerate such behavior nor any open violation of Yale policies that interrupts academic and campus operations.' \""
      ],
      "metadata": {
        "id": "Albv0Nf2_aoH"
      },
      "execution_count": null,
      "outputs": []
    },
    {
      "cell_type": "code",
      "source": [
        "pre_test_text=preprocess_text(test_text)\n",
        "pre_test_text=vectorizer.transform([pre_test_text])\n",
        "pre_test_text"
      ],
      "metadata": {
        "colab": {
          "base_uri": "https://localhost:8080/"
        },
        "id": "4S5HU77hCa7t",
        "outputId": "6665f372-ea07-4769-dce7-f12e72cf048a"
      },
      "execution_count": null,
      "outputs": [
        {
          "output_type": "execute_result",
          "data": {
            "text/plain": [
              "<1x47113 sparse matrix of type '<class 'numpy.int64'>'\n",
              "\twith 224 stored elements in Compressed Sparse Row format>"
            ]
          },
          "metadata": {},
          "execution_count": 18
        }
      ]
    },
    {
      "cell_type": "code",
      "source": [
        "clf.predict_proba(pre_test_text)"
      ],
      "metadata": {
        "colab": {
          "base_uri": "https://localhost:8080/"
        },
        "id": "_wKGXtgtCcPV",
        "outputId": "449c0f7b-300e-4adc-cf8c-468cf8e78b82"
      },
      "execution_count": null,
      "outputs": [
        {
          "output_type": "execute_result",
          "data": {
            "text/plain": [
              "array([[0.15523581, 0.84476419]])"
            ]
          },
          "metadata": {},
          "execution_count": 19
        }
      ]
    },
    {
      "cell_type": "code",
      "source": [
        "test_text=\"CLAIM: New York Judge Juan M. Merchan told former President Donald Trump on the first day of his hush money case that he can’t attend his son Barron’s May 17 high school graduation because he must be in court that day. THE FACTS: Merchan said on Monday that he was not prepared to rule on a request that court be adjourned on May 17 so that Trump can attend the ceremony. He said his decision will depend on how the trial proceeds. Despite that, Trump said as he left court following the trial’s first day, “it looks like the judge will not let me go to the graduation of my son.” Moments later, he expressed displeasure because the trial made it so “that I can’t go to my son’s graduation” and a number of other events, including a U.S. Supreme Court hearing and campaign stops. Trump then furthered his criticism of the judge on his Truth Social platform, writing in one post both that he “will likely not be allowed to attend” and that “the Judge, Juan Merchan, is preventing me from proudly attending my son’s Graduation.” He wrote in another post less than two hours later that he is “being prohibited from attending.”\""
      ],
      "metadata": {
        "id": "11qFrhBgxmNP"
      },
      "execution_count": null,
      "outputs": []
    },
    {
      "cell_type": "code",
      "source": [
        "pre_test_text=preprocess_text(test_text)\n",
        "pre_test_text=vectorizer.transform([pre_test_text])\n",
        "pre_test_text"
      ],
      "metadata": {
        "colab": {
          "base_uri": "https://localhost:8080/"
        },
        "outputId": "2f5b29bd-3245-4753-a9bd-86bd1d3c2347",
        "id": "U2Reo5YOxmNQ"
      },
      "execution_count": null,
      "outputs": [
        {
          "output_type": "execute_result",
          "data": {
            "text/plain": [
              "<1x47113 sparse matrix of type '<class 'numpy.int64'>'\n",
              "\twith 73 stored elements in Compressed Sparse Row format>"
            ]
          },
          "metadata": {},
          "execution_count": 51
        }
      ]
    },
    {
      "cell_type": "code",
      "source": [
        "clf.predict_proba(pre_test_text)"
      ],
      "metadata": {
        "colab": {
          "base_uri": "https://localhost:8080/"
        },
        "outputId": "caf59235-efe5-45bb-a7f5-146589d7a9b2",
        "id": "-eSFfkqnxmNR"
      },
      "execution_count": null,
      "outputs": [
        {
          "output_type": "execute_result",
          "data": {
            "text/plain": [
              "array([[0.04197878, 0.95802122]])"
            ]
          },
          "metadata": {},
          "execution_count": 52
        }
      ]
    },
    {
      "cell_type": "markdown",
      "source": [
        "# LLM Analysis"
      ],
      "metadata": {
        "id": "IpWtJAjsGty9"
      }
    },
    {
      "cell_type": "code",
      "source": [
        "KEY=\"\""
      ],
      "metadata": {
        "id": "8sJdDUlwGtPo"
      },
      "execution_count": null,
      "outputs": []
    },
    {
      "cell_type": "code",
      "source": [
        "!pip install -U -q google.generativeai"
      ],
      "metadata": {
        "id": "V_9e_nexHwvw"
      },
      "execution_count": null,
      "outputs": []
    },
    {
      "cell_type": "markdown",
      "source": [
        "## SE Study"
      ],
      "metadata": {
        "id": "EZSqUPQD4_pb"
      }
    },
    {
      "cell_type": "code",
      "source": [
        "import google.generativeai as genai\n",
        "\n",
        "#GOOGLE_API_KEY=userdata.get('GOOGLE_API_KEY')\n",
        "genai.configure(api_key=KEY)"
      ],
      "metadata": {
        "id": "b-fmH1J8IioT"
      },
      "execution_count": null,
      "outputs": []
    },
    {
      "cell_type": "code",
      "source": [
        "BOT_PROMPT=\"\"\"\\You are a fact checker system, everytime the user give you a text you are gonna response with links from commonly trusted webs to let the user know more about the text\n",
        "\"\"\""
      ],
      "metadata": {
        "id": "r2704tVHOi1u"
      },
      "execution_count": null,
      "outputs": []
    },
    {
      "cell_type": "code",
      "source": [
        "# Toggle this to switch between Gemini 1.5 with a system instruction, or Gemini 1.0 Pro.\n",
        "use_sys_inst = False\n",
        "\n",
        "model_name = 'gemini-1.5-pro-latest' if use_sys_inst else 'gemini-1.0-pro-latest'\n",
        "\n",
        "if use_sys_inst:\n",
        "  model = genai.GenerativeModel(\n",
        "      model_name, system_instruction=BOT_PROMPT)\n",
        "  convo = model.start_chat(enable_automatic_function_calling=True)\n",
        "\n",
        "else:\n",
        "  model = genai.GenerativeModel(model_name)\n",
        "  convo = model.start_chat(\n",
        "      history=[\n",
        "          {'role': 'user', 'parts': [BOT_PROMPT]},\n",
        "          {'role': 'model', 'parts': ['OK I understand. I will do my best!']}\n",
        "        ],\n",
        "      enable_automatic_function_calling=True)"
      ],
      "metadata": {
        "id": "e7atllcFOdac"
      },
      "execution_count": null,
      "outputs": []
    },
    {
      "cell_type": "code",
      "source": [
        "convo.send_message(test_text)\n"
      ],
      "metadata": {
        "colab": {
          "base_uri": "https://localhost:8080/",
          "height": 235
        },
        "id": "iGOKrERaTsmm",
        "outputId": "b54bab80-4eca-4175-ee4f-435218169894"
      },
      "execution_count": null,
      "outputs": [
        {
          "output_type": "execute_result",
          "data": {
            "text/plain": [
              "response:\n",
              "GenerateContentResponse(\n",
              "    done=True,\n",
              "    iterator=None,\n",
              "    result=glm.GenerateContentResponse({'candidates': [{'content': {'parts': [{'text': '### **Here are some links to commonly trusted websites that you can use to learn more about the protests on college campuses over the Israel-Gaza war:**\\n\\n* [The New York Times](https://www.nytimes.com/2021/05/17/us/politics/columbia-yale-protests-israel-gaza.html)\\n* [The Washington Post](https://www.washingtonpost.com/education/2021/05/17/columbia-yale-protests-israel-gaza/)\\n* [The Guardian](https://www.theguardian.com/us-news/2021/may/17/columbia-university-cancels-classes-as-protests-over-israel-gaza-conflict-intensify)\\n* [CNN](https://www.cnn.com/2021/05/17/us/columbia-yale-protests-arrests/index.html)\\n* [BBC News](https://www.bbc.com/news/world-us-canada-57164734)'}], 'role': 'model'}, 'finish_reason': 1, 'index': 0, 'safety_ratings': [{'category': 9, 'probability': 1, 'blocked': False}, {'category': 8, 'probability': 1, 'blocked': False}, {'category': 7, 'probability': 1, 'blocked': False}, {'category': 10, 'probability': 1, 'blocked': False}], 'token_count': 0, 'grounding_attributions': []}]}),\n",
              ")"
            ]
          },
          "metadata": {},
          "execution_count": 25
        }
      ]
    },
    {
      "cell_type": "code",
      "source": [],
      "metadata": {
        "id": "d61eZDVbUGNy"
      },
      "execution_count": null,
      "outputs": []
    },
    {
      "cell_type": "markdown",
      "source": [
        "## RAG Study"
      ],
      "metadata": {
        "id": "7gH0gnAV47ay"
      }
    },
    {
      "cell_type": "code",
      "source": [
        "!pip install pypdf"
      ],
      "metadata": {
        "colab": {
          "base_uri": "https://localhost:8080/"
        },
        "id": "0t8eChFD5OT_",
        "outputId": "8ec71240-6744-49fc-ce08-4abcf370efbd"
      },
      "execution_count": null,
      "outputs": [
        {
          "output_type": "stream",
          "name": "stdout",
          "text": [
            "Collecting pypdf\n",
            "  Downloading pypdf-4.2.0-py3-none-any.whl (290 kB)\n",
            "\u001b[2K     \u001b[90m━━━━━━━━━━━━━━━━━━━━━━━━━━━━━━━━━━━━━━━━\u001b[0m \u001b[32m290.4/290.4 kB\u001b[0m \u001b[31m3.8 MB/s\u001b[0m eta \u001b[36m0:00:00\u001b[0m\n",
            "\u001b[?25hRequirement already satisfied: typing_extensions>=4.0 in /usr/local/lib/python3.10/dist-packages (from pypdf) (4.11.0)\n",
            "Installing collected packages: pypdf\n",
            "Successfully installed pypdf-4.2.0\n"
          ]
        }
      ]
    },
    {
      "cell_type": "code",
      "source": [
        "from pypdf import PdfReader\n",
        "\n",
        "def load_pdf(file_path):\n",
        "    \"\"\"\n",
        "    Reads the text content from a PDF file and returns it as a single string.\n",
        "\n",
        "    Parameters:\n",
        "    - file_path (str): The file path to the PDF file.\n",
        "\n",
        "    Returns:\n",
        "    - str: The concatenated text content of all pages in the PDF.\n",
        "    \"\"\"\n",
        "    # Logic to read pdf\n",
        "    reader = PdfReader(file_path)\n",
        "\n",
        "    # Loop over each page and store it in a variable\n",
        "    text = \"\"\n",
        "    for page in reader.pages:\n",
        "        text += page.extract_text()\n",
        "\n",
        "    return text\n",
        "\n",
        "# replace the path with your file path\n",
        "pdf_text = load_pdf(file_path=\"/content/Introduction to Machine Learning with Python ( PDFDrive.com )-min.pdf\")"
      ],
      "metadata": {
        "id": "SVpYyuRf4-b1",
        "colab": {
          "base_uri": "https://localhost:8080/",
          "height": 333
        },
        "outputId": "b6724986-ac0a-49e5-fb27-c41f2701204c"
      },
      "execution_count": null,
      "outputs": [
        {
          "output_type": "error",
          "ename": "FileNotFoundError",
          "evalue": "[Errno 2] No such file or directory: '/content/Introduction to Machine Learning with Python ( PDFDrive.com )-min.pdf'",
          "traceback": [
            "\u001b[0;31m---------------------------------------------------------------------------\u001b[0m",
            "\u001b[0;31mFileNotFoundError\u001b[0m                         Traceback (most recent call last)",
            "\u001b[0;32m<ipython-input-27-c9ad8f448732>\u001b[0m in \u001b[0;36m<cell line: 24>\u001b[0;34m()\u001b[0m\n\u001b[1;32m     22\u001b[0m \u001b[0;34m\u001b[0m\u001b[0m\n\u001b[1;32m     23\u001b[0m \u001b[0;31m# replace the path with your file path\u001b[0m\u001b[0;34m\u001b[0m\u001b[0;34m\u001b[0m\u001b[0m\n\u001b[0;32m---> 24\u001b[0;31m \u001b[0mpdf_text\u001b[0m \u001b[0;34m=\u001b[0m \u001b[0mload_pdf\u001b[0m\u001b[0;34m(\u001b[0m\u001b[0mfile_path\u001b[0m\u001b[0;34m=\u001b[0m\u001b[0;34m\"/content/Introduction to Machine Learning with Python ( PDFDrive.com )-min.pdf\"\u001b[0m\u001b[0;34m)\u001b[0m\u001b[0;34m\u001b[0m\u001b[0;34m\u001b[0m\u001b[0m\n\u001b[0m",
            "\u001b[0;32m<ipython-input-27-c9ad8f448732>\u001b[0m in \u001b[0;36mload_pdf\u001b[0;34m(file_path)\u001b[0m\n\u001b[1;32m     12\u001b[0m     \"\"\"\n\u001b[1;32m     13\u001b[0m     \u001b[0;31m# Logic to read pdf\u001b[0m\u001b[0;34m\u001b[0m\u001b[0;34m\u001b[0m\u001b[0m\n\u001b[0;32m---> 14\u001b[0;31m     \u001b[0mreader\u001b[0m \u001b[0;34m=\u001b[0m \u001b[0mPdfReader\u001b[0m\u001b[0;34m(\u001b[0m\u001b[0mfile_path\u001b[0m\u001b[0;34m)\u001b[0m\u001b[0;34m\u001b[0m\u001b[0;34m\u001b[0m\u001b[0m\n\u001b[0m\u001b[1;32m     15\u001b[0m \u001b[0;34m\u001b[0m\u001b[0m\n\u001b[1;32m     16\u001b[0m     \u001b[0;31m# Loop over each page and store it in a variable\u001b[0m\u001b[0;34m\u001b[0m\u001b[0;34m\u001b[0m\u001b[0m\n",
            "\u001b[0;32m/usr/local/lib/python3.10/dist-packages/pypdf/_reader.py\u001b[0m in \u001b[0;36m__init__\u001b[0;34m(self, stream, strict, password)\u001b[0m\n\u001b[1;32m    123\u001b[0m             )\n\u001b[1;32m    124\u001b[0m         \u001b[0;32mif\u001b[0m \u001b[0misinstance\u001b[0m\u001b[0;34m(\u001b[0m\u001b[0mstream\u001b[0m\u001b[0;34m,\u001b[0m \u001b[0;34m(\u001b[0m\u001b[0mstr\u001b[0m\u001b[0;34m,\u001b[0m \u001b[0mPath\u001b[0m\u001b[0;34m)\u001b[0m\u001b[0;34m)\u001b[0m\u001b[0;34m:\u001b[0m\u001b[0;34m\u001b[0m\u001b[0;34m\u001b[0m\u001b[0m\n\u001b[0;32m--> 125\u001b[0;31m             \u001b[0;32mwith\u001b[0m \u001b[0mopen\u001b[0m\u001b[0;34m(\u001b[0m\u001b[0mstream\u001b[0m\u001b[0;34m,\u001b[0m \u001b[0;34m\"rb\"\u001b[0m\u001b[0;34m)\u001b[0m \u001b[0;32mas\u001b[0m \u001b[0mfh\u001b[0m\u001b[0;34m:\u001b[0m\u001b[0;34m\u001b[0m\u001b[0;34m\u001b[0m\u001b[0m\n\u001b[0m\u001b[1;32m    126\u001b[0m                 \u001b[0mstream\u001b[0m \u001b[0;34m=\u001b[0m \u001b[0mBytesIO\u001b[0m\u001b[0;34m(\u001b[0m\u001b[0mfh\u001b[0m\u001b[0;34m.\u001b[0m\u001b[0mread\u001b[0m\u001b[0;34m(\u001b[0m\u001b[0;34m)\u001b[0m\u001b[0;34m)\u001b[0m\u001b[0;34m\u001b[0m\u001b[0;34m\u001b[0m\u001b[0m\n\u001b[1;32m    127\u001b[0m         \u001b[0mself\u001b[0m\u001b[0;34m.\u001b[0m\u001b[0mread\u001b[0m\u001b[0;34m(\u001b[0m\u001b[0mstream\u001b[0m\u001b[0;34m)\u001b[0m\u001b[0;34m\u001b[0m\u001b[0;34m\u001b[0m\u001b[0m\n",
            "\u001b[0;31mFileNotFoundError\u001b[0m: [Errno 2] No such file or directory: '/content/Introduction to Machine Learning with Python ( PDFDrive.com )-min.pdf'"
          ]
        }
      ]
    },
    {
      "cell_type": "code",
      "source": [
        "import re\n",
        "\n",
        "def split_text(text: str):\n",
        "    \"\"\"\n",
        "    Splits a text string into a list of non-empty substrings based on the specified pattern.\n",
        "    The \"\\n \\n\" pattern will split the document para by para\n",
        "    Parameters:\n",
        "    - text (str): The input text to be split.\n",
        "\n",
        "    Returns:\n",
        "    - List[str]: A list containing non-empty substrings obtained by splitting the input text.\n",
        "\n",
        "    \"\"\"\n",
        "    split_text = re.split('\\n \\n', text)\n",
        "    return [i for i in split_text if i != \"\"]\n",
        "\n",
        "chunked_text = split_text(text=pdf_text)"
      ],
      "metadata": {
        "id": "bKztwY635zaE"
      },
      "execution_count": null,
      "outputs": []
    },
    {
      "cell_type": "code",
      "source": [
        "!pip install chromadb"
      ],
      "metadata": {
        "id": "0i5pgFdI6Lvs"
      },
      "execution_count": null,
      "outputs": []
    },
    {
      "cell_type": "code",
      "source": [
        "import google.generativeai as genai\n",
        "from chromadb import Documents, EmbeddingFunction, Embeddings\n",
        "import os\n",
        "\n",
        "class GeminiEmbeddingFunction(EmbeddingFunction):\n",
        "    \"\"\"\n",
        "    Custom embedding function using the Gemini AI API for document retrieval.\n",
        "\n",
        "    This class extends the EmbeddingFunction class and implements the __call__ method\n",
        "    to generate embeddings for a given set of documents using the Gemini AI API.\n",
        "\n",
        "    Parameters:\n",
        "    - input (Documents): A collection of documents to be embedded.\n",
        "\n",
        "    Returns:\n",
        "    - Embeddings: Embeddings generated for the input documents.\n",
        "    \"\"\"\n",
        "    def __call__(self, input: Documents) -> Embeddings:\n",
        "        gemini_api_key = KEY\n",
        "        if not gemini_api_key:\n",
        "            raise ValueError(\"Gemini API Key not provided. Please provide GEMINI_API_KEY as an environment variable\")\n",
        "        genai.configure(api_key=gemini_api_key)\n",
        "        model = \"models/embedding-001\"\n",
        "        title = \"Custom query\"\n",
        "        return genai.embed_content(model=model,\n",
        "                                   content=input,\n",
        "                                   task_type=\"retrieval_document\",\n",
        "                                   title=title)[\"embedding\"]"
      ],
      "metadata": {
        "id": "pqhZXc4M6A4U"
      },
      "execution_count": null,
      "outputs": []
    },
    {
      "cell_type": "code",
      "source": [
        "import chromadb\n",
        "from typing import List\n",
        "def create_chroma_db(documents:List, path:str, name:str):\n",
        "    \"\"\"\n",
        "    Creates a Chroma database using the provided documents, path, and collection name.\n",
        "\n",
        "    Parameters:\n",
        "    - documents: An iterable of documents to be added to the Chroma database.\n",
        "    - path (str): The path where the Chroma database will be stored.\n",
        "    - name (str): The name of the collection within the Chroma database.\n",
        "\n",
        "    Returns:\n",
        "    - Tuple[chromadb.Collection, str]: A tuple containing the created Chroma Collection and its name.\n",
        "    \"\"\"\n",
        "    chroma_client = chromadb.PersistentClient(path=path)\n",
        "    db = chroma_client.create_collection(name=name, embedding_function=GeminiEmbeddingFunction())\n",
        "\n",
        "    for i, d in enumerate(documents):\n",
        "        db.add(documents=d, ids=str(i))\n",
        "\n",
        "    return db, name\n",
        "\n",
        "db,name =create_chroma_db(documents=chunked_text,\n",
        "                          path=\"/content\", #replace with your path\n",
        "                          name=\"rag_experiment\")"
      ],
      "metadata": {
        "id": "BqBk0DrF7Dff"
      },
      "execution_count": null,
      "outputs": []
    },
    {
      "cell_type": "code",
      "source": [
        "def load_chroma_collection(path, name):\n",
        "    \"\"\"\n",
        "    Loads an existing Chroma collection from the specified path with the given name.\n",
        "\n",
        "    Parameters:\n",
        "    - path (str): The path where the Chroma database is stored.\n",
        "    - name (str): The name of the collection within the Chroma database.\n",
        "\n",
        "    Returns:\n",
        "    - chromadb.Collection: The loaded Chroma Collection.\n",
        "    \"\"\"\n",
        "    chroma_client = chromadb.PersistentClient(path=path)\n",
        "    db = chroma_client.get_collection(name=name, embedding_function=GeminiEmbeddingFunction())\n",
        "\n",
        "    return db\n",
        "\n",
        "db=load_chroma_collection(path=\"/content\", name=\"rag_experiment\")"
      ],
      "metadata": {
        "id": "uESbIl5A7hXJ"
      },
      "execution_count": null,
      "outputs": []
    },
    {
      "cell_type": "code",
      "source": [
        "def get_relevant_passage(query, db, n_results):\n",
        "  passage = db.query(query_texts=[query], n_results=n_results)['documents'][0]\n",
        "  return passage\n",
        "\n",
        "#Example usage\n",
        "relevant_text = get_relevant_passage(query=\"Classification models\",db=db,n_results=3)"
      ],
      "metadata": {
        "id": "UryBSrus7knQ"
      },
      "execution_count": null,
      "outputs": []
    },
    {
      "cell_type": "code",
      "source": [
        "relevant_text"
      ],
      "metadata": {
        "id": "pDr06n9a8cxq"
      },
      "execution_count": null,
      "outputs": []
    },
    {
      "cell_type": "code",
      "source": [
        "def make_rag_prompt(query, relevant_passage):\n",
        "  escaped = relevant_passage.replace(\"'\", \"\").replace('\"', \"\").replace(\"\\n\", \" \")\n",
        "  prompt = (\"\"\"You are a helpful and informative bot that answers questions using text from the reference passage included below. \\\n",
        "  Be sure to respond in a complete sentence, being comprehensive, including all relevant background information. \\\n",
        "  However, you are talking to a non-technical audience, so be sure to break down complicated concepts and \\\n",
        "  strike a friendly and converstional tone. \\\n",
        "  If the passage is irrelevant to the answer, you may ignore it.\n",
        "  QUESTION: '{query}'\n",
        "  PASSAGE: '{relevant_passage}'\n",
        "\n",
        "  ANSWER:\n",
        "  \"\"\").format(query=query, relevant_passage=escaped)\n",
        "\n",
        "  return prompt"
      ],
      "metadata": {
        "id": "I41P6_lw8GZ5"
      },
      "execution_count": null,
      "outputs": []
    },
    {
      "cell_type": "code",
      "source": [
        "import google.generativeai as genai\n",
        "def generate_answer(prompt):\n",
        "    gemini_api_key = KEY\n",
        "    if not gemini_api_key:\n",
        "        raise ValueError(\"Gemini API Key not provided. Please provide GEMINI_API_KEY as an environment variable\")\n",
        "\n",
        "    use_sys_inst = False\n",
        "\n",
        "    model_name = 'gemini-1.5-pro-latest' if use_sys_inst else 'gemini-1.0-pro-latest'\n",
        "\n",
        "    if use_sys_inst:\n",
        "      model = genai.GenerativeModel(\n",
        "          model_name, system_instruction=prompt)\n",
        "      convo = model.start_chat(enable_automatic_function_calling=True)\n",
        "\n",
        "    else:\n",
        "      model = genai.GenerativeModel(model_name)\n",
        "      convo = model.start_chat(\n",
        "          history=[\n",
        "              {'role': 'user', 'parts': [prompt]},\n",
        "              {'role': 'model', 'parts': ['OK I understand. I will do my best!']}\n",
        "            ],\n",
        "          enable_automatic_function_calling=True)\n",
        "\n",
        "\n",
        "    #answer = model.generate_content(prompt)\n",
        "    return convo.send_message(prompt) #answer.text"
      ],
      "metadata": {
        "id": "EXkbtzNJ8PVQ"
      },
      "execution_count": null,
      "outputs": []
    },
    {
      "cell_type": "code",
      "source": [
        "def give_answer(db,query):\n",
        "    #retrieve top 3 relevant text chunks\n",
        "    relevant_text = get_relevant_passage(query,db,n_results=3)\n",
        "    prompt = make_rag_prompt(query,\n",
        "                             relevant_passage=\"\".join(relevant_text)) # joining the relevant chunks to create a single passage\n",
        "    answer = generate_answer(prompt)\n",
        "\n",
        "    return answer\n",
        "\n",
        "answer = give_answer(db,query=\"What is the difference between a classification model and a clustering model\")\n",
        "print(answer)"
      ],
      "metadata": {
        "id": "hop6MKAF8fdY"
      },
      "execution_count": null,
      "outputs": []
    }
  ]
}